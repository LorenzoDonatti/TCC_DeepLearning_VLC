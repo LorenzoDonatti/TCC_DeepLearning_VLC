{
  "cells": [
    {
      "cell_type": "markdown",
      "metadata": {
        "id": "view-in-github",
        "colab_type": "text"
      },
      "source": [
        "<a href=\"https://colab.research.google.com/github/LorenzoDonatti/TCC_DeepLearning_VLC/blob/main/OOK_80_TCC.ipynb\" target=\"_parent\"><img src=\"https://colab.research.google.com/assets/colab-badge.svg\" alt=\"Open In Colab\"/></a>"
      ]
    },
    {
      "cell_type": "markdown",
      "metadata": {
        "id": "eeIpoWvsiyjO"
      },
      "source": [
        "# **ALGORITMOS DE DEEP LEARNING EM DATASETS DE COMUNICAÇÃO POR LUZ VISIVEL**\n",
        "\n",
        "---\n",
        "\n",
        "\n",
        "TRABALHO DE CONCLUSÃO DE CURSO DO ALUNO LORENZO MOREIRA DONATTI."
      ]
    },
    {
      "cell_type": "markdown",
      "metadata": {
        "id": "LYZE5qEGypBz"
      },
      "source": [
        "# Funções que baixam arquivos Paralelamente\n",
        "\n",
        "---\n",
        "\n",
        "\n",
        "\n",
        "Caso nao seja possível utilizar a biblioteca Gdown na pasta especificada, este metodo de download deve ser utilizado."
      ]
    },
    {
      "cell_type": "code",
      "execution_count": null,
      "metadata": {
        "colab": {
          "base_uri": "https://localhost:8080/"
        },
        "id": "zqz2UjtkncBV",
        "outputId": "a22a9ca4-d884-4575-9b43-2a6b6bad86e9"
      },
      "outputs": [
        {
          "data": {
            "application/vnd.google.colaboratory.intrinsic+json": {
              "type": "string"
            },
            "text/plain": [
              "'import requests\\nfrom multiprocessing import cpu_count\\nfrom multiprocessing.pool import ThreadPool\\n\\ndef download_paralel(args):\\n  cpus = cpu_count()\\n  results = ThreadPool(cpus - 1).imap_unordered(download_url, args)\\n\\n\\ndef download_url(args):\\n  url, output = args[0], args[1]  \\n  try:\\n    gdown.download(url, output, quiet=False, fuzzy=True)\\n  except Exception as e:\\n    print(\"Problem downloading\", e) '"
            ]
          },
          "execution_count": 1,
          "metadata": {},
          "output_type": "execute_result"
        }
      ],
      "source": [
        "'''import requests\n",
        "from multiprocessing import cpu_count\n",
        "from multiprocessing.pool import ThreadPool\n",
        "\n",
        "def download_paralel(args):\n",
        "  cpus = cpu_count()\n",
        "  results = ThreadPool(cpus - 1).imap_unordered(download_url, args)\n",
        "\n",
        "\n",
        "def download_url(args):\n",
        "  url, output = args[0], args[1]  \n",
        "  try:\n",
        "    gdown.download(url, output, quiet=False, fuzzy=True)\n",
        "  except Exception as e:\n",
        "    print(\"Problem downloading\", e) ''' \n"
      ]
    },
    {
      "cell_type": "code",
      "execution_count": null,
      "metadata": {
        "colab": {
          "base_uri": "https://localhost:8080/"
        },
        "id": "V5u4tT29msD8",
        "outputId": "10bc2cb7-ec88-423b-bbd2-31f03bf69a36"
      },
      "outputs": [
        {
          "data": {
            "application/vnd.google.colaboratory.intrinsic+json": {
              "type": "string"
            },
            "text/plain": [
              "'from scipy.io import loadmat\\nimport numpy as np\\nimport pandas as pd\\nimport gdown\\n\\nurls = [\"https://drive.google.com/file/d/1dr6tI_XffRVehcLZByUX1JG476C4Lp7G/view?usp=sharing\", \\n        \"https://drive.google.com/file/d/1klSvkJVIViRFhDbxATzmu0Q1DALoWbJ4/view?usp=sharing\",\\n        \"https://drive.google.com/file/d/1IaVRZB8PtGCjSBZNgEoV-vFtqfndNdX2/view?usp=sharing\",\\n        \"https://drive.google.com/file/d/1XeMiywqTwJvyCFNYt3d5mdBNJmYoqZgt/view?usp=sharing\",\\n        \"https://drive.google.com/file/d/1DGKYFy5Ae0rqLqBozXUDY7EuIY0cbQdP/view?usp=sharing\",\\n        \"https://drive.google.com/file/d/1vPhsrgRWkv1V21lfyfx1BjIw8u4gj3XL/view?usp=sharing\",\\n        \"https://drive.google.com/file/d/1KQn4ljEl-6RRIDtv8a0muO8XvylmtYgh/view?usp=sharing\",\\n        \"https://drive.google.com/file/d/16KNK14QYCJTLHy0ytHlUJfXgZYfEodQ6/view?usp=sharing\",\\n        \"https://drive.google.com/file/d/1hQXpC6StuXM4gJDBiWi-ciIr2IMg00fz/view?usp=sharing\",\\n        \"https://drive.google.com/file/d/1aOvbkHgneQgWCP8ee95cuL834TU2u9lO/view?usp=sharing\",\\n        \"https://drive.google.com/file/d/1XHKMqqJqw4gVSKCB-4XXSo90z-C3qszE/view?usp=sharing\",\\n        \"https://drive.google.com/file/d/1pcJh6eRnifmh6F5HxSPZGIX_Z9n-B6bz/view?usp=sharing\",\\n        \"https://drive.google.com/file/d/1k6W4NTXfZvXEVQkZQmcITILCpYiHzB8a/view?usp=sharing\",\\n        \"https://drive.google.com/file/d/1TCWdZ22pKpy73F-mp2ZrsPnSqdYSvSEa/view?usp=sharing\",\\n        \"https://drive.google.com/file/d/1Wy015sMCoJJS1b8LsvIeiOLlQsrGzalD/view?usp=sharing\",\\n        \"https://drive.google.com/file/d/1KU10g1qWy8ZG3QcJJ6Yv0ubzlZQFuYeP/view?usp=sharing\",\\n        \"https://drive.google.com/file/d/1nYBUSSelA_L0LyIhTty8GcIkT2mYnw51/view?usp=sharing\",\\n        \"https://drive.google.com/file/d/1O99b7y3nzcv5je17DTjVRfPWKKfRm7Tb/view?usp=sharing\"]\\n\\noutputs= [\"0cm.mat\", \"10cm.mat\", \"20cm.mat\", \"30cm.mat\", \"40cm.mat\", \"50cm.mat\", \"60cm.mat\", \"70cm.mat\", \"80cm.mat\", \"90cm.mat\", \"100cm.mat\", \\n          \"110cm.mat\", \"120cm.mat\", \"130cm.mat\", \"140cm.mat\", \"150cm.mat\", \"160cm.mat\", \"170cm.mat\", \"180cm.mat\", \"label.mat\"]       \\n\\ninputs = zip(urls, outputs)\\n\\ndownload_paralel(inputs)  '"
            ]
          },
          "execution_count": 2,
          "metadata": {},
          "output_type": "execute_result"
        }
      ],
      "source": [
        "############ EXEMPLO DE CELULA PARA QUANDO O GDOWN NAO CONSEGUIR ACESSO AO FOLDER####################\n",
        "############ PROCESSO MANUAL ########################\n",
        "\n",
        "'''from scipy.io import loadmat\n",
        "import numpy as np\n",
        "import pandas as pd\n",
        "import gdown\n",
        "\n",
        "urls = [\"https://drive.google.com/file/d/1dr6tI_XffRVehcLZByUX1JG476C4Lp7G/view?usp=sharing\", \n",
        "        \"https://drive.google.com/file/d/1klSvkJVIViRFhDbxATzmu0Q1DALoWbJ4/view?usp=sharing\",\n",
        "        \"https://drive.google.com/file/d/1IaVRZB8PtGCjSBZNgEoV-vFtqfndNdX2/view?usp=sharing\",\n",
        "        \"https://drive.google.com/file/d/1XeMiywqTwJvyCFNYt3d5mdBNJmYoqZgt/view?usp=sharing\",\n",
        "        \"https://drive.google.com/file/d/1DGKYFy5Ae0rqLqBozXUDY7EuIY0cbQdP/view?usp=sharing\",\n",
        "        \"https://drive.google.com/file/d/1vPhsrgRWkv1V21lfyfx1BjIw8u4gj3XL/view?usp=sharing\",\n",
        "        \"https://drive.google.com/file/d/1KQn4ljEl-6RRIDtv8a0muO8XvylmtYgh/view?usp=sharing\",\n",
        "        \"https://drive.google.com/file/d/16KNK14QYCJTLHy0ytHlUJfXgZYfEodQ6/view?usp=sharing\",\n",
        "        \"https://drive.google.com/file/d/1hQXpC6StuXM4gJDBiWi-ciIr2IMg00fz/view?usp=sharing\",\n",
        "        \"https://drive.google.com/file/d/1aOvbkHgneQgWCP8ee95cuL834TU2u9lO/view?usp=sharing\",\n",
        "        \"https://drive.google.com/file/d/1XHKMqqJqw4gVSKCB-4XXSo90z-C3qszE/view?usp=sharing\",\n",
        "        \"https://drive.google.com/file/d/1pcJh6eRnifmh6F5HxSPZGIX_Z9n-B6bz/view?usp=sharing\",\n",
        "        \"https://drive.google.com/file/d/1k6W4NTXfZvXEVQkZQmcITILCpYiHzB8a/view?usp=sharing\",\n",
        "        \"https://drive.google.com/file/d/1TCWdZ22pKpy73F-mp2ZrsPnSqdYSvSEa/view?usp=sharing\",\n",
        "        \"https://drive.google.com/file/d/1Wy015sMCoJJS1b8LsvIeiOLlQsrGzalD/view?usp=sharing\",\n",
        "        \"https://drive.google.com/file/d/1KU10g1qWy8ZG3QcJJ6Yv0ubzlZQFuYeP/view?usp=sharing\",\n",
        "        \"https://drive.google.com/file/d/1nYBUSSelA_L0LyIhTty8GcIkT2mYnw51/view?usp=sharing\",\n",
        "        \"https://drive.google.com/file/d/1O99b7y3nzcv5je17DTjVRfPWKKfRm7Tb/view?usp=sharing\"]\n",
        "\n",
        "outputs= [\"0cm.mat\", \"10cm.mat\", \"20cm.mat\", \"30cm.mat\", \"40cm.mat\", \"50cm.mat\", \"60cm.mat\", \"70cm.mat\", \"80cm.mat\", \"90cm.mat\", \"100cm.mat\", \n",
        "          \"110cm.mat\", \"120cm.mat\", \"130cm.mat\", \"140cm.mat\", \"150cm.mat\", \"160cm.mat\", \"170cm.mat\", \"180cm.mat\", \"label.mat\"]       \n",
        "\n",
        "inputs = zip(urls, outputs)\n",
        "\n",
        "download_paralel(inputs)  '''\n"
      ]
    },
    {
      "cell_type": "markdown",
      "metadata": {
        "id": "Pak_KI9dzBMh"
      },
      "source": [
        "# Importação de Bibliotecas e Download da Pasta no Drive\n",
        "\n",
        "---\n",
        "Como o dataset foi baixado no GDrive, é possível baixar a pasta completa pela biblioteca gdown.\n",
        "Ela ainda fornece como saída, os diretórios de todos arquivos baixados (guardar em variavel)\n"
      ]
    },
    {
      "cell_type": "code",
      "execution_count": 1,
      "metadata": {
        "colab": {
          "base_uri": "https://localhost:8080/"
        },
        "id": "4GBeTxbIrYNV",
        "outputId": "a019348e-6d72-4c37-b477-58e4ee45e16d"
      },
      "outputs": [
        {
          "output_type": "stream",
          "name": "stdout",
          "text": [
            "Looking in indexes: https://pypi.org/simple, https://us-python.pkg.dev/colab-wheels/public/simple/\n",
            "Requirement already satisfied: gdown in /usr/local/lib/python3.8/dist-packages (4.4.0)\n",
            "Collecting gdown\n",
            "  Downloading gdown-4.6.0-py3-none-any.whl (14 kB)\n",
            "Requirement already satisfied: filelock in /usr/local/lib/python3.8/dist-packages (from gdown) (3.8.2)\n",
            "Requirement already satisfied: beautifulsoup4 in /usr/local/lib/python3.8/dist-packages (from gdown) (4.6.3)\n",
            "Requirement already satisfied: requests[socks] in /usr/local/lib/python3.8/dist-packages (from gdown) (2.25.1)\n",
            "Requirement already satisfied: six in /usr/local/lib/python3.8/dist-packages (from gdown) (1.15.0)\n",
            "Requirement already satisfied: tqdm in /usr/local/lib/python3.8/dist-packages (from gdown) (4.64.1)\n",
            "Requirement already satisfied: chardet<5,>=3.0.2 in /usr/local/lib/python3.8/dist-packages (from requests[socks]->gdown) (4.0.0)\n",
            "Requirement already satisfied: urllib3<1.27,>=1.21.1 in /usr/local/lib/python3.8/dist-packages (from requests[socks]->gdown) (1.24.3)\n",
            "Requirement already satisfied: idna<3,>=2.5 in /usr/local/lib/python3.8/dist-packages (from requests[socks]->gdown) (2.10)\n",
            "Requirement already satisfied: certifi>=2017.4.17 in /usr/local/lib/python3.8/dist-packages (from requests[socks]->gdown) (2022.12.7)\n",
            "Requirement already satisfied: PySocks!=1.5.7,>=1.5.6 in /usr/local/lib/python3.8/dist-packages (from requests[socks]->gdown) (1.7.1)\n",
            "Installing collected packages: gdown\n",
            "  Attempting uninstall: gdown\n",
            "    Found existing installation: gdown 4.4.0\n",
            "    Uninstalling gdown-4.4.0:\n",
            "      Successfully uninstalled gdown-4.4.0\n",
            "Successfully installed gdown-4.6.0\n",
            "Looking in indexes: https://pypi.org/simple, https://us-python.pkg.dev/colab-wheels/public/simple/\n",
            "Requirement already satisfied: lightgbm in /usr/local/lib/python3.8/dist-packages (2.2.3)\n",
            "Requirement already satisfied: scikit-learn in /usr/local/lib/python3.8/dist-packages (from lightgbm) (1.0.2)\n",
            "Requirement already satisfied: numpy in /usr/local/lib/python3.8/dist-packages (from lightgbm) (1.21.6)\n",
            "Requirement already satisfied: scipy in /usr/local/lib/python3.8/dist-packages (from lightgbm) (1.7.3)\n",
            "Requirement already satisfied: joblib>=0.11 in /usr/local/lib/python3.8/dist-packages (from scikit-learn->lightgbm) (1.2.0)\n",
            "Requirement already satisfied: threadpoolctl>=2.0.0 in /usr/local/lib/python3.8/dist-packages (from scikit-learn->lightgbm) (3.1.0)\n",
            "Looking in indexes: https://pypi.org/simple, https://us-python.pkg.dev/colab-wheels/public/simple/\n",
            "Requirement already satisfied: xgboost in /usr/local/lib/python3.8/dist-packages (0.90)\n",
            "Requirement already satisfied: numpy in /usr/local/lib/python3.8/dist-packages (from xgboost) (1.21.6)\n",
            "Requirement already satisfied: scipy in /usr/local/lib/python3.8/dist-packages (from xgboost) (1.7.3)\n"
          ]
        }
      ],
      "source": [
        "!pip install -U --no-cache-dir gdown --pre\n",
        "\n",
        "!pip install lightgbm\n",
        "\n",
        "!pip install xgboost"
      ]
    },
    {
      "cell_type": "code",
      "execution_count": 2,
      "metadata": {
        "colab": {
          "base_uri": "https://localhost:8080/"
        },
        "id": "kL19aaCF0ZoB",
        "outputId": "8277e84f-771b-42d8-8639-6d4bd8544b5c"
      },
      "outputs": [
        {
          "output_type": "execute_result",
          "data": {
            "text/plain": [
              "['/content/80/0cm.mat',\n",
              " '/content/80/5cm.mat',\n",
              " '/content/80/10cm.mat',\n",
              " '/content/80/15cm.mat',\n",
              " '/content/80/20cm.mat',\n",
              " '/content/80/25cm.mat',\n",
              " '/content/80/30cm.mat',\n",
              " '/content/80/35cm.mat',\n",
              " '/content/80/40cm.mat',\n",
              " '/content/80/45cm.mat',\n",
              " '/content/80/50cm.mat',\n",
              " '/content/80/55cm.mat',\n",
              " '/content/80/60cm.mat',\n",
              " '/content/80/65cm.mat',\n",
              " '/content/80/70cm.mat',\n",
              " '/content/80/75cm.mat',\n",
              " '/content/80/80cm.mat',\n",
              " '/content/80/85cm.mat',\n",
              " '/content/80/90cm.mat',\n",
              " '/content/80/95cm.mat',\n",
              " '/content/80/100cm.mat',\n",
              " '/content/80/105cm.mat',\n",
              " '/content/80/110cm.mat',\n",
              " '/content/80/115cm.mat',\n",
              " '/content/80/120cm.mat',\n",
              " '/content/80/125cm.mat',\n",
              " '/content/80/130cm.mat',\n",
              " '/content/80/135cm.mat',\n",
              " '/content/80/140cm.mat',\n",
              " '/content/80/145cm.mat',\n",
              " '/content/80/150cm.mat',\n",
              " '/content/80/155cm.mat',\n",
              " '/content/80/160cm.mat',\n",
              " '/content/80/165cm.mat',\n",
              " '/content/80/170cm.mat',\n",
              " '/content/80/175cm.mat',\n",
              " '/content/80/180cm.mat',\n",
              " '/content/80/label.mat']"
            ]
          },
          "metadata": {},
          "execution_count": 2
        }
      ],
      "source": [
        "from scipy.io import loadmat\n",
        "import numpy as np\n",
        "import pandas as pd\n",
        "import gdown\n",
        "\n",
        "teste = \"https://drive.google.com/drive/folders/1Hu6JsnLbPBjOJWLy4j1xMsr3XHnShzrN?usp=share_link\"\n",
        "output = gdown.download_folder(teste, quiet=True, use_cookies=False,)\n",
        "\n",
        "output"
      ]
    },
    {
      "cell_type": "markdown",
      "metadata": {
        "id": "o1biG79y1dki"
      },
      "source": [
        "# Abrindo arquivos .mat e identificando seu cabeçalho\n",
        "\n",
        "---\n",
        "\n",
        "\n",
        "\n",
        "Para a abertura de arquivos .mat foi necessário o módulo loadmat da biblioteca scipy.io. A função retorna um dicionário com diferentes Headers, onde apenas o ultimo será utilizado. \n",
        "\n",
        "Como todos arquivos da pasta serão abertos, o conteúdo de cada arquivo será guardado em uma posição de uma lista.\n",
        "\n",
        "Os labels (saida y) estarão na ultima posição da lista "
      ]
    },
    {
      "cell_type": "code",
      "execution_count": 3,
      "metadata": {
        "colab": {
          "base_uri": "https://localhost:8080/"
        },
        "id": "n29rjr7Z2HWj",
        "outputId": "997a27da-1873-4f3e-8216-18e075f459e4"
      },
      "outputs": [
        {
          "output_type": "stream",
          "name": "stdout",
          "text": [
            "{'__header__': b'MATLAB 5.0 MAT-file, Platform: PCWIN, Created on: Tue Jul 24 21:19:25 2018', '__version__': '1.0', '__globals__': [], 'org_label': array([[1, 0, 1, ..., 1, 1, 1]], dtype=uint8)}\n",
            "[[1 0 1 ... 1 1 1]]\n",
            "[[1 0 1 ... 1 1 1]]\n"
          ]
        }
      ],
      "source": [
        "########### ESSE PROCESSO É SUBSTITUIDO###########\n",
        "exemplo = loadmat('/content/80/label.mat')\n",
        "print(exemplo)\n",
        "\n",
        "exemplo = exemplo['org_label']\n",
        "print(exemplo)\n",
        "\n",
        "########### POR ESSE PROCESSO ################\n",
        "exemplo_otim = loadmat('/content/80/label.mat')\n",
        "exemplo_otim = exemplo_otim[list(exemplo_otim.keys())[-1]]\n",
        "print(exemplo_otim)"
      ]
    },
    {
      "cell_type": "code",
      "execution_count": 4,
      "metadata": {
        "colab": {
          "base_uri": "https://localhost:8080/"
        },
        "id": "ChIrJCfe1bIZ",
        "outputId": "e6633842-046a-4042-8f76-dcc0157de2d9"
      },
      "outputs": [
        {
          "output_type": "stream",
          "name": "stdout",
          "text": [
            "[[1 0 1 ... 1 1 1]] [[0.32835821 0.34328358 0.32835821 ... 0.26984127 0.28571429 0.28571429]\n",
            " [0.34328358 0.35820896 0.34328358 ... 0.31746032 0.3015873  0.31746032]\n",
            " [0.35820896 0.34328358 0.35820896 ... 0.33333333 0.33333333 0.33333333]\n",
            " ...\n",
            " [0.35820896 0.25373134 0.32835821 ... 0.22222222 0.23809524 0.28571429]\n",
            " [0.34328358 0.28358209 0.34328358 ... 0.25396825 0.23809524 0.31746032]\n",
            " [0.32835821 0.29850746 0.34328358 ... 0.26984127 0.28571429 0.28571429]]\n"
          ]
        }
      ],
      "source": [
        "datas = []\n",
        "\n",
        "for o in output:\n",
        "  data_test = loadmat(o)\n",
        "  data_test = data_test[list(data_test.keys())[-1]]\n",
        "  datas.append(data_test)\n",
        "\n",
        "print(datas[-1], datas[0])"
      ]
    },
    {
      "cell_type": "markdown",
      "metadata": {
        "id": "AsPB83PKznzI"
      },
      "source": [
        "# Preparação dos dados e Codificação dos valores Numéricos\n",
        "\n",
        "---\n",
        "É necessário codificar os dados em duas situações, quando forem categóricos (não numéricos) e quando estiverem com valores numéricos diferentes do escopo entre 0 e 1, a biblioteca sklearn fornece duas funções de fácil utilização e bem otimizadas.\n",
        "\n",
        "Basicamente é feito um casting para int e após uma normalização dos dados.\n",
        "\n",
        "Além disso, os dados do dataset vêm com o shape (1,x), e nosso modelo de machine learning somente aceitará vetores como parâmetro de saída, sendo necessário Transpor nossa estrutura.\n",
        "\n",
        "Também, a função flatten é necessária para transformar a estrutura em um vetor de 1D.\n",
        "\n"
      ]
    },
    {
      "cell_type": "code",
      "execution_count": 5,
      "metadata": {
        "colab": {
          "base_uri": "https://localhost:8080/"
        },
        "id": "GrHXqfPw8fG5",
        "outputId": "8ddecfaf-e06d-4e8d-f723-57aa981de09d"
      },
      "outputs": [
        {
          "output_type": "stream",
          "name": "stdout",
          "text": [
            "Formatos originais dos dados: \n",
            " (1, 18000) (80, 18000) <class 'numpy.ndarray'>\n",
            "\n",
            "Formatos Transpostos dos dados: \n",
            " (18000, 1) (18000, 80)\n",
            "\n",
            "Utilização do flatten: \n",
            " (18000,)\n",
            "\n",
            "Dados sem flatten: \n",
            " [[1]\n",
            " [0]\n",
            " [1]\n",
            " ...\n",
            " [1]\n",
            " [1]\n",
            " [1]] \n",
            "Dados com flatten: \n",
            " [1 0 1 ... 1 1 1]\n"
          ]
        }
      ],
      "source": [
        "print(\"Formatos originais dos dados: \\n\", datas[-1].shape, datas[0].shape, type(datas[-1]))\n",
        "\n",
        "print(\"\\nFormatos Transpostos dos dados: \\n\", datas[-1].T.shape, datas[0].T.shape)\n",
        "\n",
        "print(\"\\nUtilização do flatten: \\n\", datas[-1].flatten().shape)\n",
        "\n",
        "print(\"\\nDados sem flatten: \\n\", datas[-1].T, \"\\nDados com flatten: \\n\", datas[-1].flatten())"
      ]
    },
    {
      "cell_type": "code",
      "execution_count": 6,
      "metadata": {
        "colab": {
          "base_uri": "https://localhost:8080/"
        },
        "id": "cEuvXZYPAaIq",
        "outputId": "193b8328-1668-43de-9d97-3ba1c4330f5c"
      },
      "outputs": [
        {
          "output_type": "stream",
          "name": "stdout",
          "text": [
            "(18000,)\n"
          ]
        }
      ],
      "source": [
        "from sklearn import preprocessing\n",
        "from sklearn import utils\n",
        "from scipy.ndimage import gaussian_filter1d\n",
        "\n",
        "lab = preprocessing.LabelEncoder()\n",
        "y_transf = lab.fit_transform(datas[-1].flatten())\n",
        "\n",
        "print(y_transf.shape)"
      ]
    },
    {
      "cell_type": "markdown",
      "metadata": {
        "id": "rj3D3_h4BLvg"
      },
      "source": [
        "# Embaralhamento dos Dados\n",
        "\n",
        "---\n",
        "\n",
        "Começo da implementação de uma função que embaralha os dados em grupos simultaneamente, sem perder a ordem. Será implementado no futuro.\n",
        "\n",
        "Talvez não seja necessário pois o dataset não possui \"dados viciados\", porém, é uma boa prática embaralhar dados."
      ]
    },
    {
      "cell_type": "code",
      "execution_count": null,
      "metadata": {
        "colab": {
          "base_uri": "https://localhost:8080/"
        },
        "id": "hksPGjq4BdpB",
        "outputId": "208130ac-a70b-4c6e-ba7c-c5acc1068e9f"
      },
      "outputs": [
        {
          "data": {
            "application/vnd.google.colaboratory.intrinsic+json": {
              "type": "string"
            },
            "text/plain": [
              "' NECESSARIO IMPLEMENTAR SHUFFLE MAIS ALEM\\nfor i in range(len(data)):\\n  j = np.random.randint(0,len(data))\\n  templ, tempm = data[i], np.copy(data2[i,:])\\n  data[i], data2[i,:] = data[j], data2[j,:]\\n  data[j], data2[j,:] = templ, tempm\\n\\nprint(data)'"
            ]
          },
          "execution_count": 9,
          "metadata": {},
          "output_type": "execute_result"
        }
      ],
      "source": [
        "''' FUNÇÃO QUE EMBARALHA\n",
        "def shuffle_list_matrix(lista, matriz):\n",
        "  for i in range(len(lista)):\n",
        "    j = np.random.randint(0,2)\n",
        "    temp_list, temp_matriz = lista[i], matriz[i,:]\n",
        "    lista[i], matriz[i,:] = lista[j], matriz[j,:]\n",
        "    lista[j], matriz[j,:] = temp_list, temp_matriz\n",
        "\n",
        "  return (lista, matriz)    \n",
        "'''\n",
        "\n",
        "''' NECESSARIO IMPLEMENTAR SHUFFLE MAIS ALEM\n",
        "for i in range(len(data)):\n",
        "  j = np.random.randint(0,len(data))\n",
        "  templ, tempm = data[i], np.copy(data2[i,:])\n",
        "  data[i], data2[i,:] = data[j], data2[j,:]\n",
        "  data[j], data2[j,:] = templ, tempm\n",
        "\n",
        "print(data)'''"
      ]
    },
    {
      "cell_type": "markdown",
      "metadata": {
        "id": "rH4G7ZfB1Tvd"
      },
      "source": [
        "# Modelo de Machine Learning (SVM)\n",
        "\n",
        "---\n",
        "\n",
        "As máquinas de vetores de suporte foram obtidas através da biblioteca scikitlearn, com o seguinte procedimento:\n",
        "\n",
        "Como os valores que serão utilizados estão dentro de uma lista, foi necessário um laço de repetição, que percorrerá do inicio até o penultimo valor (ignorando o label, pois será a saída)\n",
        "\n",
        "O primeiro passo é separar os dados de treino e os dados de teste, seria necessária a normalização, porém os dados do dataset já estão normalizados.\n",
        "\n",
        "Os Parametros são"
      ]
    },
    {
      "cell_type": "code",
      "execution_count": null,
      "metadata": {
        "colab": {
          "base_uri": "https://localhost:8080/",
          "height": 282
        },
        "id": "gO5LmxIqv1sZ",
        "outputId": "c6fa455e-21c7-4e90-aa7c-5ce55f83b743"
      },
      "outputs": [
        {
          "data": {
            "text/plain": [
              "[<matplotlib.lines.Line2D at 0x7f6de7818a00>]"
            ]
          },
          "execution_count": 11,
          "metadata": {},
          "output_type": "execute_result"
        },
        {
          "data": {
            "image/png": "[encoded data removed]",
            "text/plain": [
              "<Figure size 432x288 with 1 Axes>"
            ]
          },
          "metadata": {},
          "output_type": "display_data"
        }
      ],
      "source": [
        "#Separação do conjunto de dados e testes e normalização\n",
        "from sklearn.model_selection import train_test_split\n",
        "from sklearn.svm import SVC\n",
        "from sklearn.metrics import accuracy_score\n",
        "\n",
        "i=0\n",
        "distancia = []\n",
        "acur_SVM = []\n",
        "acur_SVM_Gauss = []\n",
        "for data in datas[:-1]:\n",
        "  X_train, X_test, y_train, y_test  = train_test_split(data.T, y_transf, test_size=0.33, random_state=0)\n",
        "\n",
        "  X_train_Gauss = gaussian_filter1d(X_train, 3)\n",
        "  X_test_Gauss = gaussian_filter1d(X_test, 3)\n",
        "\n",
        "  clf = SVC(kernel = 'linear', decision_function_shape='ovo')\n",
        "  clf.fit(X_train, y_train)\n",
        "\n",
        "  clf_Gauss = SVC(kernel = 'linear', decision_function_shape='ovo')\n",
        "  clf_Gauss.fit(X_train_Gauss, y_train)\n",
        "\n",
        "  y_pred = clf.predict(X_test)\n",
        "  y_pred_Gauss = clf_Gauss.predict(X_test_Gauss)\n",
        "\n",
        "  acur_SVM.append(accuracy_score(y_test, y_pred)*100)\n",
        "  acur_SVM_Gauss.append(accuracy_score(y_test, y_pred_Gauss)*100)\n",
        "  distancia.append(i)\n",
        "  #print(\"\\nAcuracia:\", accuracy_score(y_test, y_pred)*100, \"%   Distancia:\", i)\n",
        "  i = i + 5\n",
        "\n",
        "import matplotlib.pyplot as plt\n",
        "plt.plot(distancia,acur_SVM) \n",
        "plt.plot(distancia,acur_SVM_Gauss,'.')  "
      ]
    },
    {
      "cell_type": "markdown",
      "metadata": {
        "id": "qGw2PwWFlQUn"
      },
      "source": [
        "# **ALGORITMO KNN**\n",
        "\n",
        "---\n",
        "\n"
      ]
    },
    {
      "cell_type": "code",
      "execution_count": null,
      "metadata": {
        "colab": {
          "base_uri": "https://localhost:8080/",
          "height": 282
        },
        "id": "-zVhPtlpk6oU",
        "outputId": "d8a550c1-a956-4bf3-f574-431ae42e7938"
      },
      "outputs": [
        {
          "data": {
            "text/plain": [
              "[<matplotlib.lines.Line2D at 0x7f6de71a1580>]"
            ]
          },
          "execution_count": 12,
          "metadata": {},
          "output_type": "execute_result"
        },
        {
          "data": {
            "image/png": "[encoded data removed]",
            "text/plain": [
              "<Figure size 432x288 with 1 Axes>"
            ]
          },
          "metadata": {},
          "output_type": "display_data"
        }
      ],
      "source": [
        "from sklearn.neighbors import KNeighborsClassifier\n",
        "from sklearn.metrics import accuracy_score\n",
        "from sklearn.model_selection import train_test_split\n",
        "\n",
        "i=0\n",
        "distancia = []\n",
        "acur_KNN = []\n",
        "acur_KNN_Gauss = []\n",
        "for data in datas[:-1]:\n",
        "  X_train, X_test, y_train, y_test  = train_test_split(data.T, y_transf, test_size=0.33, random_state=0)\n",
        "  \n",
        "  X_train_Gauss = gaussian_filter1d(X_train, 3)\n",
        "  X_test_Gauss = gaussian_filter1d(X_test, 3)\n",
        "\n",
        "  clf = KNeighborsClassifier(n_neighbors=3)\n",
        "  clf.fit(X_train, y_train)\n",
        "\n",
        "  clf_Gauss = KNeighborsClassifier(n_neighbors=3)\n",
        "  clf_Gauss.fit(X_train_Gauss, y_train)\n",
        "\n",
        "  y_pred = clf.predict(X_test)\n",
        "  y_pred_Gauss = clf_Gauss.predict(X_test_Gauss)\n",
        "\n",
        "  acur_KNN.append(accuracy_score(y_test, y_pred)*100)\n",
        "  acur_KNN_Gauss.append(accuracy_score(y_test, y_pred_Gauss)*100)\n",
        "  distancia.append(i)\n",
        "  #print(\"\\nAcuracia:\", accuracy_score(y_test, y_pred)*100, \"%   Distancia:\", i)\n",
        "  i = i + 5\n",
        "\n",
        "import matplotlib.pyplot as plt\n",
        "plt.plot(distancia,acur_KNN) \n",
        "plt.plot(distancia,acur_KNN_Gauss,'.') "
      ]
    },
    {
      "cell_type": "markdown",
      "metadata": {
        "id": "NLFc-FS6ehRb"
      },
      "source": [
        "# **METODOS DE ENSEMBLE**\n",
        "\n",
        "---\n",
        "\n"
      ]
    },
    {
      "cell_type": "markdown",
      "metadata": {
        "id": "KySvizIsendj"
      },
      "source": [
        "\n",
        "> # **Classificadores por Votação**\n",
        "\n",
        "\n",
        "\n",
        "---\n",
        "\n",
        "\n",
        "> Agrupa diversos classificadores fracos e a partir da maioria das classificações prediz a mais votada.\n",
        "\n",
        "\n",
        "> Chamado de Hard Voting\n"
      ]
    },
    {
      "cell_type": "code",
      "execution_count": null,
      "metadata": {
        "id": "xIhU3C9YYVFb"
      },
      "outputs": [],
      "source": [
        "from sklearn.ensemble import RandomForestClassifier\n",
        "from sklearn.ensemble import VotingClassifier\n",
        "from sklearn.linear_model import LogisticRegression\n",
        "from sklearn.tree import DecisionTreeClassifier\n",
        "\n",
        "log_clf = LogisticRegression()\n",
        "tree_clf = DecisionTreeClassifier()\n",
        "svm_clf = SVC()\n",
        "knn_clf = KNeighborsClassifier(n_neighbors=3)\n",
        "\n",
        "i=0\n",
        "for data in datas[:-1]:\n",
        "  X_train, X_test, y_train, y_test  = train_test_split(data.T, y_transf, test_size=0.33, random_state=0)\n",
        "\n",
        "  voting_clf = VotingClassifier(estimators = [('lr',log_clf), \n",
        "                                              ('dt', tree_clf), \n",
        "                                              ('svc', svm_clf),\n",
        "                                              ('knn', knn_clf)],\n",
        "                                voting='hard'\n",
        "  )\n",
        "\n",
        "  voting_clf.fit(X_train, y_train)\n",
        "\n",
        "  y_pred = voting_clf.predict(X_test)\n",
        "\n",
        "  print(\"\\nAcuracia:\", accuracy_score(y_test, y_pred)*100, \"%   Distancia:\", i)\n",
        "  i = i + 5"
      ]
    },
    {
      "cell_type": "markdown",
      "metadata": {
        "id": "xh_jidw6fbJv"
      },
      "source": [
        "\n",
        " > # **Classificador por Bagging**\n",
        "\n",
        "---\n",
        "\n",
        "\n",
        "> Ao invés de agrupar diversos Classificadores diferentes, este metodo de ensemble utiliza apenas um tipo de classificador, criando subconjuntos aleatorios no conjunto de treinamento.\n",
        "\n",
        "\n",
        "> Este tipo de ensemble se diferencia dos demais pois as predições podem ser feitas paralelamente. (Parâmetro n_jobs)"
      ]
    },
    {
      "cell_type": "code",
      "execution_count": null,
      "metadata": {
        "colab": {
          "base_uri": "https://localhost:8080/",
          "height": 282
        },
        "id": "TxUdk2d8ah1Y",
        "outputId": "1371f052-ad79-4ffe-cf3f-cbbbd04b6a37"
      },
      "outputs": [
        {
          "data": {
            "text/plain": [
              "[<matplotlib.lines.Line2D at 0x7f6de4326a60>]"
            ]
          },
          "execution_count": 13,
          "metadata": {},
          "output_type": "execute_result"
        },
        {
          "data": {
            "image/png": "[encoded data removed]",
            "text/plain": [
              "<Figure size 432x288 with 1 Axes>"
            ]
          },
          "metadata": {},
          "output_type": "display_data"
        }
      ],
      "source": [
        "from sklearn.ensemble import BaggingClassifier\n",
        "from sklearn.neighbors import KNeighborsClassifier\n",
        "\n",
        "i=0\n",
        "distancia = []\n",
        "acur_bag = []\n",
        "acur_bag_Gauss = []\n",
        "for data in datas[:-1]:\n",
        "  X_train, X_test, y_train, y_test  = train_test_split(data.T, y_transf, test_size=0.33, random_state=0)\n",
        "\n",
        "  X_train_Gauss = gaussian_filter1d(X_train, 3)\n",
        "  X_test_Gauss = gaussian_filter1d(X_test, 3)\n",
        "\n",
        "  clf = BaggingClassifier(KNeighborsClassifier(), n_estimators = 500, max_samples=100, bootstrap=True)\n",
        "  clf.fit(X_train, y_train)\n",
        "\n",
        "  clf_Gauss = BaggingClassifier(KNeighborsClassifier(), n_estimators = 500, max_samples=100, bootstrap=True)\n",
        "  clf_Gauss.fit(X_train_Gauss, y_train)\n",
        "\n",
        "  y_pred = clf.predict(X_test)\n",
        "  y_pred_Gauss = clf_Gauss.predict(X_test_Gauss)\n",
        "\n",
        "  acur_bag.append(accuracy_score(y_test, y_pred)*100)\n",
        "  acur_bag_Gauss.append(accuracy_score(y_test, y_pred_Gauss)*100)\n",
        "  distancia.append(i)\n",
        "  #print(\"\\nAcuracia:\", accuracy_score(y_test, y_pred)*100, \"%   Distancia:\", i)\n",
        "  i = i + 5\n",
        "\n",
        "import matplotlib.pyplot as plt\n",
        "plt.plot(distancia,acur_bag) \n",
        "plt.plot(distancia,acur_bag_Gauss,'.') "
      ]
    },
    {
      "cell_type": "markdown",
      "metadata": {
        "id": "pUreaQj9jd5F"
      },
      "source": [
        "# **BOOSTING**\n",
        "\n",
        "---\n",
        "\n",
        "Metodos de Boosting são metodos de ensemble que combinam classificadores fracos sequencialmente. Cada classificador tem objetivo de corrigir os erros do predecessor.\n",
        "\n",
        "Serão abordados o Adaboost e o Gradient Boost."
      ]
    },
    {
      "cell_type": "markdown",
      "metadata": {
        "id": "36XxcSYzj3SZ"
      },
      "source": [
        "\n",
        "> # **Gradient Boost**\n",
        "\n",
        "\n"
      ]
    },
    {
      "cell_type": "code",
      "execution_count": null,
      "metadata": {
        "colab": {
          "base_uri": "https://localhost:8080/",
          "height": 282
        },
        "id": "Bw-WxHsTj-K1",
        "outputId": "7248b765-52df-413e-baeb-3d5f03b424d7"
      },
      "outputs": [
        {
          "data": {
            "text/plain": [
              "[<matplotlib.lines.Line2D at 0x7f6de43d4ee0>]"
            ]
          },
          "execution_count": 14,
          "metadata": {},
          "output_type": "execute_result"
        },
        {
          "data": {
            "image/png": "[encoded data removed]",
            "text/plain": [
              "<Figure size 432x288 with 1 Axes>"
            ]
          },
          "metadata": {},
          "output_type": "display_data"
        }
      ],
      "source": [
        "from sklearn.ensemble import GradientBoostingClassifier\n",
        "from sklearn.model_selection import train_test_split\n",
        "\n",
        "i=0\n",
        "distancia = []\n",
        "acur_GB = []\n",
        "acur_GB_Gauss = []\n",
        "for data in datas[:-1]:\n",
        "  X_train, X_test, y_train, y_test  = train_test_split(data.T, y_transf, test_size=0.33, random_state=0)\n",
        "  \n",
        "  X_train_Gauss = gaussian_filter1d(X_train, 3)\n",
        "  X_test_Gauss = gaussian_filter1d(X_test, 3)\n",
        "\n",
        "  clf = GradientBoostingClassifier()\n",
        "  clf.fit(X_train, y_train)\n",
        "\n",
        "  clf_Gauss = GradientBoostingClassifier()\n",
        "  clf_Gauss.fit(X_train_Gauss, y_train)\n",
        "\n",
        "  y_pred = clf.predict(X_test)\n",
        "  y_pred_Gauss = clf_Gauss.predict(X_test_Gauss)\n",
        "\n",
        "  acur_GB.append(accuracy_score(y_test, y_pred)*100)\n",
        "  acur_GB_Gauss.append(accuracy_score(y_test, y_pred_Gauss)*100)\n",
        "  distancia.append(i)\n",
        "  #print(\"\\nAcuracia:\", accuracy_score(y_test, y_pred)*100, \"%   Distancia:\", i)\n",
        "  i = i + 5\n",
        "\n",
        "import matplotlib.pyplot as plt\n",
        "plt.plot(distancia,acur_GB) \n",
        "plt.plot(distancia,acur_GB_Gauss,'.') "
      ]
    },
    {
      "cell_type": "code",
      "execution_count": null,
      "metadata": {
        "colab": {
          "base_uri": "https://localhost:8080/"
        },
        "id": "54O5efOjr4cQ",
        "outputId": "9098787c-7efa-4cd3-d770-a6a168a0aec2"
      },
      "outputs": [
        {
          "data": {
            "text/plain": [
              "[<matplotlib.lines.Line2D at 0x7f6de4474a30>]"
            ]
          },
          "execution_count": 15,
          "metadata": {},
          "output_type": "execute_result"
        },
        {
          "data": {
            "image/png": "[encoded data removed]",
            "text/plain": [
              "<Figure size 432x288 with 1 Axes>"
            ]
          },
          "metadata": {},
          "output_type": "display_data"
        }
      ],
      "source": [
        "from xgboost import XGBClassifier\n",
        "from sklearn.metrics import accuracy_score\n",
        "from sklearn.model_selection import train_test_split\n",
        "\n",
        "i=0\n",
        "distancia = []\n",
        "acur_XGB = []\n",
        "acur_XGB_Gauss = []\n",
        "for data in datas[:-1]:\n",
        "  X_train, X_test, y_train, y_test  = train_test_split(data.T, y_transf, test_size=0.33, random_state=0)\n",
        "\n",
        "  X_train_Gauss = gaussian_filter1d(X_train, 3)\n",
        "  X_test_Gauss = gaussian_filter1d(X_test, 3)\n",
        "\n",
        "  clf = XGBClassifier(n_estimators = 100,\n",
        "                      max_depth = 10, \n",
        "                      learning_rate = 0.01,\n",
        "                      subsample = 1,\n",
        "                      random_state=0)\n",
        "  clf.fit(X_train, y_train)\n",
        "\n",
        "  clf_Gauss = XGBClassifier(n_estimators = 100,\n",
        "                      max_depth = 10, \n",
        "                      learning_rate = 0.01,\n",
        "                      subsample = 1,\n",
        "                      random_state=0)\n",
        "  clf_Gauss.fit(X_train_Gauss, y_train)\n",
        "\n",
        "  y_pred = clf.predict(X_test)\n",
        "  y_pred_Gauss = clf_Gauss.predict(X_test_Gauss)\n",
        "\n",
        "  acur_XGB.append(accuracy_score(y_test, y_pred)*100)\n",
        "  acur_XGB_Gauss.append(accuracy_score(y_test, y_pred_Gauss)*100)\n",
        "  distancia.append(i)\n",
        "  #print(\"\\nAcuracia:\", accuracy_score(y_test, y_pred)*100, \"%   Distancia:\", i)\n",
        "  i = i + 5\n",
        "\n",
        "import matplotlib.pyplot as plt\n",
        "plt.plot(distancia,acur_XGB) \n",
        "plt.plot(distancia,acur_XGB_Gauss,'.') "
      ]
    },
    {
      "cell_type": "code",
      "execution_count": null,
      "metadata": {
        "colab": {
          "background_save": true
        },
        "id": "ZCEdJWj4spQO",
        "outputId": "3db5c0fa-3b36-4206-a6fa-f20ea406dae3"
      },
      "outputs": [
        {
          "data": {
            "text/plain": [
              "[<matplotlib.lines.Line2D at 0x7f6ddaffb520>]"
            ]
          },
          "execution_count": 16,
          "metadata": {},
          "output_type": "execute_result"
        },
        {
          "data": {
            "image/png": "[encoded data removed]",
            "text/plain": [
              "<Figure size 432x288 with 1 Axes>"
            ]
          },
          "metadata": {},
          "output_type": "display_data"
        }
      ],
      "source": [
        "import lightgbm as lgb\n",
        "from sklearn.metrics import accuracy_score\n",
        "from sklearn.model_selection import train_test_split\n",
        "\n",
        "i=0\n",
        "distancia = []\n",
        "acur_LGB = []\n",
        "acur_LGB_Gauss = []\n",
        "for data in datas[:-1]:\n",
        "  X_train, X_test, y_train, y_test  = train_test_split(data.T, y_transf, test_size=0.33, random_state=0)\n",
        "\n",
        "  X_train_Gauss = gaussian_filter1d(X_train, 3)\n",
        "  X_test_Gauss = gaussian_filter1d(X_test, 3)\n",
        "\n",
        "  clf = lgb.LGBMClassifier()\n",
        "  clf.fit(X_train, y_train)\n",
        "\n",
        "  clf_Gauss = lgb.LGBMClassifier()\n",
        "  clf_Gauss.fit(X_train_Gauss, y_train)\n",
        "\n",
        "  y_pred = clf.predict(X_test)\n",
        "  y_pred_Gauss = clf_Gauss.predict(X_test_Gauss)\n",
        "\n",
        "  acur_LGB.append(accuracy_score(y_test, y_pred)*100)\n",
        "  acur_LGB_Gauss.append(accuracy_score(y_test, y_pred_Gauss)*100)\n",
        "  distancia.append(i)\n",
        "  #print(\"\\nAcuracia:\", accuracy_score(y_test, y_pred)*100, \"%   Distancia:\", i)\n",
        "  i = i + 5\n",
        "\n",
        "import matplotlib.pyplot as plt\n",
        "plt.plot(distancia,acur_LGB) \n",
        "plt.plot(distancia,acur_LGB_Gauss,'.')  "
      ]
    },
    {
      "cell_type": "markdown",
      "metadata": {
        "id": "-iJKlwAi3Ezq"
      },
      "source": [
        "# **REDE NEURAL**\n",
        "\n",
        "---\n",
        "\n"
      ]
    },
    {
      "cell_type": "code",
      "execution_count": 7,
      "metadata": {
        "colab": {
          "base_uri": "https://localhost:8080/"
        },
        "id": "D2otfCk_3Ary",
        "outputId": "fe35200e-7ade-46c8-b017-476b8d19f363"
      },
      "outputs": [
        {
          "output_type": "stream",
          "name": "stdout",
          "text": [
            "Model: \"sequential\"\n",
            "_________________________________________________________________\n",
            " Layer (type)                Output Shape              Param #   \n",
            "=================================================================\n",
            " dense (Dense)               (None, 10)                810       \n",
            "                                                                 \n",
            " dense_1 (Dense)             (None, 10)                110       \n",
            "                                                                 \n",
            " dense_2 (Dense)             (None, 20)                220       \n",
            "                                                                 \n",
            " dense_3 (Dense)             (None, 1)                 21        \n",
            "                                                                 \n",
            "=================================================================\n",
            "Total params: 1,161\n",
            "Trainable params: 1,161\n",
            "Non-trainable params: 0\n",
            "_________________________________________________________________\n",
            "Model: \"sequential_1\"\n",
            "_________________________________________________________________\n",
            " Layer (type)                Output Shape              Param #   \n",
            "=================================================================\n",
            " dense_4 (Dense)             (None, 100)               8100      \n",
            "                                                                 \n",
            " dense_5 (Dense)             (None, 100)               10100     \n",
            "                                                                 \n",
            " dense_6 (Dense)             (None, 200)               20200     \n",
            "                                                                 \n",
            " dense_7 (Dense)             (None, 1)                 201       \n",
            "                                                                 \n",
            "=================================================================\n",
            "Total params: 38,601\n",
            "Trainable params: 38,601\n",
            "Non-trainable params: 0\n",
            "_________________________________________________________________\n"
          ]
        }
      ],
      "source": [
        "from tensorflow import keras\n",
        "from keras import layers\n",
        "\n",
        "modelo1 = keras.Sequential(\n",
        "    [\n",
        "     keras.Input(shape=(80)),\n",
        "     layers.Dense(10, activation='relu'),\n",
        "     layers.Dense(10, activation = 'relu'),\n",
        "     layers.Dense(20, activation = 'relu'),\n",
        "     layers.Dense(1, activation = 'sigmoid'),\n",
        "    ]\n",
        ")\n",
        "\n",
        "modelo1.summary()\n",
        "modelo1.compile(loss='mean_squared_error',\n",
        "              optimizer = 'SGD', metrics=['accuracy'])\n",
        "\n",
        "\n",
        "modelo2 = keras.Sequential(\n",
        "    [\n",
        "     keras.Input(shape=(80)),\n",
        "     layers.Dense(100, activation='relu'),\n",
        "     layers.Dense(100, activation = 'relu'),\n",
        "     layers.Dense(200, activation = 'relu'),\n",
        "     layers.Dense(1, activation = 'sigmoid'),\n",
        "    ]\n",
        ")\n",
        "\n",
        "modelo2.summary()\n",
        "modelo2.compile(loss='mean_squared_error',\n",
        "              optimizer = 'SGD', metrics=['accuracy'])"
      ]
    },
    {
      "cell_type": "code",
      "execution_count": 9,
      "metadata": {
        "colab": {
          "base_uri": "https://localhost:8080/"
        },
        "id": "-Xq8LWNP72kS",
        "outputId": "03c3464f-7298-4829-e39d-b3fde2a8bd80"
      },
      "outputs": [
        {
          "output_type": "stream",
          "name": "stdout",
          "text": [
            "60/60 [==============================] - 0s 2ms/step - loss: 0.0031 - accuracy: 1.0000\n",
            "60/60 [==============================] - 0s 2ms/step - loss: 0.0016 - accuracy: 1.0000\n",
            "60/60 [==============================] - 0s 1ms/step - loss: 6.3809e-04 - accuracy: 1.0000\n",
            "60/60 [==============================] - 0s 2ms/step - loss: 4.4931e-04 - accuracy: 1.0000\n",
            "60/60 [==============================] - 0s 1ms/step - loss: 3.4134e-04 - accuracy: 1.0000\n",
            "60/60 [==============================] - 0s 4ms/step - loss: 2.6836e-04 - accuracy: 1.0000\n",
            "60/60 [==============================] - 0s 1ms/step - loss: 2.6412e-04 - accuracy: 1.0000\n",
            "60/60 [==============================] - 0s 2ms/step - loss: 2.1251e-04 - accuracy: 1.0000\n",
            "60/60 [==============================] - 0s 1ms/step - loss: 2.0322e-04 - accuracy: 1.0000\n",
            "60/60 [==============================] - 0s 2ms/step - loss: 1.6789e-04 - accuracy: 1.0000\n",
            "60/60 [==============================] - 0s 1ms/step - loss: 1.4628e-04 - accuracy: 1.0000\n",
            "60/60 [==============================] - 0s 2ms/step - loss: 1.2305e-04 - accuracy: 1.0000\n",
            "60/60 [==============================] - 0s 1ms/step - loss: 2.1181e-04 - accuracy: 1.0000\n",
            "60/60 [==============================] - 0s 2ms/step - loss: 1.9239e-04 - accuracy: 1.0000\n",
            "60/60 [==============================] - 0s 1ms/step - loss: 3.0550e-04 - accuracy: 1.0000\n",
            "60/60 [==============================] - 0s 2ms/step - loss: 2.6077e-04 - accuracy: 1.0000\n",
            "60/60 [==============================] - 0s 2ms/step - loss: 3.9249e-04 - accuracy: 1.0000\n",
            "60/60 [==============================] - 0s 2ms/step - loss: 3.2399e-04 - accuracy: 1.0000\n",
            "60/60 [==============================] - 0s 1ms/step - loss: 0.0013 - accuracy: 0.9998\n",
            "60/60 [==============================] - 0s 2ms/step - loss: 0.0010 - accuracy: 1.0000\n",
            "60/60 [==============================] - 0s 1ms/step - loss: 0.0017 - accuracy: 0.9997\n",
            "60/60 [==============================] - 0s 2ms/step - loss: 0.0014 - accuracy: 0.9997\n",
            "60/60 [==============================] - 0s 1ms/step - loss: 0.0017 - accuracy: 0.9997\n",
            "60/60 [==============================] - 0s 2ms/step - loss: 0.0018 - accuracy: 0.9992\n",
            "60/60 [==============================] - 0s 1ms/step - loss: 0.0036 - accuracy: 0.9971\n",
            "60/60 [==============================] - 0s 2ms/step - loss: 0.0036 - accuracy: 0.9975\n",
            "60/60 [==============================] - 0s 1ms/step - loss: 0.0059 - accuracy: 0.9931\n",
            "60/60 [==============================] - 0s 2ms/step - loss: 0.0058 - accuracy: 0.9938\n",
            "60/60 [==============================] - 0s 1ms/step - loss: 0.0090 - accuracy: 0.9904\n",
            "60/60 [==============================] - 0s 2ms/step - loss: 0.0085 - accuracy: 0.9899\n",
            "60/60 [==============================] - 0s 1ms/step - loss: 0.0117 - accuracy: 0.9857\n",
            "60/60 [==============================] - 0s 2ms/step - loss: 0.0118 - accuracy: 0.9850\n",
            "60/60 [==============================] - 0s 2ms/step - loss: 0.0161 - accuracy: 0.9786\n",
            "60/60 [==============================] - 0s 2ms/step - loss: 0.0158 - accuracy: 0.9811\n",
            "60/60 [==============================] - 0s 1ms/step - loss: 0.0181 - accuracy: 0.9769\n",
            "60/60 [==============================] - 0s 2ms/step - loss: 0.0192 - accuracy: 0.9746\n",
            "60/60 [==============================] - 0s 2ms/step - loss: 0.0241 - accuracy: 0.9675\n",
            "60/60 [==============================] - 0s 2ms/step - loss: 0.0237 - accuracy: 0.9682\n",
            "60/60 [==============================] - 0s 1ms/step - loss: 0.0285 - accuracy: 0.9599\n",
            "60/60 [==============================] - 0s 2ms/step - loss: 0.0290 - accuracy: 0.9611\n",
            "60/60 [==============================] - 0s 1ms/step - loss: 0.0429 - accuracy: 0.9412\n",
            "60/60 [==============================] - 0s 2ms/step - loss: 0.0492 - accuracy: 0.9347\n",
            "60/60 [==============================] - 0s 2ms/step - loss: 0.0549 - accuracy: 0.9279\n",
            "60/60 [==============================] - 0s 2ms/step - loss: 0.0555 - accuracy: 0.9273\n",
            "60/60 [==============================] - 0s 1ms/step - loss: 0.0729 - accuracy: 0.9007\n",
            "60/60 [==============================] - 0s 2ms/step - loss: 0.0717 - accuracy: 0.9039\n",
            "60/60 [==============================] - 0s 1ms/step - loss: 0.0934 - accuracy: 0.8736\n",
            "60/60 [==============================] - 0s 2ms/step - loss: 0.0936 - accuracy: 0.8715\n",
            "60/60 [==============================] - 0s 2ms/step - loss: 0.1048 - accuracy: 0.8510\n",
            "60/60 [==============================] - 0s 2ms/step - loss: 0.1090 - accuracy: 0.8429\n",
            "60/60 [==============================] - 0s 1ms/step - loss: 0.1126 - accuracy: 0.8451\n",
            "60/60 [==============================] - 0s 2ms/step - loss: 0.1120 - accuracy: 0.8426\n",
            "60/60 [==============================] - 0s 1ms/step - loss: 0.1333 - accuracy: 0.8098\n",
            "60/60 [==============================] - 0s 2ms/step - loss: 0.1322 - accuracy: 0.8121\n",
            "60/60 [==============================] - 0s 1ms/step - loss: 0.1928 - accuracy: 0.7099\n",
            "60/60 [==============================] - 0s 2ms/step - loss: 0.1889 - accuracy: 0.7155\n",
            "60/60 [==============================] - 0s 1ms/step - loss: 0.1570 - accuracy: 0.7689\n",
            "60/60 [==============================] - 0s 2ms/step - loss: 0.1520 - accuracy: 0.7801\n",
            "60/60 [==============================] - 0s 2ms/step - loss: 0.1917 - accuracy: 0.7064\n",
            "60/60 [==============================] - 0s 2ms/step - loss: 0.1909 - accuracy: 0.7084\n",
            "60/60 [==============================] - 0s 1ms/step - loss: 0.1719 - accuracy: 0.7475\n",
            "60/60 [==============================] - 0s 2ms/step - loss: 0.1690 - accuracy: 0.7449\n",
            "60/60 [==============================] - 0s 1ms/step - loss: 0.1758 - accuracy: 0.7392\n",
            "60/60 [==============================] - 0s 2ms/step - loss: 0.1829 - accuracy: 0.7269\n",
            "60/60 [==============================] - 0s 1ms/step - loss: 0.1830 - accuracy: 0.7231\n",
            "60/60 [==============================] - 0s 2ms/step - loss: 0.1832 - accuracy: 0.7247\n",
            "60/60 [==============================] - 0s 1ms/step - loss: 0.1924 - accuracy: 0.7077\n",
            "60/60 [==============================] - 0s 2ms/step - loss: 0.1889 - accuracy: 0.7158\n",
            "60/60 [==============================] - 0s 2ms/step - loss: 0.1993 - accuracy: 0.6931\n",
            "60/60 [==============================] - 0s 3ms/step - loss: 0.2015 - accuracy: 0.6808\n",
            "60/60 [==============================] - 0s 2ms/step - loss: 0.2189 - accuracy: 0.6451\n",
            "60/60 [==============================] - 0s 2ms/step - loss: 0.2189 - accuracy: 0.6463\n",
            "60/60 [==============================] - 0s 1ms/step - loss: 0.2051 - accuracy: 0.6848\n",
            "60/60 [==============================] - 0s 2ms/step - loss: 0.2039 - accuracy: 0.6791\n"
          ]
        }
      ],
      "source": [
        "from sklearn.model_selection import train_test_split\n",
        "i=0\n",
        "acur_NN_maior = []\n",
        "acur_NN_menor = []\n",
        "distancia = []\n",
        "for data in datas[:-1]:\n",
        "  X_train, X_test, y_train, y_test  = train_test_split(data.T, y_transf, test_size=0.33, random_state=0)\n",
        "\n",
        "  modelo1.fit(X_train, y_train, \n",
        "             batch_size=100, epochs=20, \n",
        "             validation_data=(X_test, y_test), \n",
        "             verbose=0)\n",
        "\n",
        "  score1, acc1 = modelo1.evaluate(X_test, y_test,\n",
        "                              batch_size=100)\n",
        "  \n",
        "  modelo2.fit(X_train, y_train, \n",
        "             batch_size=100, epochs=20, \n",
        "             validation_data=(X_test, y_test), \n",
        "             verbose=0)\n",
        "\n",
        "  score2, acc2 = modelo2.evaluate(X_test, y_test,\n",
        "                              batch_size=100)\n",
        "  \n",
        "  #print('Acuracia Modelo1:', acc1, 'Distância:', i)\n",
        "  #print('Acuracia Modelo2:', acc2, 'Distância:', i)\n",
        "  acur_NN_maior.append(acc1*100)\n",
        "  acur_NN_menor.append(acc2*100)\n",
        "  distancia.append(i)\n",
        "  i = i + 5"
      ]
    },
    {
      "cell_type": "code",
      "execution_count": 10,
      "metadata": {
        "colab": {
          "base_uri": "https://localhost:8080/"
        },
        "id": "AoqDK06w-LKe",
        "outputId": "b849286e-1f51-4f44-e093-dabb653ba5cd"
      },
      "outputs": [
        {
          "output_type": "stream",
          "name": "stdout",
          "text": [
            "60/60 [==============================] - 0s 1ms/step - loss: 6.6141e-04 - accuracy: 1.0000\n",
            "60/60 [==============================] - 0s 2ms/step - loss: 2.6447e-04 - accuracy: 1.0000\n",
            "60/60 [==============================] - 0s 1ms/step - loss: 2.9416e-04 - accuracy: 1.0000\n",
            "60/60 [==============================] - 0s 2ms/step - loss: 1.2801e-04 - accuracy: 1.0000\n",
            "60/60 [==============================] - 0s 2ms/step - loss: 1.8156e-04 - accuracy: 1.0000\n",
            "60/60 [==============================] - 0s 2ms/step - loss: 7.7289e-05 - accuracy: 1.0000\n",
            "60/60 [==============================] - 0s 1ms/step - loss: 1.7708e-04 - accuracy: 1.0000\n",
            "60/60 [==============================] - 0s 2ms/step - loss: 7.5924e-05 - accuracy: 1.0000\n",
            "60/60 [==============================] - 0s 1ms/step - loss: 1.2100e-04 - accuracy: 1.0000\n",
            "60/60 [==============================] - 0s 2ms/step - loss: 5.0768e-05 - accuracy: 1.0000\n",
            "60/60 [==============================] - 0s 1ms/step - loss: 9.8349e-05 - accuracy: 1.0000\n",
            "60/60 [==============================] - 0s 2ms/step - loss: 4.1990e-05 - accuracy: 1.0000\n",
            "60/60 [==============================] - 0s 1ms/step - loss: 1.8115e-04 - accuracy: 1.0000\n",
            "60/60 [==============================] - 0s 2ms/step - loss: 7.3869e-05 - accuracy: 1.0000\n",
            "60/60 [==============================] - 0s 2ms/step - loss: 2.8104e-04 - accuracy: 1.0000\n",
            "60/60 [==============================] - 0s 2ms/step - loss: 1.0917e-04 - accuracy: 1.0000\n",
            "60/60 [==============================] - 0s 1ms/step - loss: 4.1669e-04 - accuracy: 1.0000\n",
            "60/60 [==============================] - 0s 2ms/step - loss: 1.9309e-04 - accuracy: 1.0000\n",
            "60/60 [==============================] - 0s 1ms/step - loss: 0.0011 - accuracy: 1.0000\n",
            "60/60 [==============================] - 0s 2ms/step - loss: 7.6269e-04 - accuracy: 1.0000\n",
            "60/60 [==============================] - 0s 1ms/step - loss: 8.9389e-04 - accuracy: 1.0000\n",
            "60/60 [==============================] - 0s 2ms/step - loss: 6.6329e-04 - accuracy: 1.0000\n",
            "60/60 [==============================] - 0s 1ms/step - loss: 0.0012 - accuracy: 0.9997\n",
            "60/60 [==============================] - 0s 2ms/step - loss: 0.0010 - accuracy: 0.9997\n",
            "60/60 [==============================] - 0s 1ms/step - loss: 0.0025 - accuracy: 0.9981\n",
            "60/60 [==============================] - 0s 2ms/step - loss: 0.0021 - accuracy: 0.9983\n",
            "60/60 [==============================] - 0s 1ms/step - loss: 0.0039 - accuracy: 0.9971\n",
            "60/60 [==============================] - 0s 2ms/step - loss: 0.0034 - accuracy: 0.9981\n",
            "60/60 [==============================] - 0s 1ms/step - loss: 0.0078 - accuracy: 0.9916\n",
            "60/60 [==============================] - 0s 2ms/step - loss: 0.0078 - accuracy: 0.9918\n",
            "60/60 [==============================] - 0s 1ms/step - loss: 0.0094 - accuracy: 0.9887\n",
            "60/60 [==============================] - 0s 2ms/step - loss: 0.0093 - accuracy: 0.9889\n",
            "60/60 [==============================] - 0s 1ms/step - loss: 0.0153 - accuracy: 0.9823\n",
            "60/60 [==============================] - 0s 2ms/step - loss: 0.0141 - accuracy: 0.9837\n",
            "60/60 [==============================] - 0s 1ms/step - loss: 0.0162 - accuracy: 0.9801\n",
            "60/60 [==============================] - 0s 2ms/step - loss: 0.0159 - accuracy: 0.9791\n",
            "60/60 [==============================] - 0s 1ms/step - loss: 0.0211 - accuracy: 0.9722\n",
            "60/60 [==============================] - 0s 2ms/step - loss: 0.0218 - accuracy: 0.9710\n",
            "60/60 [==============================] - 0s 1ms/step - loss: 0.0271 - accuracy: 0.9648\n",
            "60/60 [==============================] - 0s 2ms/step - loss: 0.0262 - accuracy: 0.9665\n",
            "60/60 [==============================] - 0s 1ms/step - loss: 0.0404 - accuracy: 0.9444\n",
            "60/60 [==============================] - 0s 2ms/step - loss: 0.0420 - accuracy: 0.9436\n",
            "60/60 [==============================] - 0s 1ms/step - loss: 0.0533 - accuracy: 0.9300\n",
            "60/60 [==============================] - 0s 2ms/step - loss: 0.0525 - accuracy: 0.9290\n",
            "60/60 [==============================] - 0s 1ms/step - loss: 0.0690 - accuracy: 0.9086\n",
            "60/60 [==============================] - 0s 2ms/step - loss: 0.0684 - accuracy: 0.9079\n",
            "60/60 [==============================] - 0s 3ms/step - loss: 0.0966 - accuracy: 0.8689\n",
            "60/60 [==============================] - 0s 2ms/step - loss: 0.1015 - accuracy: 0.8556\n",
            "60/60 [==============================] - 0s 1ms/step - loss: 0.1240 - accuracy: 0.8261\n",
            "60/60 [==============================] - 0s 2ms/step - loss: 0.1047 - accuracy: 0.8534\n",
            "60/60 [==============================] - 0s 1ms/step - loss: 0.1210 - accuracy: 0.8285\n",
            "60/60 [==============================] - 0s 2ms/step - loss: 0.1105 - accuracy: 0.8458\n",
            "60/60 [==============================] - 0s 1ms/step - loss: 0.1352 - accuracy: 0.8111\n",
            "60/60 [==============================] - 0s 2ms/step - loss: 0.1349 - accuracy: 0.8096\n",
            "60/60 [==============================] - 0s 1ms/step - loss: 0.1861 - accuracy: 0.7184\n",
            "60/60 [==============================] - 0s 2ms/step - loss: 0.1805 - accuracy: 0.7291\n",
            "60/60 [==============================] - 0s 1ms/step - loss: 0.1538 - accuracy: 0.7749\n",
            "60/60 [==============================] - 0s 2ms/step - loss: 0.1526 - accuracy: 0.7774\n",
            "60/60 [==============================] - 0s 1ms/step - loss: 0.1950 - accuracy: 0.7040\n",
            "60/60 [==============================] - 0s 2ms/step - loss: 0.1909 - accuracy: 0.7101\n",
            "60/60 [==============================] - 0s 2ms/step - loss: 0.1708 - accuracy: 0.7476\n",
            "60/60 [==============================] - 0s 2ms/step - loss: 0.1707 - accuracy: 0.7475\n",
            "60/60 [==============================] - 0s 1ms/step - loss: 0.1774 - accuracy: 0.7348\n",
            "60/60 [==============================] - 0s 2ms/step - loss: 0.1825 - accuracy: 0.7261\n",
            "60/60 [==============================] - 0s 1ms/step - loss: 0.1829 - accuracy: 0.7253\n",
            "60/60 [==============================] - 0s 2ms/step - loss: 0.1826 - accuracy: 0.7226\n",
            "60/60 [==============================] - 0s 1ms/step - loss: 0.1878 - accuracy: 0.7189\n",
            "60/60 [==============================] - 0s 2ms/step - loss: 0.1889 - accuracy: 0.7148\n",
            "60/60 [==============================] - 0s 1ms/step - loss: 0.1975 - accuracy: 0.6970\n",
            "60/60 [==============================] - 0s 2ms/step - loss: 0.1978 - accuracy: 0.6897\n",
            "60/60 [==============================] - 0s 1ms/step - loss: 0.2183 - accuracy: 0.6433\n",
            "60/60 [==============================] - 0s 2ms/step - loss: 0.2179 - accuracy: 0.6481\n",
            "60/60 [==============================] - 0s 1ms/step - loss: 0.2041 - accuracy: 0.6805\n",
            "60/60 [==============================] - 0s 2ms/step - loss: 0.2068 - accuracy: 0.6749\n"
          ]
        }
      ],
      "source": [
        "from sklearn.model_selection import train_test_split\n",
        "i=0\n",
        "acur_NN_maior_Gauss = []\n",
        "acur_NN_menor_Gauss = []\n",
        "distancia = []\n",
        "for data in datas[:-1]:\n",
        "  X_train, X_test, y_train, y_test  = train_test_split(data.T, y_transf, test_size=0.33, random_state=0)\n",
        "\n",
        "  X_train_Gauss = gaussian_filter1d(X_train, 3)\n",
        "  X_test_Gauss = gaussian_filter1d(X_test, 3)\n",
        "\n",
        "  modelo1.fit(X_train_Gauss, y_train, \n",
        "             batch_size=100, epochs=20, \n",
        "             validation_data=(X_test_Gauss, y_test), \n",
        "             verbose=0)\n",
        "\n",
        "  score1, acc1 = modelo1.evaluate(X_test_Gauss, y_test,\n",
        "                              batch_size=100)\n",
        "  \n",
        "  modelo2.fit(X_train_Gauss, y_train, \n",
        "             batch_size=100, epochs=20, \n",
        "             validation_data=(X_test_Gauss, y_test), \n",
        "             verbose=0)\n",
        "\n",
        "  score2, acc2 = modelo2.evaluate(X_test_Gauss, y_test,\n",
        "                              batch_size=100)\n",
        "  \n",
        "  #print('Acuracia Modelo1:', acc1, 'Distância:', i)\n",
        "  #print('Acuracia Modelo2:', acc2, 'Distância:', i)\n",
        "  acur_NN_maior_Gauss.append(acc1*100)\n",
        "  acur_NN_menor_Gauss.append(acc2*100)\n",
        "  distancia.append(i)\n",
        "  i = i + 5"
      ]
    },
    {
      "cell_type": "code",
      "execution_count": 11,
      "metadata": {
        "colab": {
          "base_uri": "https://localhost:8080/",
          "height": 282
        },
        "id": "nzG2aJkq-O56",
        "outputId": "c8ff5520-d2b4-4f63-ea44-2cffe9bd8433"
      },
      "outputs": [
        {
          "output_type": "execute_result",
          "data": {
            "text/plain": [
              "[<matplotlib.lines.Line2D at 0x7f3cc76ff820>]"
            ]
          },
          "metadata": {},
          "execution_count": 11
        },
        {
          "output_type": "display_data",
          "data": {
            "text/plain": [
              "<Figure size 432x288 with 1 Axes>"
            ],
            "image/png": "[encoded data removed]"
          },
          "metadata": {
            "needs_background": "light"
          }
        }
      ],
      "source": [
        "import matplotlib.pyplot as plt\n",
        "\n",
        "plt.plot(distancia,acur_NN_menor) \n",
        "plt.plot(distancia,acur_NN_maior)\n",
        "plt.plot(distancia,acur_NN_menor_Gauss,'.') \n",
        "plt.plot(distancia,acur_NN_maior_Gauss,'--')   "
      ]
    }
  ],
  "metadata": {
    "colab": {
      "collapsed_sections": [
        "LYZE5qEGypBz",
        "rj3D3_h4BLvg",
        "qGw2PwWFlQUn",
        "KySvizIsendj",
        "xh_jidw6fbJv",
        "mk1gLQMBhHqd",
        "cA5JnU2sjJ-d",
        "36XxcSYzj3SZ",
        "-iJKlwAi3Ezq"
      ],
      "provenance": [],
      "authorship_tag": "ABX9TyOg7ywNrhlSZ4m41Pod9jhh",
      "include_colab_link": true
    },
    "gpuClass": "standard",
    "kernelspec": {
      "display_name": "Python 3",
      "name": "python3"
    },
    "language_info": {
      "name": "python"
    }
  },
  "nbformat": 4,
  "nbformat_minor": 0
}