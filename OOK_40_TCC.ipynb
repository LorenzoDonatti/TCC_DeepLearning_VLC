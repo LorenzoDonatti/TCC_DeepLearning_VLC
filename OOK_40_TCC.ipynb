{
  "cells": [
    {
      "cell_type": "markdown",
      "metadata": {
        "id": "view-in-github",
        "colab_type": "text"
      },
      "source": [
        "<a href=\"https://colab.research.google.com/github/LorenzoDonatti/TCC_DeepLearning_VLC/blob/main/OOK_40_TCC.ipynb\" target=\"_parent\"><img src=\"https://colab.research.google.com/assets/colab-badge.svg\" alt=\"Open In Colab\"/></a>"
      ]
    },
    {
      "cell_type": "markdown",
      "metadata": {
        "id": "eeIpoWvsiyjO"
      },
      "source": [
        "# **ALGORITMOS DE DEEP LEARNING EM DATASETS DE COMUNICAÇÃO POR LUZ VISIVEL**\n",
        "\n",
        "---\n",
        "\n",
        "\n",
        "TRABALHO DE CONCLUSÃO DE CURSO DO ALUNO LORENZO MOREIRA DONATTI."
      ]
    },
    {
      "cell_type": "markdown",
      "metadata": {
        "id": "LYZE5qEGypBz"
      },
      "source": [
        "# Funções que baixam arquivos Paralelamente\n",
        "\n",
        "---\n",
        "\n",
        "\n",
        "\n",
        "Caso nao seja possível utilizar a biblioteca Gdown na pasta especificada, este metodo de download deve ser utilizado."
      ]
    },
    {
      "cell_type": "code",
      "execution_count": null,
      "metadata": {
        "colab": {
          "base_uri": "https://localhost:8080/"
        },
        "id": "zqz2UjtkncBV",
        "outputId": "1c49328c-be91-4d23-c269-46bc873ac8a1"
      },
      "outputs": [
        {
          "data": {
            "application/vnd.google.colaboratory.intrinsic+json": {
              "type": "string"
            },
            "text/plain": [
              "'import requests\\nfrom multiprocessing import cpu_count\\nfrom multiprocessing.pool import ThreadPool\\n\\ndef download_paralel(args):\\n  cpus = cpu_count()\\n  results = ThreadPool(cpus - 1).imap_unordered(download_url, args)\\n\\n\\ndef download_url(args):\\n  url, output = args[0], args[1]  \\n  try:\\n    gdown.download(url, output, quiet=False, fuzzy=True)\\n  except Exception as e:\\n    print(\"Problem downloading\", e) '"
            ]
          },
          "execution_count": 1,
          "metadata": {},
          "output_type": "execute_result"
        }
      ],
      "source": [
        "'''import requests\n",
        "from multiprocessing import cpu_count\n",
        "from multiprocessing.pool import ThreadPool\n",
        "\n",
        "def download_paralel(args):\n",
        "  cpus = cpu_count()\n",
        "  results = ThreadPool(cpus - 1).imap_unordered(download_url, args)\n",
        "\n",
        "\n",
        "def download_url(args):\n",
        "  url, output = args[0], args[1]  \n",
        "  try:\n",
        "    gdown.download(url, output, quiet=False, fuzzy=True)\n",
        "  except Exception as e:\n",
        "    print(\"Problem downloading\", e) ''' \n"
      ]
    },
    {
      "cell_type": "code",
      "execution_count": null,
      "metadata": {
        "colab": {
          "base_uri": "https://localhost:8080/"
        },
        "id": "V5u4tT29msD8",
        "outputId": "dfb8569a-bc3f-4671-e10d-a635c2e06a8a"
      },
      "outputs": [
        {
          "data": {
            "application/vnd.google.colaboratory.intrinsic+json": {
              "type": "string"
            },
            "text/plain": [
              "'from scipy.io import loadmat\\nimport numpy as np\\nimport pandas as pd\\nimport gdown\\n\\nurls = [\"https://drive.google.com/file/d/1dr6tI_XffRVehcLZByUX1JG476C4Lp7G/view?usp=sharing\", \\n        \"https://drive.google.com/file/d/1klSvkJVIViRFhDbxATzmu0Q1DALoWbJ4/view?usp=sharing\",\\n        \"https://drive.google.com/file/d/1IaVRZB8PtGCjSBZNgEoV-vFtqfndNdX2/view?usp=sharing\",\\n        \"https://drive.google.com/file/d/1XeMiywqTwJvyCFNYt3d5mdBNJmYoqZgt/view?usp=sharing\",\\n        \"https://drive.google.com/file/d/1DGKYFy5Ae0rqLqBozXUDY7EuIY0cbQdP/view?usp=sharing\",\\n        \"https://drive.google.com/file/d/1vPhsrgRWkv1V21lfyfx1BjIw8u4gj3XL/view?usp=sharing\",\\n        \"https://drive.google.com/file/d/1KQn4ljEl-6RRIDtv8a0muO8XvylmtYgh/view?usp=sharing\",\\n        \"https://drive.google.com/file/d/16KNK14QYCJTLHy0ytHlUJfXgZYfEodQ6/view?usp=sharing\",\\n        \"https://drive.google.com/file/d/1hQXpC6StuXM4gJDBiWi-ciIr2IMg00fz/view?usp=sharing\",\\n        \"https://drive.google.com/file/d/1aOvbkHgneQgWCP8ee95cuL834TU2u9lO/view?usp=sharing\",\\n        \"https://drive.google.com/file/d/1XHKMqqJqw4gVSKCB-4XXSo90z-C3qszE/view?usp=sharing\",\\n        \"https://drive.google.com/file/d/1pcJh6eRnifmh6F5HxSPZGIX_Z9n-B6bz/view?usp=sharing\",\\n        \"https://drive.google.com/file/d/1k6W4NTXfZvXEVQkZQmcITILCpYiHzB8a/view?usp=sharing\",\\n        \"https://drive.google.com/file/d/1TCWdZ22pKpy73F-mp2ZrsPnSqdYSvSEa/view?usp=sharing\",\\n        \"https://drive.google.com/file/d/1Wy015sMCoJJS1b8LsvIeiOLlQsrGzalD/view?usp=sharing\",\\n        \"https://drive.google.com/file/d/1KU10g1qWy8ZG3QcJJ6Yv0ubzlZQFuYeP/view?usp=sharing\",\\n        \"https://drive.google.com/file/d/1nYBUSSelA_L0LyIhTty8GcIkT2mYnw51/view?usp=sharing\",\\n        \"https://drive.google.com/file/d/1O99b7y3nzcv5je17DTjVRfPWKKfRm7Tb/view?usp=sharing\"]\\n\\noutputs= [\"0cm.mat\", \"10cm.mat\", \"20cm.mat\", \"30cm.mat\", \"40cm.mat\", \"50cm.mat\", \"60cm.mat\", \"70cm.mat\", \"80cm.mat\", \"90cm.mat\", \"100cm.mat\", \\n          \"110cm.mat\", \"120cm.mat\", \"130cm.mat\", \"140cm.mat\", \"150cm.mat\", \"160cm.mat\", \"170cm.mat\", \"180cm.mat\", \"label.mat\"]       \\n\\ninputs = zip(urls, outputs)\\n\\ndownload_paralel(inputs)  '"
            ]
          },
          "execution_count": 2,
          "metadata": {},
          "output_type": "execute_result"
        }
      ],
      "source": [
        "############ EXEMPLO DE CELULA PARA QUANDO O GDOWN NAO CONSEGUIR ACESSO AO FOLDER####################\n",
        "############ PROCESSO MANUAL ########################\n",
        "\n",
        "'''from scipy.io import loadmat\n",
        "import numpy as np\n",
        "import pandas as pd\n",
        "import gdown\n",
        "\n",
        "urls = [\"https://drive.google.com/file/d/1dr6tI_XffRVehcLZByUX1JG476C4Lp7G/view?usp=sharing\", \n",
        "        \"https://drive.google.com/file/d/1klSvkJVIViRFhDbxATzmu0Q1DALoWbJ4/view?usp=sharing\",\n",
        "        \"https://drive.google.com/file/d/1IaVRZB8PtGCjSBZNgEoV-vFtqfndNdX2/view?usp=sharing\",\n",
        "        \"https://drive.google.com/file/d/1XeMiywqTwJvyCFNYt3d5mdBNJmYoqZgt/view?usp=sharing\",\n",
        "        \"https://drive.google.com/file/d/1DGKYFy5Ae0rqLqBozXUDY7EuIY0cbQdP/view?usp=sharing\",\n",
        "        \"https://drive.google.com/file/d/1vPhsrgRWkv1V21lfyfx1BjIw8u4gj3XL/view?usp=sharing\",\n",
        "        \"https://drive.google.com/file/d/1KQn4ljEl-6RRIDtv8a0muO8XvylmtYgh/view?usp=sharing\",\n",
        "        \"https://drive.google.com/file/d/16KNK14QYCJTLHy0ytHlUJfXgZYfEodQ6/view?usp=sharing\",\n",
        "        \"https://drive.google.com/file/d/1hQXpC6StuXM4gJDBiWi-ciIr2IMg00fz/view?usp=sharing\",\n",
        "        \"https://drive.google.com/file/d/1aOvbkHgneQgWCP8ee95cuL834TU2u9lO/view?usp=sharing\",\n",
        "        \"https://drive.google.com/file/d/1XHKMqqJqw4gVSKCB-4XXSo90z-C3qszE/view?usp=sharing\",\n",
        "        \"https://drive.google.com/file/d/1pcJh6eRnifmh6F5HxSPZGIX_Z9n-B6bz/view?usp=sharing\",\n",
        "        \"https://drive.google.com/file/d/1k6W4NTXfZvXEVQkZQmcITILCpYiHzB8a/view?usp=sharing\",\n",
        "        \"https://drive.google.com/file/d/1TCWdZ22pKpy73F-mp2ZrsPnSqdYSvSEa/view?usp=sharing\",\n",
        "        \"https://drive.google.com/file/d/1Wy015sMCoJJS1b8LsvIeiOLlQsrGzalD/view?usp=sharing\",\n",
        "        \"https://drive.google.com/file/d/1KU10g1qWy8ZG3QcJJ6Yv0ubzlZQFuYeP/view?usp=sharing\",\n",
        "        \"https://drive.google.com/file/d/1nYBUSSelA_L0LyIhTty8GcIkT2mYnw51/view?usp=sharing\",\n",
        "        \"https://drive.google.com/file/d/1O99b7y3nzcv5je17DTjVRfPWKKfRm7Tb/view?usp=sharing\"]\n",
        "\n",
        "outputs= [\"0cm.mat\", \"10cm.mat\", \"20cm.mat\", \"30cm.mat\", \"40cm.mat\", \"50cm.mat\", \"60cm.mat\", \"70cm.mat\", \"80cm.mat\", \"90cm.mat\", \"100cm.mat\", \n",
        "          \"110cm.mat\", \"120cm.mat\", \"130cm.mat\", \"140cm.mat\", \"150cm.mat\", \"160cm.mat\", \"170cm.mat\", \"180cm.mat\", \"label.mat\"]       \n",
        "\n",
        "inputs = zip(urls, outputs)\n",
        "\n",
        "download_paralel(inputs)  '''\n"
      ]
    },
    {
      "cell_type": "markdown",
      "metadata": {
        "id": "Pak_KI9dzBMh"
      },
      "source": [
        "# Importação de Bibliotecas e Download da Pasta no Drive\n",
        "\n",
        "---\n",
        "Como o dataset foi baixado no GDrive, é possível baixar a pasta completa pela biblioteca gdown.\n",
        "Ela ainda fornece como saída, os diretórios de todos arquivos baixados (guardar em variavel)\n"
      ]
    },
    {
      "cell_type": "code",
      "source": [
        "!pip install -U --no-cache-dir gdown --pre\n",
        "\n",
        "!pip install lightgbm\n",
        "\n",
        "!pip install xgboost"
      ],
      "metadata": {
        "colab": {
          "base_uri": "https://localhost:8080/"
        },
        "id": "4GBeTxbIrYNV",
        "outputId": "1d48cead-f505-438b-8b6b-5548364101eb"
      },
      "execution_count": 8,
      "outputs": [
        {
          "output_type": "stream",
          "name": "stdout",
          "text": [
            "Looking in indexes: https://pypi.org/simple, https://us-python.pkg.dev/colab-wheels/public/simple/\n",
            "Requirement already satisfied: gdown in /usr/local/lib/python3.8/dist-packages (4.6.0)\n",
            "Requirement already satisfied: filelock in /usr/local/lib/python3.8/dist-packages (from gdown) (3.8.2)\n",
            "Requirement already satisfied: tqdm in /usr/local/lib/python3.8/dist-packages (from gdown) (4.64.1)\n",
            "Requirement already satisfied: six in /usr/local/lib/python3.8/dist-packages (from gdown) (1.15.0)\n",
            "Requirement already satisfied: beautifulsoup4 in /usr/local/lib/python3.8/dist-packages (from gdown) (4.6.3)\n",
            "Requirement already satisfied: requests[socks] in /usr/local/lib/python3.8/dist-packages (from gdown) (2.25.1)\n",
            "Requirement already satisfied: chardet<5,>=3.0.2 in /usr/local/lib/python3.8/dist-packages (from requests[socks]->gdown) (4.0.0)\n",
            "Requirement already satisfied: certifi>=2017.4.17 in /usr/local/lib/python3.8/dist-packages (from requests[socks]->gdown) (2022.12.7)\n",
            "Requirement already satisfied: urllib3<1.27,>=1.21.1 in /usr/local/lib/python3.8/dist-packages (from requests[socks]->gdown) (1.24.3)\n",
            "Requirement already satisfied: idna<3,>=2.5 in /usr/local/lib/python3.8/dist-packages (from requests[socks]->gdown) (2.10)\n",
            "Requirement already satisfied: PySocks!=1.5.7,>=1.5.6 in /usr/local/lib/python3.8/dist-packages (from requests[socks]->gdown) (1.7.1)\n",
            "Looking in indexes: https://pypi.org/simple, https://us-python.pkg.dev/colab-wheels/public/simple/\n",
            "Requirement already satisfied: lightgbm in /usr/local/lib/python3.8/dist-packages (2.2.3)\n",
            "Requirement already satisfied: scikit-learn in /usr/local/lib/python3.8/dist-packages (from lightgbm) (1.0.2)\n",
            "Requirement already satisfied: numpy in /usr/local/lib/python3.8/dist-packages (from lightgbm) (1.21.6)\n",
            "Requirement already satisfied: scipy in /usr/local/lib/python3.8/dist-packages (from lightgbm) (1.7.3)\n",
            "Requirement already satisfied: threadpoolctl>=2.0.0 in /usr/local/lib/python3.8/dist-packages (from scikit-learn->lightgbm) (3.1.0)\n",
            "Requirement already satisfied: joblib>=0.11 in /usr/local/lib/python3.8/dist-packages (from scikit-learn->lightgbm) (1.2.0)\n",
            "Looking in indexes: https://pypi.org/simple, https://us-python.pkg.dev/colab-wheels/public/simple/\n",
            "Requirement already satisfied: xgboost in /usr/local/lib/python3.8/dist-packages (0.90)\n",
            "Requirement already satisfied: scipy in /usr/local/lib/python3.8/dist-packages (from xgboost) (1.7.3)\n",
            "Requirement already satisfied: numpy in /usr/local/lib/python3.8/dist-packages (from xgboost) (1.21.6)\n"
          ]
        }
      ]
    },
    {
      "cell_type": "code",
      "execution_count": 9,
      "metadata": {
        "colab": {
          "base_uri": "https://localhost:8080/"
        },
        "id": "kL19aaCF0ZoB",
        "outputId": "a7ad773d-4427-4060-c8ba-d653cf74f968"
      },
      "outputs": [
        {
          "output_type": "execute_result",
          "data": {
            "text/plain": [
              "['/content/40/0cm.mat',\n",
              " '/content/40/5cm.mat',\n",
              " '/content/40/10cm.mat',\n",
              " '/content/40/15cm.mat',\n",
              " '/content/40/20cm.mat',\n",
              " '/content/40/25cm.mat',\n",
              " '/content/40/30cm.mat',\n",
              " '/content/40/35cm.mat',\n",
              " '/content/40/40cm.mat',\n",
              " '/content/40/45cm.mat',\n",
              " '/content/40/50cm.mat',\n",
              " '/content/40/55cm.mat',\n",
              " '/content/40/60cm.mat',\n",
              " '/content/40/65cm.mat',\n",
              " '/content/40/70cm.mat',\n",
              " '/content/40/75cm.mat',\n",
              " '/content/40/80cm.mat',\n",
              " '/content/40/85cm.mat',\n",
              " '/content/40/90cm.mat',\n",
              " '/content/40/95cm.mat',\n",
              " '/content/40/100cm.mat',\n",
              " '/content/40/105cm.mat',\n",
              " '/content/40/110cm.mat',\n",
              " '/content/40/115cm.mat',\n",
              " '/content/40/120cm.mat',\n",
              " '/content/40/125cm.mat',\n",
              " '/content/40/130cm.mat',\n",
              " '/content/40/135cm.mat',\n",
              " '/content/40/140cm.mat',\n",
              " '/content/40/145cm.mat',\n",
              " '/content/40/150cm.mat',\n",
              " '/content/40/155cm.mat',\n",
              " '/content/40/160cm.mat',\n",
              " '/content/40/165cm.mat',\n",
              " '/content/40/170cm.mat',\n",
              " '/content/40/175cm.mat',\n",
              " '/content/40/180cm.mat',\n",
              " '/content/40/label.mat']"
            ]
          },
          "metadata": {},
          "execution_count": 9
        }
      ],
      "source": [
        "from scipy.io import loadmat\n",
        "import numpy as np\n",
        "import pandas as pd\n",
        "import gdown\n",
        "\n",
        "teste = \"https://drive.google.com/drive/folders/1TkvBRg2PaKI1KFCpT_7xon6COiWL2ZqX?usp=sharing\"\n",
        "output = gdown.download_folder(teste, quiet=True, use_cookies=False,)\n",
        "\n",
        "output"
      ]
    },
    {
      "cell_type": "markdown",
      "metadata": {
        "id": "o1biG79y1dki"
      },
      "source": [
        "# Abrindo arquivos .mat e identificando seu cabeçalho\n",
        "\n",
        "---\n",
        "\n",
        "\n",
        "\n",
        "Para a abertura de arquivos .mat foi necessário o módulo loadmat da biblioteca scipy.io. A função retorna um dicionário com diferentes Headers, onde apenas o ultimo será utilizado. \n",
        "\n",
        "Como todos arquivos da pasta serão abertos, o conteúdo de cada arquivo será guardado em uma posição de uma lista.\n",
        "\n",
        "Os labels (saida y) estarão na ultima posição da lista "
      ]
    },
    {
      "cell_type": "code",
      "execution_count": 10,
      "metadata": {
        "colab": {
          "base_uri": "https://localhost:8080/"
        },
        "id": "n29rjr7Z2HWj",
        "outputId": "3ef1323f-e537-41b3-8d88-b3f7ee594f36"
      },
      "outputs": [
        {
          "output_type": "stream",
          "name": "stdout",
          "text": [
            "{'__header__': b'MATLAB 5.0 MAT-file, Platform: PCWIN, Created on: Tue Jul 24 21:18:44 2018', '__version__': '1.0', '__globals__': [], 'org_label': array([[1, 0, 1, ..., 1, 1, 1]], dtype=uint8)}\n",
            "[[1 0 1 ... 1 1 1]]\n",
            "[[1 0 1 ... 1 1 1]]\n"
          ]
        }
      ],
      "source": [
        "########### ESSE PROCESSO É SUBSTITUIDO###########\n",
        "exemplo = loadmat('/content/40/label.mat')\n",
        "print(exemplo)\n",
        "\n",
        "exemplo = exemplo['org_label']\n",
        "print(exemplo)\n",
        "\n",
        "########### POR ESSE PROCESSO ################\n",
        "exemplo_otim = loadmat('/content/40/label.mat')\n",
        "exemplo_otim = exemplo_otim[list(exemplo_otim.keys())[-1]]\n",
        "print(exemplo_otim)"
      ]
    },
    {
      "cell_type": "code",
      "execution_count": 11,
      "metadata": {
        "id": "ChIrJCfe1bIZ",
        "colab": {
          "base_uri": "https://localhost:8080/"
        },
        "outputId": "8d153bb9-fa4d-460d-ac4d-9f94981895be"
      },
      "outputs": [
        {
          "output_type": "stream",
          "name": "stdout",
          "text": [
            "[[1 0 1 ... 1 1 1]] [[0.51724138 0.55172414 0.48275862 ... 0.51724138 0.55172414 0.55172414]\n",
            " [0.51724138 0.62068966 0.48275862 ... 0.5862069  0.55172414 0.5862069 ]\n",
            " [0.55172414 0.65517241 0.44827586 ... 0.65517241 0.62068966 0.65517241]\n",
            " ...\n",
            " [0.37931034 0.48275862 0.37931034 ... 0.37931034 0.31034483 0.34482759]\n",
            " [0.4137931  0.48275862 0.44827586 ... 0.37931034 0.37931034 0.4137931 ]\n",
            " [0.48275862 0.44827586 0.44827586 ... 0.48275862 0.44827586 0.44827586]]\n"
          ]
        }
      ],
      "source": [
        "datas = []\n",
        "\n",
        "for o in output:\n",
        "  data_test = loadmat(o)\n",
        "  data_test = data_test[list(data_test.keys())[-1]]\n",
        "  datas.append(data_test)\n",
        "\n",
        "print(datas[-1], datas[0])"
      ]
    },
    {
      "cell_type": "markdown",
      "metadata": {
        "id": "AsPB83PKznzI"
      },
      "source": [
        "# Preparação dos dados e Codificação dos valores Numéricos\n",
        "\n",
        "---\n",
        "É necessário codificar os dados em duas situações, quando forem categóricos (não numéricos) e quando estiverem com valores numéricos diferentes do escopo entre 0 e 1, a biblioteca sklearn fornece duas funções de fácil utilização e bem otimizadas.\n",
        "\n",
        "Basicamente é feito um casting para int e após uma normalização dos dados.\n",
        "\n",
        "Além disso, os dados do dataset vêm com o shape (1,x), e nosso modelo de machine learning somente aceitará vetores como parâmetro de saída, sendo necessário Transpor nossa estrutura.\n",
        "\n",
        "Também, a função flatten é necessária para transformar a estrutura em um vetor de 1D.\n",
        "\n"
      ]
    },
    {
      "cell_type": "code",
      "execution_count": 12,
      "metadata": {
        "id": "GrHXqfPw8fG5",
        "colab": {
          "base_uri": "https://localhost:8080/"
        },
        "outputId": "3a67d6e5-64b5-4484-cbf0-d5bab426fb6f"
      },
      "outputs": [
        {
          "output_type": "stream",
          "name": "stdout",
          "text": [
            "Formatos originais dos dados: \n",
            " (1, 18000) (40, 18000) <class 'numpy.ndarray'>\n",
            "\n",
            "Formatos Transpostos dos dados: \n",
            " (18000, 1) (18000, 40)\n",
            "\n",
            "Utilização do flatten: \n",
            " (18000,)\n",
            "\n",
            "Dados sem flatten: \n",
            " [[1]\n",
            " [0]\n",
            " [1]\n",
            " ...\n",
            " [1]\n",
            " [1]\n",
            " [1]] \n",
            "Dados com flatten: \n",
            " [1 0 1 ... 1 1 1]\n"
          ]
        }
      ],
      "source": [
        "print(\"Formatos originais dos dados: \\n\", datas[-1].shape, datas[0].shape, type(datas[-1]))\n",
        "\n",
        "print(\"\\nFormatos Transpostos dos dados: \\n\", datas[-1].T.shape, datas[0].T.shape)\n",
        "\n",
        "print(\"\\nUtilização do flatten: \\n\", datas[-1].flatten().shape)\n",
        "\n",
        "print(\"\\nDados sem flatten: \\n\", datas[-1].T, \"\\nDados com flatten: \\n\", datas[-1].flatten())"
      ]
    },
    {
      "cell_type": "code",
      "execution_count": 13,
      "metadata": {
        "id": "cEuvXZYPAaIq",
        "colab": {
          "base_uri": "https://localhost:8080/"
        },
        "outputId": "a2ea72e1-db45-4d95-b9cf-4191f7219dfc"
      },
      "outputs": [
        {
          "output_type": "stream",
          "name": "stdout",
          "text": [
            "(18000,)\n"
          ]
        }
      ],
      "source": [
        "from sklearn import preprocessing\n",
        "from sklearn import utils\n",
        "from scipy.ndimage import gaussian_filter1d\n",
        "\n",
        "lab = preprocessing.LabelEncoder()\n",
        "y_transf = lab.fit_transform(datas[-1].flatten())\n",
        "\n",
        "print(y_transf.shape)"
      ]
    },
    {
      "cell_type": "markdown",
      "metadata": {
        "id": "rj3D3_h4BLvg"
      },
      "source": [
        "# Embaralhamento dos Dados\n",
        "\n",
        "---\n",
        "\n",
        "Começo da implementação de uma função que embaralha os dados em grupos simultaneamente, sem perder a ordem. Será implementado no futuro.\n",
        "\n",
        "Talvez não seja necessário pois o dataset não possui \"dados viciados\", porém, é uma boa prática embaralhar dados."
      ]
    },
    {
      "cell_type": "code",
      "execution_count": null,
      "metadata": {
        "colab": {
          "base_uri": "https://localhost:8080/"
        },
        "id": "hksPGjq4BdpB",
        "outputId": "6e9e575b-6249-4076-cebf-31e4eb693807"
      },
      "outputs": [
        {
          "data": {
            "application/vnd.google.colaboratory.intrinsic+json": {
              "type": "string"
            },
            "text/plain": [
              "' NECESSARIO IMPLEMENTAR SHUFFLE MAIS ALEM\\nfor i in range(len(data)):\\n  j = np.random.randint(0,len(data))\\n  templ, tempm = data[i], np.copy(data2[i,:])\\n  data[i], data2[i,:] = data[j], data2[j,:]\\n  data[j], data2[j,:] = templ, tempm\\n\\nprint(data)'"
            ]
          },
          "execution_count": 8,
          "metadata": {},
          "output_type": "execute_result"
        }
      ],
      "source": [
        "''' FUNÇÃO QUE EMBARALHA\n",
        "def shuffle_list_matrix(lista, matriz):\n",
        "  for i in range(len(lista)):\n",
        "    j = np.random.randint(0,2)\n",
        "    temp_list, temp_matriz = lista[i], matriz[i,:]\n",
        "    lista[i], matriz[i,:] = lista[j], matriz[j,:]\n",
        "    lista[j], matriz[j,:] = temp_list, temp_matriz\n",
        "\n",
        "  return (lista, matriz)    \n",
        "'''\n",
        "\n",
        "''' NECESSARIO IMPLEMENTAR SHUFFLE MAIS ALEM\n",
        "for i in range(len(data)):\n",
        "  j = np.random.randint(0,len(data))\n",
        "  templ, tempm = data[i], np.copy(data2[i,:])\n",
        "  data[i], data2[i,:] = data[j], data2[j,:]\n",
        "  data[j], data2[j,:] = templ, tempm\n",
        "\n",
        "print(data)'''"
      ]
    },
    {
      "cell_type": "markdown",
      "metadata": {
        "id": "rH4G7ZfB1Tvd"
      },
      "source": [
        "# Modelo de Machine Learning (SVM)\n",
        "\n",
        "---\n",
        "\n",
        "As máquinas de vetores de suporte foram obtidas através da biblioteca scikitlearn, com o seguinte procedimento:\n",
        "\n",
        "Como os valores que serão utilizados estão dentro de uma lista, foi necessário um laço de repetição, que percorrerá do inicio até o penultimo valor (ignorando o label, pois será a saída)\n",
        "\n",
        "O primeiro passo é separar os dados de treino e os dados de teste, seria necessária a normalização, porém os dados do dataset já estão normalizados.\n",
        "\n",
        "Os Parametros são"
      ]
    },
    {
      "cell_type": "code",
      "execution_count": 16,
      "metadata": {
        "colab": {
          "base_uri": "https://localhost:8080/",
          "height": 282
        },
        "id": "gO5LmxIqv1sZ",
        "outputId": "13d96094-d1b7-4fd0-e0e1-08387fcc2abe"
      },
      "outputs": [
        {
          "output_type": "execute_result",
          "data": {
            "text/plain": [
              "[<matplotlib.lines.Line2D at 0x7f6341397d90>]"
            ]
          },
          "metadata": {},
          "execution_count": 16
        },
        {
          "output_type": "display_data",
          "data": {
            "text/plain": [
              "<Figure size 432x288 with 1 Axes>"
            ],
            "image/png": "[encoded data removed]"
          },
          "metadata": {
            "needs_background": "light"
          }
        }
      ],
      "source": [
        "#Separação do conjunto de dados e testes e normalização\n",
        "from sklearn.model_selection import train_test_split\n",
        "from sklearn.svm import SVC\n",
        "from sklearn.metrics import accuracy_score\n",
        "\n",
        "i=0\n",
        "distancia = []\n",
        "acur_SVM = []\n",
        "acur_SVM_Gauss = []\n",
        "for data in datas[:-1]:\n",
        "  X_train, X_test, y_train, y_test  = train_test_split(data.T, y_transf, test_size=0.33, random_state=0)\n",
        "\n",
        "  X_train_Gauss = gaussian_filter1d(X_train, 3)\n",
        "  X_test_Gauss = gaussian_filter1d(X_test, 3)\n",
        "\n",
        "  clf = SVC(kernel = 'linear', decision_function_shape='ovo')\n",
        "  clf.fit(X_train, y_train)\n",
        "\n",
        "  clf_Gauss = SVC(kernel = 'linear', decision_function_shape='ovo')\n",
        "  clf_Gauss.fit(X_train_Gauss, y_train)\n",
        "\n",
        "  y_pred = clf.predict(X_test)\n",
        "  y_pred_Gauss = clf_Gauss.predict(X_test_Gauss)\n",
        "\n",
        "  acur_SVM.append(accuracy_score(y_test, y_pred)*100)\n",
        "  acur_SVM_Gauss.append(accuracy_score(y_test, y_pred_Gauss)*100)\n",
        "  distancia.append(i)\n",
        "  #print(\"\\nAcuracia:\", accuracy_score(y_test, y_pred)*100, \"%   Distancia:\", i)\n",
        "  i = i + 5\n",
        "\n",
        "import matplotlib.pyplot as plt\n",
        "plt.plot(distancia,acur_SVM) \n",
        "plt.plot(distancia,acur_SVM_Gauss,'.')   "
      ]
    },
    {
      "cell_type": "markdown",
      "metadata": {
        "id": "qGw2PwWFlQUn"
      },
      "source": [
        "# **ALGORITMO KNN**\n",
        "\n",
        "---\n",
        "\n"
      ]
    },
    {
      "cell_type": "code",
      "execution_count": 17,
      "metadata": {
        "colab": {
          "base_uri": "https://localhost:8080/",
          "height": 282
        },
        "id": "-zVhPtlpk6oU",
        "outputId": "e9bb88bc-97b2-4b79-e18f-472f2ac4ea84"
      },
      "outputs": [
        {
          "output_type": "execute_result",
          "data": {
            "text/plain": [
              "[<matplotlib.lines.Line2D at 0x7f63413061c0>]"
            ]
          },
          "metadata": {},
          "execution_count": 17
        },
        {
          "output_type": "display_data",
          "data": {
            "text/plain": [
              "<Figure size 432x288 with 1 Axes>"
            ],
            "image/png": "[encoded data removed]"
          },
          "metadata": {
            "needs_background": "light"
          }
        }
      ],
      "source": [
        "from sklearn.neighbors import KNeighborsClassifier\n",
        "from sklearn.metrics import accuracy_score\n",
        "from sklearn.model_selection import train_test_split\n",
        "\n",
        "i=0\n",
        "distancia = []\n",
        "acur_KNN = []\n",
        "acur_KNN_Gauss = []\n",
        "for data in datas[:-1]:\n",
        "  X_train, X_test, y_train, y_test  = train_test_split(data.T, y_transf, test_size=0.33, random_state=0)\n",
        "  \n",
        "  X_train_Gauss = gaussian_filter1d(X_train, 3)\n",
        "  X_test_Gauss = gaussian_filter1d(X_test, 3)\n",
        "\n",
        "  clf = KNeighborsClassifier(n_neighbors=3)\n",
        "  clf.fit(X_train, y_train)\n",
        "\n",
        "  clf_Gauss = KNeighborsClassifier(n_neighbors=3)\n",
        "  clf_Gauss.fit(X_train_Gauss, y_train)\n",
        "\n",
        "  y_pred = clf.predict(X_test)\n",
        "  y_pred_Gauss = clf_Gauss.predict(X_test_Gauss)\n",
        "\n",
        "  acur_KNN.append(accuracy_score(y_test, y_pred)*100)\n",
        "  acur_KNN_Gauss.append(accuracy_score(y_test, y_pred_Gauss)*100)\n",
        "  distancia.append(i)\n",
        "  #print(\"\\nAcuracia:\", accuracy_score(y_test, y_pred)*100, \"%   Distancia:\", i)\n",
        "  i = i + 5\n",
        "\n",
        "import matplotlib.pyplot as plt\n",
        "plt.plot(distancia,acur_KNN) \n",
        "plt.plot(distancia,acur_KNN_Gauss,'.') "
      ]
    },
    {
      "cell_type": "markdown",
      "metadata": {
        "id": "NLFc-FS6ehRb"
      },
      "source": [
        "# **METODOS DE ENSEMBLE**\n",
        "\n",
        "---\n",
        "\n"
      ]
    },
    {
      "cell_type": "markdown",
      "metadata": {
        "id": "KySvizIsendj"
      },
      "source": [
        "\n",
        "> # **Classificadores por Votação**\n",
        "\n",
        "\n",
        "\n",
        "---\n",
        "\n",
        "\n",
        "> Agrupa diversos classificadores fracos e a partir da maioria das classificações prediz a mais votada.\n",
        "\n",
        "\n",
        "> Chamado de Hard Voting\n"
      ]
    },
    {
      "cell_type": "code",
      "execution_count": null,
      "metadata": {
        "colab": {
          "background_save": true,
          "base_uri": "https://localhost:8080/"
        },
        "id": "xIhU3C9YYVFb",
        "outputId": "9a5fbe36-5755-4d53-aaa4-b373dcadf6ea"
      },
      "outputs": [
        {
          "name": "stdout",
          "output_type": "stream",
          "text": [
            "\n",
            "Acuracia: 100.0 %   Distancia: 0\n",
            "\n",
            "Acuracia: 100.0 %   Distancia: 5\n",
            "\n",
            "Acuracia: 100.0 %   Distancia: 10\n",
            "\n",
            "Acuracia: 100.0 %   Distancia: 15\n",
            "\n",
            "Acuracia: 100.0 %   Distancia: 20\n",
            "\n",
            "Acuracia: 100.0 %   Distancia: 25\n",
            "\n",
            "Acuracia: 100.0 %   Distancia: 30\n",
            "\n",
            "Acuracia: 100.0 %   Distancia: 35\n",
            "\n",
            "Acuracia: 100.0 %   Distancia: 40\n",
            "\n",
            "Acuracia: 100.0 %   Distancia: 45\n",
            "\n",
            "Acuracia: 100.0 %   Distancia: 50\n",
            "\n",
            "Acuracia: 100.0 %   Distancia: 55\n",
            "\n",
            "Acuracia: 99.98316498316498 %   Distancia: 60\n",
            "\n",
            "Acuracia: 99.86531986531986 %   Distancia: 65\n",
            "\n",
            "Acuracia: 99.76430976430977 %   Distancia: 70\n",
            "\n",
            "Acuracia: 99.41077441077442 %   Distancia: 75\n",
            "\n",
            "Acuracia: 98.87205387205387 %   Distancia: 80\n",
            "\n",
            "Acuracia: 98.13131313131314 %   Distancia: 85\n",
            "\n",
            "Acuracia: 97.32323232323232 %   Distancia: 90\n",
            "\n",
            "Acuracia: 96.34680134680134 %   Distancia: 95\n",
            "\n",
            "Acuracia: 95.38720538720538 %   Distancia: 100\n",
            "\n",
            "Acuracia: 92.77777777777779 %   Distancia: 105\n",
            "\n",
            "Acuracia: 90.65656565656566 %   Distancia: 110\n",
            "\n",
            "Acuracia: 89.02356902356902 %   Distancia: 115\n",
            "\n",
            "Acuracia: 86.86868686868688 %   Distancia: 120\n",
            "\n",
            "Acuracia: 82.62626262626263 %   Distancia: 125\n",
            "\n",
            "Acuracia: 81.44781144781145 %   Distancia: 130\n",
            "\n",
            "Acuracia: 78.3838383838384 %   Distancia: 135\n",
            "\n",
            "Acuracia: 77.54208754208754 %   Distancia: 140\n",
            "\n",
            "Acuracia: 75.48821548821549 %   Distancia: 145\n",
            "\n",
            "Acuracia: 73.23232323232324 %   Distancia: 150\n",
            "\n",
            "Acuracia: 73.63636363636363 %   Distancia: 155\n",
            "\n",
            "Acuracia: 71.56565656565657 %   Distancia: 160\n",
            "\n",
            "Acuracia: 70.42087542087542 %   Distancia: 165\n",
            "\n",
            "Acuracia: 68.26599326599326 %   Distancia: 170\n",
            "\n",
            "Acuracia: 68.35016835016835 %   Distancia: 175\n",
            "\n",
            "Acuracia: 66.61616161616162 %   Distancia: 180\n"
          ]
        }
      ],
      "source": [
        "from sklearn.ensemble import RandomForestClassifier\n",
        "from sklearn.ensemble import VotingClassifier\n",
        "from sklearn.linear_model import LogisticRegression\n",
        "from sklearn.tree import DecisionTreeClassifier\n",
        "from sklearn.metrics import accuracy_score\n",
        "from sklearn.model_selection import train_test_split\n",
        "\n",
        "log_clf = LogisticRegression()\n",
        "tree_clf = DecisionTreeClassifier()\n",
        "svm_clf = SVC()\n",
        "knn_clf = KNeighborsClassifier(n_neighbors=3)\n",
        "\n",
        "i=0\n",
        "for data in datas[:-1]:\n",
        "  X_train, X_test, y_train, y_test  = train_test_split(data.T, y_transf, test_size=0.33, random_state=0)\n",
        "\n",
        "  voting_clf = VotingClassifier(estimators = [('lr',log_clf), \n",
        "                                              ('dt', tree_clf), \n",
        "                                              ('svc', svm_clf),\n",
        "                                              ('knn', knn_clf)],\n",
        "                                voting='hard'\n",
        "  )\n",
        "\n",
        "  voting_clf.fit(X_train, y_train)\n",
        "\n",
        "  y_pred = voting_clf.predict(X_test)\n",
        "\n",
        "  print(\"\\nAcuracia:\", accuracy_score(y_test, y_pred)*100, \"%   Distancia:\", i)\n",
        "  i = i + 5\n",
        "\n",
        "\n"
      ]
    },
    {
      "cell_type": "markdown",
      "metadata": {
        "id": "xh_jidw6fbJv"
      },
      "source": [
        "\n",
        " > # **Classificador por Bagging**\n",
        "\n",
        "---\n",
        "\n",
        "\n",
        "> Ao invés de agrupar diversos Classificadores diferentes, este metodo de ensemble utiliza apenas um tipo de classificador, criando subconjuntos aleatorios no conjunto de treinamento.\n",
        "\n",
        "\n",
        "> Este tipo de ensemble se diferencia dos demais pois as predições podem ser feitas paralelamente. (Parâmetro n_jobs)"
      ]
    },
    {
      "cell_type": "code",
      "execution_count": 18,
      "metadata": {
        "colab": {
          "base_uri": "https://localhost:8080/",
          "height": 282
        },
        "id": "TxUdk2d8ah1Y",
        "outputId": "5db332f1-a367-4920-ad8c-ca114b785b40"
      },
      "outputs": [
        {
          "output_type": "execute_result",
          "data": {
            "text/plain": [
              "[<matplotlib.lines.Line2D at 0x7f6340e64520>]"
            ]
          },
          "metadata": {},
          "execution_count": 18
        },
        {
          "output_type": "display_data",
          "data": {
            "text/plain": [
              "<Figure size 432x288 with 1 Axes>"
            ],
            "image/png": "[encoded data removed]"
          },
          "metadata": {
            "needs_background": "light"
          }
        }
      ],
      "source": [
        "from sklearn.ensemble import BaggingClassifier\n",
        "from sklearn.neighbors import KNeighborsClassifier\n",
        "\n",
        "i=0\n",
        "distancia = []\n",
        "acur_bag = []\n",
        "acur_bag_Gauss = []\n",
        "for data in datas[:-1]:\n",
        "  X_train, X_test, y_train, y_test  = train_test_split(data.T, y_transf, test_size=0.33, random_state=0)\n",
        "\n",
        "  X_train_Gauss = gaussian_filter1d(X_train, 3)\n",
        "  X_test_Gauss = gaussian_filter1d(X_test, 3)\n",
        "\n",
        "  clf = BaggingClassifier(KNeighborsClassifier(), n_estimators = 500, max_samples=100, bootstrap=True)\n",
        "  clf.fit(X_train, y_train)\n",
        "\n",
        "  clf_Gauss = BaggingClassifier(KNeighborsClassifier(), n_estimators = 500, max_samples=100, bootstrap=True)\n",
        "  clf_Gauss.fit(X_train_Gauss, y_train)\n",
        "\n",
        "  y_pred = clf.predict(X_test)\n",
        "  y_pred_Gauss = clf_Gauss.predict(X_test_Gauss)\n",
        "\n",
        "  acur_bag.append(accuracy_score(y_test, y_pred)*100)\n",
        "  acur_bag_Gauss.append(accuracy_score(y_test, y_pred_Gauss)*100)\n",
        "  distancia.append(i)\n",
        "  #print(\"\\nAcuracia:\", accuracy_score(y_test, y_pred)*100, \"%   Distancia:\", i)\n",
        "  i = i + 5\n",
        "\n",
        "import matplotlib.pyplot as plt\n",
        "plt.plot(distancia,acur_bag) \n",
        "plt.plot(distancia,acur_bag_Gauss,'.') "
      ]
    },
    {
      "cell_type": "markdown",
      "metadata": {
        "id": "pUreaQj9jd5F"
      },
      "source": [
        "# **BOOSTING**\n",
        "\n",
        "---\n",
        "\n",
        "Metodos de Boosting são metodos de ensemble que combinam classificadores fracos sequencialmente. Cada classificador tem objetivo de corrigir os erros do predecessor.\n",
        "\n",
        "Serão abordados o Adaboost e o Gradient Boost."
      ]
    },
    {
      "cell_type": "markdown",
      "metadata": {
        "id": "36XxcSYzj3SZ"
      },
      "source": [
        "\n",
        "> # **Gradient Boost**\n",
        "\n",
        "\n"
      ]
    },
    {
      "cell_type": "code",
      "execution_count": 19,
      "metadata": {
        "id": "Bw-WxHsTj-K1",
        "colab": {
          "base_uri": "https://localhost:8080/",
          "height": 282
        },
        "outputId": "5b0d6c64-a325-493f-a5c2-9ebe6e53cc20"
      },
      "outputs": [
        {
          "output_type": "execute_result",
          "data": {
            "text/plain": [
              "[<matplotlib.lines.Line2D at 0x7f6340e61fd0>]"
            ]
          },
          "metadata": {},
          "execution_count": 19
        },
        {
          "output_type": "display_data",
          "data": {
            "text/plain": [
              "<Figure size 432x288 with 1 Axes>"
            ],
            "image/png": "[encoded data removed]"
          },
          "metadata": {
            "needs_background": "light"
          }
        }
      ],
      "source": [
        "from sklearn.ensemble import GradientBoostingClassifier\n",
        "from sklearn.model_selection import train_test_split\n",
        "\n",
        "i=0\n",
        "distancia = []\n",
        "acur_GB = []\n",
        "acur_GB_Gauss = []\n",
        "for data in datas[:-1]:\n",
        "  X_train, X_test, y_train, y_test  = train_test_split(data.T, y_transf, test_size=0.33, random_state=0)\n",
        "  \n",
        "  X_train_Gauss = gaussian_filter1d(X_train, 3)\n",
        "  X_test_Gauss = gaussian_filter1d(X_test, 3)\n",
        "\n",
        "  clf = GradientBoostingClassifier()\n",
        "  clf.fit(X_train, y_train)\n",
        "\n",
        "  clf_Gauss = GradientBoostingClassifier()\n",
        "  clf_Gauss.fit(X_train_Gauss, y_train)\n",
        "\n",
        "  y_pred = clf.predict(X_test)\n",
        "  y_pred_Gauss = clf_Gauss.predict(X_test_Gauss)\n",
        "\n",
        "  acur_GB.append(accuracy_score(y_test, y_pred)*100)\n",
        "  acur_GB_Gauss.append(accuracy_score(y_test, y_pred_Gauss)*100)\n",
        "  distancia.append(i)\n",
        "  #print(\"\\nAcuracia:\", accuracy_score(y_test, y_pred)*100, \"%   Distancia:\", i)\n",
        "  i = i + 5\n",
        "\n",
        "import matplotlib.pyplot as plt\n",
        "plt.plot(distancia,acur_GB) \n",
        "plt.plot(distancia,acur_GB_Gauss,'.')   "
      ]
    },
    {
      "cell_type": "code",
      "source": [
        "from xgboost import XGBClassifier\n",
        "from sklearn.metrics import accuracy_score\n",
        "from sklearn.model_selection import train_test_split\n",
        "\n",
        "i=0\n",
        "distancia = []\n",
        "acur_XGB = []\n",
        "acur_XGB_Gauss = []\n",
        "for data in datas[:-1]:\n",
        "  X_train, X_test, y_train, y_test  = train_test_split(data.T, y_transf, test_size=0.33, random_state=0)\n",
        "\n",
        "  X_train_Gauss = gaussian_filter1d(X_train, 3)\n",
        "  X_test_Gauss = gaussian_filter1d(X_test, 3)\n",
        "\n",
        "  clf = XGBClassifier(n_estimators = 100,\n",
        "                      max_depth = 10, \n",
        "                      learning_rate = 0.01,\n",
        "                      subsample = 1,\n",
        "                      random_state=0)\n",
        "  clf.fit(X_train, y_train)\n",
        "\n",
        "  clf_Gauss = XGBClassifier(n_estimators = 100,\n",
        "                      max_depth = 10, \n",
        "                      learning_rate = 0.01,\n",
        "                      subsample = 1,\n",
        "                      random_state=0)\n",
        "  clf_Gauss.fit(X_train_Gauss, y_train)\n",
        "\n",
        "  y_pred = clf.predict(X_test)\n",
        "  y_pred_Gauss = clf_Gauss.predict(X_test_Gauss)\n",
        "\n",
        "  acur_XGB.append(accuracy_score(y_test, y_pred)*100)\n",
        "  acur_XGB_Gauss.append(accuracy_score(y_test, y_pred_Gauss)*100)\n",
        "  distancia.append(i)\n",
        "  #print(\"\\nAcuracia:\", accuracy_score(y_test, y_pred)*100, \"%   Distancia:\", i)\n",
        "  i = i + 5\n",
        "\n",
        "import matplotlib.pyplot as plt\n",
        "plt.plot(distancia,acur_XGB) \n",
        "plt.plot(distancia,acur_XGB_Gauss,'.')  "
      ],
      "metadata": {
        "id": "54O5efOjr4cQ",
        "colab": {
          "base_uri": "https://localhost:8080/",
          "height": 282
        },
        "outputId": "aafb999b-f6f7-4cf9-ed69-2136e92f5d43"
      },
      "execution_count": 20,
      "outputs": [
        {
          "output_type": "execute_result",
          "data": {
            "text/plain": [
              "[<matplotlib.lines.Line2D at 0x7f6340e1cf10>]"
            ]
          },
          "metadata": {},
          "execution_count": 20
        },
        {
          "output_type": "display_data",
          "data": {
            "text/plain": [
              "<Figure size 432x288 with 1 Axes>"
            ],
            "image/png": "[encoded data removed]"
          },
          "metadata": {
            "needs_background": "light"
          }
        }
      ]
    },
    {
      "cell_type": "code",
      "source": [
        "import lightgbm as lgb\n",
        "from sklearn.metrics import accuracy_score\n",
        "from sklearn.model_selection import train_test_split\n",
        "\n",
        "i=0\n",
        "distancia = []\n",
        "acur_LGB = []\n",
        "acur_LGB_Gauss = []\n",
        "for data in datas[:-1]:\n",
        "  X_train, X_test, y_train, y_test  = train_test_split(data.T, y_transf, test_size=0.33, random_state=0)\n",
        "\n",
        "  X_train_Gauss = gaussian_filter1d(X_train, 3)\n",
        "  X_test_Gauss = gaussian_filter1d(X_test, 3)\n",
        "\n",
        "  clf = lgb.LGBMClassifier()\n",
        "  clf.fit(X_train, y_train)\n",
        "\n",
        "  clf_Gauss = lgb.LGBMClassifier()\n",
        "  clf_Gauss.fit(X_train_Gauss, y_train)\n",
        "\n",
        "  y_pred = clf.predict(X_test)\n",
        "  y_pred_Gauss = clf_Gauss.predict(X_test_Gauss)\n",
        "\n",
        "  acur_LGB.append(accuracy_score(y_test, y_pred)*100)\n",
        "  acur_LGB_Gauss.append(accuracy_score(y_test, y_pred_Gauss)*100)\n",
        "  distancia.append(i)\n",
        "  #print(\"\\nAcuracia:\", accuracy_score(y_test, y_pred)*100, \"%   Distancia:\", i)\n",
        "  i = i + 5\n",
        "\n",
        "import matplotlib.pyplot as plt\n",
        "plt.plot(distancia,acur_LGB) \n",
        "plt.plot(distancia,acur_LGB_Gauss,'.')  "
      ],
      "metadata": {
        "id": "ZCEdJWj4spQO",
        "colab": {
          "base_uri": "https://localhost:8080/",
          "height": 282
        },
        "outputId": "d7fbe73f-5655-45fa-9c12-587bc8936227"
      },
      "execution_count": 21,
      "outputs": [
        {
          "output_type": "execute_result",
          "data": {
            "text/plain": [
              "[<matplotlib.lines.Line2D at 0x7f63447603d0>]"
            ]
          },
          "metadata": {},
          "execution_count": 21
        },
        {
          "output_type": "display_data",
          "data": {
            "text/plain": [
              "<Figure size 432x288 with 1 Axes>"
            ],
            "image/png": "[encoded data removed]"
          },
          "metadata": {
            "needs_background": "light"
          }
        }
      ]
    },
    {
      "cell_type": "markdown",
      "source": [
        "# **REDE NEURAL**\n",
        "\n",
        "---\n",
        "\n"
      ],
      "metadata": {
        "id": "-iJKlwAi3Ezq"
      }
    },
    {
      "cell_type": "code",
      "source": [
        "from tensorflow import keras\n",
        "from keras import layers\n",
        "\n",
        "modelo1 = keras.Sequential(\n",
        "    [\n",
        "     keras.Input(shape=(40)),\n",
        "     layers.Dense(10, activation='relu'),\n",
        "     layers.Dense(10, activation = 'relu'),\n",
        "     layers.Dense(20, activation = 'relu'),\n",
        "     layers.Dense(1, activation = 'sigmoid'),\n",
        "    ]\n",
        ")\n",
        "\n",
        "modelo1.summary()\n",
        "modelo1.compile(loss='mean_squared_error',\n",
        "              optimizer = 'SGD', metrics=['accuracy'])\n",
        "\n",
        "\n",
        "modelo2 = keras.Sequential(\n",
        "    [\n",
        "     keras.Input(shape=(40)),\n",
        "     layers.Dense(100, activation='relu'),\n",
        "     layers.Dense(100, activation = 'relu'),\n",
        "     layers.Dense(200, activation = 'relu'),\n",
        "     layers.Dense(1, activation = 'sigmoid'),\n",
        "    ]\n",
        ")\n",
        "\n",
        "modelo2.summary()\n",
        "modelo2.compile(loss='mean_squared_error',\n",
        "              optimizer = 'SGD', metrics=['accuracy'])"
      ],
      "metadata": {
        "colab": {
          "base_uri": "https://localhost:8080/"
        },
        "id": "D2otfCk_3Ary",
        "outputId": "2785dd7d-0451-44e5-81b6-59cecece1dd4"
      },
      "execution_count": 22,
      "outputs": [
        {
          "output_type": "stream",
          "name": "stdout",
          "text": [
            "Model: \"sequential\"\n",
            "_________________________________________________________________\n",
            " Layer (type)                Output Shape              Param #   \n",
            "=================================================================\n",
            " dense (Dense)               (None, 10)                410       \n",
            "                                                                 \n",
            " dense_1 (Dense)             (None, 10)                110       \n",
            "                                                                 \n",
            " dense_2 (Dense)             (None, 20)                220       \n",
            "                                                                 \n",
            " dense_3 (Dense)             (None, 1)                 21        \n",
            "                                                                 \n",
            "=================================================================\n",
            "Total params: 761\n",
            "Trainable params: 761\n",
            "Non-trainable params: 0\n",
            "_________________________________________________________________\n",
            "Model: \"sequential_1\"\n",
            "_________________________________________________________________\n",
            " Layer (type)                Output Shape              Param #   \n",
            "=================================================================\n",
            " dense_4 (Dense)             (None, 100)               4100      \n",
            "                                                                 \n",
            " dense_5 (Dense)             (None, 100)               10100     \n",
            "                                                                 \n",
            " dense_6 (Dense)             (None, 200)               20200     \n",
            "                                                                 \n",
            " dense_7 (Dense)             (None, 1)                 201       \n",
            "                                                                 \n",
            "=================================================================\n",
            "Total params: 34,601\n",
            "Trainable params: 34,601\n",
            "Non-trainable params: 0\n",
            "_________________________________________________________________\n"
          ]
        }
      ]
    },
    {
      "cell_type": "code",
      "source": [
        "i=0\n",
        "acur_NN_maior = []\n",
        "acur_NN_menor = []\n",
        "distancia = []\n",
        "for data in datas[:-1]:\n",
        "  X_train, X_test, y_train, y_test  = train_test_split(data.T, y_transf, test_size=0.33, random_state=0)\n",
        "\n",
        "  modelo1.fit(X_train, y_train, \n",
        "             batch_size=100, epochs=20, \n",
        "             validation_data=(X_test, y_test), \n",
        "             verbose=0)\n",
        "\n",
        "  score1, acc1 = modelo1.evaluate(X_test, y_test,\n",
        "                              batch_size=100)\n",
        "  \n",
        "  modelo2.fit(X_train, y_train, \n",
        "             batch_size=100, epochs=20, \n",
        "             validation_data=(X_test, y_test), \n",
        "             verbose=0)\n",
        "\n",
        "  score2, acc2 = modelo2.evaluate(X_test, y_test,\n",
        "                              batch_size=100)\n",
        "  \n",
        "  #print('Acuracia Modelo1:', acc1, 'Distância:', i)\n",
        "  #print('Acuracia Modelo2:', acc2, 'Distância:', i)\n",
        "  acur_NN_maior.append(acc1*100)\n",
        "  acur_NN_menor.append(acc2*100)\n",
        "  distancia.append(i)\n",
        "  i = i + 5"
      ],
      "metadata": {
        "colab": {
          "base_uri": "https://localhost:8080/"
        },
        "id": "-Xq8LWNP72kS",
        "outputId": "e3ac3677-838c-4e2c-95f7-25d930af4622"
      },
      "execution_count": 23,
      "outputs": [
        {
          "output_type": "stream",
          "name": "stdout",
          "text": [
            "60/60 [==============================] - 0s 2ms/step - loss: 0.0015 - accuracy: 1.0000\n",
            "60/60 [==============================] - 0s 2ms/step - loss: 0.0011 - accuracy: 1.0000\n",
            "60/60 [==============================] - 0s 2ms/step - loss: 6.0972e-04 - accuracy: 1.0000\n",
            "60/60 [==============================] - 0s 2ms/step - loss: 5.4425e-04 - accuracy: 1.0000\n",
            "60/60 [==============================] - 0s 1ms/step - loss: 2.6048e-04 - accuracy: 1.0000\n",
            "60/60 [==============================] - 0s 2ms/step - loss: 2.2361e-04 - accuracy: 1.0000\n",
            "60/60 [==============================] - 0s 2ms/step - loss: 2.1926e-04 - accuracy: 1.0000\n",
            "60/60 [==============================] - 0s 2ms/step - loss: 2.1226e-04 - accuracy: 1.0000\n",
            "60/60 [==============================] - 0s 2ms/step - loss: 2.3285e-04 - accuracy: 1.0000\n",
            "60/60 [==============================] - 0s 2ms/step - loss: 2.2688e-04 - accuracy: 1.0000\n",
            "60/60 [==============================] - 0s 2ms/step - loss: 2.4344e-04 - accuracy: 1.0000\n",
            "60/60 [==============================] - 0s 2ms/step - loss: 2.3272e-04 - accuracy: 1.0000\n",
            "60/60 [==============================] - 0s 2ms/step - loss: 3.2553e-04 - accuracy: 1.0000\n",
            "60/60 [==============================] - 0s 2ms/step - loss: 3.2333e-04 - accuracy: 1.0000\n",
            "60/60 [==============================] - 0s 2ms/step - loss: 4.9240e-04 - accuracy: 1.0000\n",
            "60/60 [==============================] - 0s 2ms/step - loss: 4.6929e-04 - accuracy: 1.0000\n",
            "60/60 [==============================] - 0s 1ms/step - loss: 6.9000e-04 - accuracy: 1.0000\n",
            "60/60 [==============================] - 0s 2ms/step - loss: 7.0313e-04 - accuracy: 1.0000\n",
            "60/60 [==============================] - 0s 1ms/step - loss: 8.2139e-04 - accuracy: 1.0000\n",
            "60/60 [==============================] - 0s 2ms/step - loss: 7.7798e-04 - accuracy: 1.0000\n",
            "60/60 [==============================] - 0s 2ms/step - loss: 9.2225e-04 - accuracy: 1.0000\n",
            "60/60 [==============================] - 0s 2ms/step - loss: 9.3424e-04 - accuracy: 1.0000\n",
            "60/60 [==============================] - 0s 2ms/step - loss: 0.0023 - accuracy: 0.9987\n",
            "60/60 [==============================] - 0s 2ms/step - loss: 0.0022 - accuracy: 0.9993\n",
            "60/60 [==============================] - 0s 1ms/step - loss: 0.0031 - accuracy: 0.9983\n",
            "60/60 [==============================] - 0s 2ms/step - loss: 0.0031 - accuracy: 0.9980\n",
            "60/60 [==============================] - 0s 3ms/step - loss: 0.0043 - accuracy: 0.9966\n",
            "60/60 [==============================] - 0s 2ms/step - loss: 0.0041 - accuracy: 0.9956\n",
            "60/60 [==============================] - 0s 1ms/step - loss: 0.0059 - accuracy: 0.9948\n",
            "60/60 [==============================] - 0s 2ms/step - loss: 0.0062 - accuracy: 0.9929\n",
            "60/60 [==============================] - 0s 2ms/step - loss: 0.0087 - accuracy: 0.9891\n",
            "60/60 [==============================] - 0s 2ms/step - loss: 0.0082 - accuracy: 0.9901\n",
            "60/60 [==============================] - 0s 2ms/step - loss: 0.0148 - accuracy: 0.9808\n",
            "60/60 [==============================] - 0s 2ms/step - loss: 0.0139 - accuracy: 0.9823\n",
            "60/60 [==============================] - 0s 2ms/step - loss: 0.0165 - accuracy: 0.9781\n",
            "60/60 [==============================] - 0s 2ms/step - loss: 0.0164 - accuracy: 0.9766\n",
            "60/60 [==============================] - 0s 2ms/step - loss: 0.0199 - accuracy: 0.9753\n",
            "60/60 [==============================] - 0s 2ms/step - loss: 0.0207 - accuracy: 0.9739\n",
            "60/60 [==============================] - 0s 2ms/step - loss: 0.0280 - accuracy: 0.9633\n",
            "60/60 [==============================] - 0s 2ms/step - loss: 0.0278 - accuracy: 0.9630\n",
            "60/60 [==============================] - 0s 2ms/step - loss: 0.0321 - accuracy: 0.9556\n",
            "60/60 [==============================] - 0s 2ms/step - loss: 0.0314 - accuracy: 0.9571\n",
            "60/60 [==============================] - 0s 2ms/step - loss: 0.0515 - accuracy: 0.9279\n",
            "60/60 [==============================] - 0s 2ms/step - loss: 0.0494 - accuracy: 0.9305\n",
            "60/60 [==============================] - 0s 2ms/step - loss: 0.0613 - accuracy: 0.9157\n",
            "60/60 [==============================] - 0s 2ms/step - loss: 0.0623 - accuracy: 0.9167\n",
            "60/60 [==============================] - 0s 2ms/step - loss: 0.0714 - accuracy: 0.9002\n",
            "60/60 [==============================] - 0s 2ms/step - loss: 0.0717 - accuracy: 0.8992\n",
            "60/60 [==============================] - 0s 2ms/step - loss: 0.0845 - accuracy: 0.8842\n",
            "60/60 [==============================] - 0s 2ms/step - loss: 0.0841 - accuracy: 0.8838\n",
            "60/60 [==============================] - 0s 2ms/step - loss: 0.1121 - accuracy: 0.8453\n",
            "60/60 [==============================] - 0s 2ms/step - loss: 0.1105 - accuracy: 0.8438\n",
            "60/60 [==============================] - 0s 2ms/step - loss: 0.1183 - accuracy: 0.8343\n",
            "60/60 [==============================] - 0s 2ms/step - loss: 0.1185 - accuracy: 0.8345\n",
            "60/60 [==============================] - 0s 2ms/step - loss: 0.1380 - accuracy: 0.8045\n",
            "60/60 [==============================] - 0s 2ms/step - loss: 0.1382 - accuracy: 0.8040\n",
            "60/60 [==============================] - 0s 1ms/step - loss: 0.1382 - accuracy: 0.7970\n",
            "60/60 [==============================] - 0s 2ms/step - loss: 0.1390 - accuracy: 0.7970\n",
            "60/60 [==============================] - 0s 2ms/step - loss: 0.1568 - accuracy: 0.7697\n",
            "60/60 [==============================] - 0s 2ms/step - loss: 0.1621 - accuracy: 0.7653\n",
            "60/60 [==============================] - 0s 2ms/step - loss: 0.1684 - accuracy: 0.7483\n",
            "60/60 [==============================] - 0s 2ms/step - loss: 0.1734 - accuracy: 0.7379\n",
            "60/60 [==============================] - 0s 2ms/step - loss: 0.1641 - accuracy: 0.7577\n",
            "60/60 [==============================] - 0s 2ms/step - loss: 0.1693 - accuracy: 0.7520\n",
            "60/60 [==============================] - 0s 2ms/step - loss: 0.1808 - accuracy: 0.7258\n",
            "60/60 [==============================] - 0s 2ms/step - loss: 0.1772 - accuracy: 0.7333\n",
            "60/60 [==============================] - 0s 2ms/step - loss: 0.1812 - accuracy: 0.7298\n",
            "60/60 [==============================] - 0s 2ms/step - loss: 0.1793 - accuracy: 0.7342\n",
            "60/60 [==============================] - 0s 2ms/step - loss: 0.1900 - accuracy: 0.7084\n",
            "60/60 [==============================] - 0s 2ms/step - loss: 0.1918 - accuracy: 0.7057\n",
            "60/60 [==============================] - 0s 2ms/step - loss: 0.1934 - accuracy: 0.7039\n",
            "60/60 [==============================] - 0s 2ms/step - loss: 0.1937 - accuracy: 0.7039\n",
            "60/60 [==============================] - 0s 2ms/step - loss: 0.1968 - accuracy: 0.6929\n",
            "60/60 [==============================] - 0s 2ms/step - loss: 0.1972 - accuracy: 0.6943\n"
          ]
        }
      ]
    },
    {
      "cell_type": "code",
      "source": [
        "i=0\n",
        "acur_NN_maior_Gauss = []\n",
        "acur_NN_menor_Gauss = []\n",
        "distancia = []\n",
        "for data in datas[:-1]:\n",
        "  X_train, X_test, y_train, y_test  = train_test_split(data.T, y_transf, test_size=0.33, random_state=0)\n",
        "\n",
        "  X_train_Gauss = gaussian_filter1d(X_train, 3)\n",
        "  X_test_Gauss = gaussian_filter1d(X_test, 3)\n",
        "\n",
        "  modelo1.fit(X_train_Gauss, y_train, \n",
        "             batch_size=100, epochs=20, \n",
        "             validation_data=(X_test_Gauss, y_test), \n",
        "             verbose=0)\n",
        "\n",
        "  score1, acc1 = modelo1.evaluate(X_test_Gauss, y_test,\n",
        "                              batch_size=100)\n",
        "  \n",
        "  modelo2.fit(X_train_Gauss, y_train, \n",
        "             batch_size=100, epochs=20, \n",
        "             validation_data=(X_test_Gauss, y_test), \n",
        "             verbose=0)\n",
        "\n",
        "  score2, acc2 = modelo2.evaluate(X_test_Gauss, y_test,\n",
        "                              batch_size=100)\n",
        "  \n",
        "  #print('Acuracia Modelo1:', acc1, 'Distância:', i)\n",
        "  #print('Acuracia Modelo2:', acc2, 'Distância:', i)\n",
        "  acur_NN_maior_Gauss.append(acc1*100)\n",
        "  acur_NN_menor_Gauss.append(acc2*100)\n",
        "  distancia.append(i)\n",
        "  i = i + 5"
      ],
      "metadata": {
        "colab": {
          "base_uri": "https://localhost:8080/"
        },
        "id": "6JZWsNLf6l-K",
        "outputId": "9e4475ac-45f9-4ff4-c208-b2fcb4a71db8"
      },
      "execution_count": 24,
      "outputs": [
        {
          "output_type": "stream",
          "name": "stdout",
          "text": [
            "60/60 [==============================] - 0s 2ms/step - loss: 7.9068e-05 - accuracy: 1.0000\n",
            "60/60 [==============================] - 0s 2ms/step - loss: 2.9003e-05 - accuracy: 1.0000\n",
            "60/60 [==============================] - 0s 2ms/step - loss: 6.8666e-05 - accuracy: 1.0000\n",
            "60/60 [==============================] - 0s 2ms/step - loss: 3.5159e-05 - accuracy: 1.0000\n",
            "60/60 [==============================] - 0s 2ms/step - loss: 5.2187e-05 - accuracy: 1.0000\n",
            "60/60 [==============================] - 0s 2ms/step - loss: 2.5657e-05 - accuracy: 1.0000\n",
            "60/60 [==============================] - 0s 1ms/step - loss: 4.0525e-05 - accuracy: 1.0000\n",
            "60/60 [==============================] - 0s 2ms/step - loss: 2.2452e-05 - accuracy: 1.0000\n",
            "60/60 [==============================] - 0s 2ms/step - loss: 4.8243e-05 - accuracy: 1.0000\n",
            "60/60 [==============================] - 0s 2ms/step - loss: 2.9831e-05 - accuracy: 1.0000\n",
            "60/60 [==============================] - 0s 2ms/step - loss: 5.9011e-05 - accuracy: 1.0000\n",
            "60/60 [==============================] - 0s 2ms/step - loss: 3.6562e-05 - accuracy: 1.0000\n",
            "60/60 [==============================] - 0s 2ms/step - loss: 1.1122e-04 - accuracy: 1.0000\n",
            "60/60 [==============================] - 0s 2ms/step - loss: 5.5131e-05 - accuracy: 1.0000\n",
            "60/60 [==============================] - 0s 2ms/step - loss: 2.5554e-04 - accuracy: 1.0000\n",
            "60/60 [==============================] - 0s 2ms/step - loss: 1.1569e-04 - accuracy: 1.0000\n",
            "60/60 [==============================] - 0s 1ms/step - loss: 3.6992e-04 - accuracy: 1.0000\n",
            "60/60 [==============================] - 0s 2ms/step - loss: 1.6872e-04 - accuracy: 1.0000\n",
            "60/60 [==============================] - 0s 2ms/step - loss: 4.9484e-04 - accuracy: 1.0000\n",
            "60/60 [==============================] - 0s 2ms/step - loss: 2.2625e-04 - accuracy: 1.0000\n",
            "60/60 [==============================] - 0s 1ms/step - loss: 7.1442e-04 - accuracy: 1.0000\n",
            "60/60 [==============================] - 0s 2ms/step - loss: 3.6696e-04 - accuracy: 1.0000\n",
            "60/60 [==============================] - 0s 2ms/step - loss: 0.0014 - accuracy: 1.0000\n",
            "60/60 [==============================] - 0s 2ms/step - loss: 9.6996e-04 - accuracy: 1.0000\n",
            "60/60 [==============================] - 0s 2ms/step - loss: 0.0018 - accuracy: 0.9995\n",
            "60/60 [==============================] - 0s 2ms/step - loss: 0.0014 - accuracy: 0.9997\n",
            "60/60 [==============================] - 0s 2ms/step - loss: 0.0032 - accuracy: 0.9978\n",
            "60/60 [==============================] - 0s 2ms/step - loss: 0.0029 - accuracy: 0.9980\n",
            "60/60 [==============================] - 0s 1ms/step - loss: 0.0043 - accuracy: 0.9958\n",
            "60/60 [==============================] - 0s 2ms/step - loss: 0.0039 - accuracy: 0.9966\n",
            "60/60 [==============================] - 0s 2ms/step - loss: 0.0065 - accuracy: 0.9938\n",
            "60/60 [==============================] - 0s 2ms/step - loss: 0.0058 - accuracy: 0.9946\n",
            "60/60 [==============================] - 0s 1ms/step - loss: 0.0108 - accuracy: 0.9879\n",
            "60/60 [==============================] - 0s 2ms/step - loss: 0.0106 - accuracy: 0.9879\n",
            "60/60 [==============================] - 0s 2ms/step - loss: 0.0135 - accuracy: 0.9840\n",
            "60/60 [==============================] - 0s 2ms/step - loss: 0.0142 - accuracy: 0.9820\n",
            "60/60 [==============================] - 0s 2ms/step - loss: 0.0176 - accuracy: 0.9763\n",
            "60/60 [==============================] - 0s 2ms/step - loss: 0.0176 - accuracy: 0.9768\n",
            "60/60 [==============================] - 0s 2ms/step - loss: 0.0245 - accuracy: 0.9685\n",
            "60/60 [==============================] - 0s 2ms/step - loss: 0.0249 - accuracy: 0.9677\n",
            "60/60 [==============================] - 0s 2ms/step - loss: 0.0293 - accuracy: 0.9614\n",
            "60/60 [==============================] - 0s 2ms/step - loss: 0.0294 - accuracy: 0.9603\n",
            "60/60 [==============================] - 0s 1ms/step - loss: 0.0477 - accuracy: 0.9335\n",
            "60/60 [==============================] - 0s 2ms/step - loss: 0.0476 - accuracy: 0.9328\n",
            "60/60 [==============================] - 0s 2ms/step - loss: 0.0613 - accuracy: 0.9195\n",
            "60/60 [==============================] - 0s 2ms/step - loss: 0.0634 - accuracy: 0.9160\n",
            "60/60 [==============================] - 0s 2ms/step - loss: 0.0730 - accuracy: 0.8978\n",
            "60/60 [==============================] - 0s 2ms/step - loss: 0.0713 - accuracy: 0.9024\n",
            "60/60 [==============================] - 0s 2ms/step - loss: 0.0830 - accuracy: 0.8867\n",
            "60/60 [==============================] - 0s 2ms/step - loss: 0.0958 - accuracy: 0.8653\n",
            "60/60 [==============================] - 0s 2ms/step - loss: 0.1123 - accuracy: 0.8419\n",
            "60/60 [==============================] - 0s 2ms/step - loss: 0.1154 - accuracy: 0.8424\n",
            "60/60 [==============================] - 0s 2ms/step - loss: 0.1180 - accuracy: 0.8352\n",
            "60/60 [==============================] - 0s 2ms/step - loss: 0.1183 - accuracy: 0.8359\n",
            "60/60 [==============================] - 0s 2ms/step - loss: 0.1405 - accuracy: 0.7980\n",
            "60/60 [==============================] - 0s 2ms/step - loss: 0.1367 - accuracy: 0.8052\n",
            "60/60 [==============================] - 0s 2ms/step - loss: 0.1452 - accuracy: 0.7875\n",
            "60/60 [==============================] - 0s 2ms/step - loss: 0.1398 - accuracy: 0.7941\n",
            "60/60 [==============================] - 0s 2ms/step - loss: 0.1543 - accuracy: 0.7747\n",
            "60/60 [==============================] - 0s 2ms/step - loss: 0.1539 - accuracy: 0.7749\n",
            "60/60 [==============================] - 0s 2ms/step - loss: 0.1666 - accuracy: 0.7540\n",
            "60/60 [==============================] - 0s 2ms/step - loss: 0.1665 - accuracy: 0.7544\n",
            "60/60 [==============================] - 0s 2ms/step - loss: 0.1632 - accuracy: 0.7582\n",
            "60/60 [==============================] - 0s 2ms/step - loss: 0.1643 - accuracy: 0.7579\n",
            "60/60 [==============================] - 0s 2ms/step - loss: 0.1802 - accuracy: 0.7283\n",
            "60/60 [==============================] - 0s 2ms/step - loss: 0.1780 - accuracy: 0.7298\n",
            "60/60 [==============================] - 0s 2ms/step - loss: 0.1784 - accuracy: 0.7320\n",
            "60/60 [==============================] - 0s 2ms/step - loss: 0.1785 - accuracy: 0.7327\n",
            "60/60 [==============================] - 0s 2ms/step - loss: 0.1899 - accuracy: 0.7091\n",
            "60/60 [==============================] - 0s 2ms/step - loss: 0.1913 - accuracy: 0.7088\n",
            "60/60 [==============================] - 0s 2ms/step - loss: 0.1938 - accuracy: 0.7054\n",
            "60/60 [==============================] - 0s 2ms/step - loss: 0.1959 - accuracy: 0.7012\n",
            "60/60 [==============================] - 0s 2ms/step - loss: 0.1966 - accuracy: 0.6919\n",
            "60/60 [==============================] - 0s 2ms/step - loss: 0.1969 - accuracy: 0.6924\n"
          ]
        }
      ]
    },
    {
      "cell_type": "code",
      "source": [
        "import matplotlib.pyplot as plt\n",
        "\n",
        "plt.plot(distancia,acur_NN_menor) \n",
        "plt.plot(distancia,acur_NN_maior)\n",
        "plt.plot(distancia,acur_NN_menor_Gauss,'.') \n",
        "plt.plot(distancia,acur_NN_maior_Gauss,'--')    "
      ],
      "metadata": {
        "colab": {
          "base_uri": "https://localhost:8080/",
          "height": 282
        },
        "id": "5IJmlQNM6xaM",
        "outputId": "f52228cd-03b1-452d-89d8-568409fdff48"
      },
      "execution_count": 25,
      "outputs": [
        {
          "output_type": "execute_result",
          "data": {
            "text/plain": [
              "[<matplotlib.lines.Line2D at 0x7f62dcdf0760>]"
            ]
          },
          "metadata": {},
          "execution_count": 25
        },
        {
          "output_type": "display_data",
          "data": {
            "text/plain": [
              "<Figure size 432x288 with 1 Axes>"
            ],
            "image/png": "[encoded data removed]"
          },
          "metadata": {
            "needs_background": "light"
          }
        }
      ]
    }
  ],
  "metadata": {
    "colab": {
      "collapsed_sections": [
        "LYZE5qEGypBz",
        "rj3D3_h4BLvg",
        "qGw2PwWFlQUn",
        "KySvizIsendj",
        "xh_jidw6fbJv",
        "mk1gLQMBhHqd",
        "cA5JnU2sjJ-d",
        "36XxcSYzj3SZ",
        "-iJKlwAi3Ezq"
      ],
      "provenance": [],
      "authorship_tag": "ABX9TyNQDxOUkD2+rQuDKaVi1jdr",
      "include_colab_link": true
    },
    "kernelspec": {
      "display_name": "Python 3",
      "name": "python3"
    },
    "language_info": {
      "name": "python"
    },
    "gpuClass": "standard"
  },
  "nbformat": 4,
  "nbformat_minor": 0
}