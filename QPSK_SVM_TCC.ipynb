{
  "nbformat": 4,
  "nbformat_minor": 0,
  "metadata": {
    "colab": {
      "provenance": [],
      "collapsed_sections": [
        "LYZE5qEGypBz",
        "rj3D3_h4BLvg"
      ],
      "authorship_tag": "ABX9TyOWoVExFpEvYPRKJPi9ioJk",
      "include_colab_link": true
    },
    "kernelspec": {
      "name": "python3",
      "display_name": "Python 3"
    },
    "language_info": {
      "name": "python"
    }
  },
  "cells": [
    {
      "cell_type": "markdown",
      "metadata": {
        "id": "view-in-github",
        "colab_type": "text"
      },
      "source": [
        "<a href=\"https://colab.research.google.com/github/LorenzoDonatti/TCC_DeepLearning_VLC/blob/main/QPSK_SVM_TCC.ipynb\" target=\"_parent\"><img src=\"https://colab.research.google.com/assets/colab-badge.svg\" alt=\"Open In Colab\"/></a>"
      ]
    },
    {
      "cell_type": "markdown",
      "source": [
        "# **ALGORITMOS DE DEEP LEARNING EM DATASETS DE COMUNICAÇÃO POR LUZ VISIVEL**\n",
        "\n",
        "---\n",
        "\n",
        "\n",
        "TRABALHO DE CONCLUSÃO DE CURSO DO ALUNO LORENZO MOREIRA DONATTI."
      ],
      "metadata": {
        "id": "xgFxaFPui0eV"
      }
    },
    {
      "cell_type": "markdown",
      "source": [
        "# Funções que baixam arquivos Paralelamente\n",
        "\n",
        "---\n",
        "\n",
        "\n",
        "\n",
        "Caso nao seja possível utilizar a biblioteca Gdown na pasta especificada, este metodo de download deve ser utilizado."
      ],
      "metadata": {
        "id": "LYZE5qEGypBz"
      }
    },
    {
      "cell_type": "code",
      "source": [
        "'''import requests\n",
        "from multiprocessing import cpu_count\n",
        "from multiprocessing.pool import ThreadPool\n",
        "\n",
        "def download_paralel(args):\n",
        "  cpus = cpu_count()\n",
        "  results = ThreadPool(cpus - 1).imap_unordered(download_url, args)\n",
        "\n",
        "\n",
        "def download_url(args):\n",
        "  url, output = args[0], args[1]  \n",
        "  try:\n",
        "    gdown.download(url, output, quiet=False, fuzzy=True)\n",
        "  except Exception as e:\n",
        "    print(\"Problem downloading\", e) ''' \n"
      ],
      "metadata": {
        "id": "zqz2UjtkncBV",
        "colab": {
          "base_uri": "https://localhost:8080/",
          "height": 70
        },
        "outputId": "f0ac5798-d05e-4846-9225-26454af3b9d7"
      },
      "execution_count": null,
      "outputs": [
        {
          "output_type": "execute_result",
          "data": {
            "text/plain": [
              "'import requests\\nfrom multiprocessing import cpu_count\\nfrom multiprocessing.pool import ThreadPool\\n\\ndef download_paralel(args):\\n  cpus = cpu_count()\\n  results = ThreadPool(cpus - 1).imap_unordered(download_url, args)\\n\\n\\ndef download_url(args):\\n  url, output = args[0], args[1]  \\n  try:\\n    gdown.download(url, output, quiet=False, fuzzy=True)\\n  except Exception as e:\\n    print(\"Problem downloading\", e) '"
            ],
            "application/vnd.google.colaboratory.intrinsic+json": {
              "type": "string"
            }
          },
          "metadata": {},
          "execution_count": 1
        }
      ]
    },
    {
      "cell_type": "code",
      "source": [
        "############ EXEMPLO DE CELULA PARA QUANDO O GDOWN NAO CONSEGUIR ACESSO AO FOLDER####################\n",
        "############ PROCESSO MANUAL ########################\n",
        "\n",
        "'''from scipy.io import loadmat\n",
        "import numpy as np\n",
        "import pandas as pd\n",
        "import gdown\n",
        "\n",
        "urls = [\"https://drive.google.com/file/d/1dr6tI_XffRVehcLZByUX1JG476C4Lp7G/view?usp=sharing\", \n",
        "        \"https://drive.google.com/file/d/1klSvkJVIViRFhDbxATzmu0Q1DALoWbJ4/view?usp=sharing\",\n",
        "        \"https://drive.google.com/file/d/1IaVRZB8PtGCjSBZNgEoV-vFtqfndNdX2/view?usp=sharing\",\n",
        "        \"https://drive.google.com/file/d/1XeMiywqTwJvyCFNYt3d5mdBNJmYoqZgt/view?usp=sharing\",\n",
        "        \"https://drive.google.com/file/d/1DGKYFy5Ae0rqLqBozXUDY7EuIY0cbQdP/view?usp=sharing\",\n",
        "        \"https://drive.google.com/file/d/1vPhsrgRWkv1V21lfyfx1BjIw8u4gj3XL/view?usp=sharing\",\n",
        "        \"https://drive.google.com/file/d/1KQn4ljEl-6RRIDtv8a0muO8XvylmtYgh/view?usp=sharing\",\n",
        "        \"https://drive.google.com/file/d/16KNK14QYCJTLHy0ytHlUJfXgZYfEodQ6/view?usp=sharing\",\n",
        "        \"https://drive.google.com/file/d/1hQXpC6StuXM4gJDBiWi-ciIr2IMg00fz/view?usp=sharing\",\n",
        "        \"https://drive.google.com/file/d/1aOvbkHgneQgWCP8ee95cuL834TU2u9lO/view?usp=sharing\",\n",
        "        \"https://drive.google.com/file/d/1XHKMqqJqw4gVSKCB-4XXSo90z-C3qszE/view?usp=sharing\",\n",
        "        \"https://drive.google.com/file/d/1pcJh6eRnifmh6F5HxSPZGIX_Z9n-B6bz/view?usp=sharing\",\n",
        "        \"https://drive.google.com/file/d/1k6W4NTXfZvXEVQkZQmcITILCpYiHzB8a/view?usp=sharing\",\n",
        "        \"https://drive.google.com/file/d/1TCWdZ22pKpy73F-mp2ZrsPnSqdYSvSEa/view?usp=sharing\",\n",
        "        \"https://drive.google.com/file/d/1Wy015sMCoJJS1b8LsvIeiOLlQsrGzalD/view?usp=sharing\",\n",
        "        \"https://drive.google.com/file/d/1KU10g1qWy8ZG3QcJJ6Yv0ubzlZQFuYeP/view?usp=sharing\",\n",
        "        \"https://drive.google.com/file/d/1nYBUSSelA_L0LyIhTty8GcIkT2mYnw51/view?usp=sharing\",\n",
        "        \"https://drive.google.com/file/d/1O99b7y3nzcv5je17DTjVRfPWKKfRm7Tb/view?usp=sharing\"]\n",
        "\n",
        "outputs= [\"0cm.mat\", \"10cm.mat\", \"20cm.mat\", \"30cm.mat\", \"40cm.mat\", \"50cm.mat\", \"60cm.mat\", \"70cm.mat\", \"80cm.mat\", \"90cm.mat\", \"100cm.mat\", \n",
        "          \"110cm.mat\", \"120cm.mat\", \"130cm.mat\", \"140cm.mat\", \"150cm.mat\", \"160cm.mat\", \"170cm.mat\", \"180cm.mat\", \"label.mat\"]       \n",
        "\n",
        "inputs = zip(urls, outputs)\n",
        "\n",
        "download_paralel(inputs)  '''\n"
      ],
      "metadata": {
        "id": "V5u4tT29msD8",
        "colab": {
          "base_uri": "https://localhost:8080/",
          "height": 123
        },
        "outputId": "6ef41cd9-bac2-43b9-d495-782efd69e3d2"
      },
      "execution_count": null,
      "outputs": [
        {
          "output_type": "execute_result",
          "data": {
            "text/plain": [
              "'from scipy.io import loadmat\\nimport numpy as np\\nimport pandas as pd\\nimport gdown\\n\\nurls = [\"https://drive.google.com/file/d/1dr6tI_XffRVehcLZByUX1JG476C4Lp7G/view?usp=sharing\", \\n        \"https://drive.google.com/file/d/1klSvkJVIViRFhDbxATzmu0Q1DALoWbJ4/view?usp=sharing\",\\n        \"https://drive.google.com/file/d/1IaVRZB8PtGCjSBZNgEoV-vFtqfndNdX2/view?usp=sharing\",\\n        \"https://drive.google.com/file/d/1XeMiywqTwJvyCFNYt3d5mdBNJmYoqZgt/view?usp=sharing\",\\n        \"https://drive.google.com/file/d/1DGKYFy5Ae0rqLqBozXUDY7EuIY0cbQdP/view?usp=sharing\",\\n        \"https://drive.google.com/file/d/1vPhsrgRWkv1V21lfyfx1BjIw8u4gj3XL/view?usp=sharing\",\\n        \"https://drive.google.com/file/d/1KQn4ljEl-6RRIDtv8a0muO8XvylmtYgh/view?usp=sharing\",\\n        \"https://drive.google.com/file/d/16KNK14QYCJTLHy0ytHlUJfXgZYfEodQ6/view?usp=sharing\",\\n        \"https://drive.google.com/file/d/1hQXpC6StuXM4gJDBiWi-ciIr2IMg00fz/view?usp=sharing\",\\n        \"https://drive.google.com/file/d/1aOvbkHgneQgWCP8ee95cuL834TU2u9lO/view?usp=sharing\",\\n        \"https://drive.google.com/file/d/1XHKMqqJqw4gVSKCB-4XXSo90z-C3qszE/view?usp=sharing\",\\n        \"https://drive.google.com/file/d/1pcJh6eRnifmh6F5HxSPZGIX_Z9n-B6bz/view?usp=sharing\",\\n        \"https://drive.google.com/file/d/1k6W4NTXfZvXEVQkZQmcITILCpYiHzB8a/view?usp=sharing\",\\n        \"https://drive.google.com/file/d/1TCWdZ22pKpy73F-mp2ZrsPnSqdYSvSEa/view?usp=sharing\",\\n        \"https://drive.google.com/file/d/1Wy015sMCoJJS1b8LsvIeiOLlQsrGzalD/view?usp=sharing\",\\n        \"https://drive.google.com/file/d/1KU10g1qWy8ZG3QcJJ6Yv0ubzlZQFuYeP/view?usp=sharing\",\\n        \"https://drive.google.com/file/d/1nYBUSSelA_L0LyIhTty8GcIkT2mYnw51/view?usp=sharing\",\\n        \"https://drive.google.com/file/d/1O99b7y3nzcv5je17DTjVRfPWKKfRm7Tb/view?usp=sharing\"]\\n\\noutputs= [\"0cm.mat\", \"10cm.mat\", \"20cm.mat\", \"30cm.mat\", \"40cm.mat\", \"50cm.mat\", \"60cm.mat\", \"70cm.mat\", \"80cm.mat\", \"90cm.mat\", \"100cm.mat\", \\n          \"110cm.mat\", \"120cm.mat\", \"130cm.mat\", \"140cm.mat\", \"150cm.mat\", \"160cm.mat\", \"170cm.mat\", \"180cm.mat\", \"label.mat\"]       \\n\\ninputs = zip(urls, outputs)\\n\\ndownload_paralel(inputs)  '"
            ],
            "application/vnd.google.colaboratory.intrinsic+json": {
              "type": "string"
            }
          },
          "metadata": {},
          "execution_count": 2
        }
      ]
    },
    {
      "cell_type": "markdown",
      "source": [
        "# Importação de Bibliotecas e Download da Pasta no Drive\n",
        "\n",
        "---\n",
        "Como o dataset foi baixado no GDrive, é possível baixar a pasta completa pela biblioteca gdown.\n",
        "Ela ainda fornece como saída, os diretórios de todos arquivos baixados (guardar em variavel)\n"
      ],
      "metadata": {
        "id": "Pak_KI9dzBMh"
      }
    },
    {
      "cell_type": "code",
      "source": [
        "from scipy.io import loadmat\n",
        "import numpy as np\n",
        "import pandas as pd\n",
        "import gdown\n",
        "\n",
        "teste = \"https://drive.google.com/drive/folders/13lgNaVFciA86L-msrDpQiB9ORJ9lsqCO?usp=share_link\"\n",
        "output = gdown.download_folder(teste, quiet=True, use_cookies=False,)\n",
        "\n",
        "output"
      ],
      "metadata": {
        "id": "kL19aaCF0ZoB",
        "colab": {
          "base_uri": "https://localhost:8080/"
        },
        "outputId": "9abfd452-c254-4420-be20-a6927b601ccc"
      },
      "execution_count": null,
      "outputs": [
        {
          "output_type": "execute_result",
          "data": {
            "text/plain": [
              "['/content/40/0cm.mat',\n",
              " '/content/40/5cm.mat',\n",
              " '/content/40/10cm.mat',\n",
              " '/content/40/15cm.mat',\n",
              " '/content/40/20cm.mat',\n",
              " '/content/40/25cm.mat',\n",
              " '/content/40/30cm.mat',\n",
              " '/content/40/35cm.mat',\n",
              " '/content/40/40cm.mat',\n",
              " '/content/40/45cm.mat',\n",
              " '/content/40/50cm.mat',\n",
              " '/content/40/55cm.mat',\n",
              " '/content/40/60cm.mat',\n",
              " '/content/40/65cm.mat',\n",
              " '/content/40/70cm.mat',\n",
              " '/content/40/75cm.mat',\n",
              " '/content/40/80cm.mat',\n",
              " '/content/40/85cm.mat',\n",
              " '/content/40/90cm.mat',\n",
              " '/content/40/95cm.mat',\n",
              " '/content/40/100cm.mat',\n",
              " '/content/40/105cm.mat',\n",
              " '/content/40/110cm.mat',\n",
              " '/content/40/115cm.mat',\n",
              " '/content/40/120cm.mat',\n",
              " '/content/40/125cm.mat',\n",
              " '/content/40/130cm.mat',\n",
              " '/content/40/135cm.mat',\n",
              " '/content/40/140cm.mat',\n",
              " '/content/40/145cm.mat',\n",
              " '/content/40/150cm.mat',\n",
              " '/content/40/155cm.mat',\n",
              " '/content/40/160cm.mat',\n",
              " '/content/40/165cm.mat',\n",
              " '/content/40/170cm.mat',\n",
              " '/content/40/175cm.mat',\n",
              " '/content/40/180cm.mat',\n",
              " '/content/40/label.mat']"
            ]
          },
          "metadata": {},
          "execution_count": 1
        }
      ]
    },
    {
      "cell_type": "markdown",
      "source": [
        "# Abrindo arquivos .mat e identificando seu cabeçalho\n",
        "\n",
        "---\n",
        "\n",
        "\n",
        "\n",
        "Para a abertura de arquivos .mat foi necessário o módulo loadmat da biblioteca scipy.io. A função retorna um dicionário com diferentes Headers, onde apenas o ultimo será utilizado. \n",
        "\n",
        "Como todos arquivos da pasta serão abertos, o conteúdo de cada arquivo será guardado em uma posição de uma lista.\n",
        "\n",
        "Os labels (saida y) estarão na ultima posição da lista "
      ],
      "metadata": {
        "id": "o1biG79y1dki"
      }
    },
    {
      "cell_type": "code",
      "source": [
        "########### ESSE PROCESSO É SUBSTITUIDO###########\n",
        "exemplo = loadmat('/content/40/label.mat')\n",
        "print(exemplo)\n",
        "\n",
        "exemplo = exemplo['org_label']\n",
        "print(exemplo)\n",
        "\n",
        "########### POR ESSE PROCESSO ################\n",
        "exemplo_otim = loadmat('/content/40/label.mat')\n",
        "exemplo_otim = exemplo_otim[list(exemplo_otim.keys())[-1]]\n",
        "print(exemplo_otim)"
      ],
      "metadata": {
        "colab": {
          "base_uri": "https://localhost:8080/"
        },
        "id": "n29rjr7Z2HWj",
        "outputId": "bda14afd-fb68-49da-cceb-ad7007f20e91"
      },
      "execution_count": null,
      "outputs": [
        {
          "output_type": "stream",
          "name": "stdout",
          "text": [
            "{'__header__': b'MATLAB 5.0 MAT-file, Platform: PCWIN, Created on: Wed Jul 11 20:04:00 2018', '__version__': '1.0', '__globals__': [], 'org_label': array([[1, 1, 3, ..., 0, 1, 0]], dtype=uint8)}\n",
            "[[1 1 3 ... 0 1 0]]\n",
            "[[1 1 3 ... 0 1 0]]\n"
          ]
        }
      ]
    },
    {
      "cell_type": "code",
      "source": [
        "datas = []\n",
        "\n",
        "for o in output:\n",
        "  data_test = loadmat(o)\n",
        "  data_test = data_test[list(data_test.keys())[-1]]\n",
        "  datas.append(data_test)\n",
        "\n",
        "print(datas[-1], datas[0])"
      ],
      "metadata": {
        "colab": {
          "base_uri": "https://localhost:8080/"
        },
        "id": "ChIrJCfe1bIZ",
        "outputId": "122fdce2-abb7-47b3-8ffa-f02b5dc13d69"
      },
      "execution_count": null,
      "outputs": [
        {
          "output_type": "stream",
          "name": "stdout",
          "text": [
            "[[1 1 3 ... 0 1 0]] [[0.54761905 0.47619048 0.47619048 ... 0.83333333 0.78571429 0.45238095]\n",
            " [0.57142857 0.4047619  0.42857143 ... 0.83333333 0.80952381 0.42857143]\n",
            " [0.54761905 0.38095238 0.4047619  ... 0.78571429 0.80952381 0.35714286]\n",
            " ...\n",
            " [0.61904762 0.61904762 0.28571429 ... 0.80952381 0.5952381  0.83333333]\n",
            " [0.57142857 0.5952381  0.30952381 ... 0.83333333 0.54761905 0.83333333]\n",
            " [0.52380952 0.5        0.33333333 ... 0.83333333 0.52380952 0.83333333]]\n"
          ]
        }
      ]
    },
    {
      "cell_type": "markdown",
      "source": [
        "# Preparação dos dados e Codificação dos valores Numéricos\n",
        "\n",
        "---\n",
        "É necessário codificar os dados em duas situações, quando forem categóricos (não numéricos) e quando estiverem com valores numéricos diferentes do escopo entre 0 e 1, a biblioteca sklearn fornece duas funções de fácil utilização e bem otimizadas.\n",
        "\n",
        "Basicamente é feito um casting para int e após uma normalização dos dados.\n",
        "\n",
        "Além disso, os dados do dataset vêm com o shape (1,x), e nosso modelo de machine learning somente aceitará vetores como parâmetro de saída, sendo necessário Transpor nossa estrutura.\n",
        "\n",
        "Também, a função flatten é necessária para transformar a estrutura em um vetor de 1D.\n",
        "\n"
      ],
      "metadata": {
        "id": "AsPB83PKznzI"
      }
    },
    {
      "cell_type": "code",
      "source": [
        "print(\"Formatos originais dos dados: \\n\", datas[-1].shape, datas[0].shape, type(datas[-1]))\n",
        "\n",
        "print(\"\\nFormatos Transpostos dos dados: \\n\", datas[-1].T.shape, datas[0].T.shape)\n",
        "\n",
        "print(\"\\nUtilização do flatten: \\n\", datas[-1].flatten().shape)\n",
        "\n",
        "print(\"\\nDados sem flatten: \\n\", datas[-1].T, \"\\nDados com flatten: \\n\", datas[-1].flatten())"
      ],
      "metadata": {
        "colab": {
          "base_uri": "https://localhost:8080/"
        },
        "id": "GrHXqfPw8fG5",
        "outputId": "6526e97d-fbba-4e83-ca56-9e7f36a2d388"
      },
      "execution_count": null,
      "outputs": [
        {
          "output_type": "stream",
          "name": "stdout",
          "text": [
            "Formatos originais dos dados: \n",
            " (1, 18000) (40, 18000) <class 'numpy.ndarray'>\n",
            "\n",
            "Formatos Transpostos dos dados: \n",
            " (18000, 1) (18000, 40)\n",
            "\n",
            "Utilização do flatten: \n",
            " (18000,)\n",
            "\n",
            "Dados sem flatten: \n",
            " [[1]\n",
            " [1]\n",
            " [3]\n",
            " ...\n",
            " [0]\n",
            " [1]\n",
            " [0]] \n",
            "Dados com flatten: \n",
            " [1 1 3 ... 0 1 0]\n"
          ]
        }
      ]
    },
    {
      "cell_type": "code",
      "source": [
        "from sklearn import preprocessing\n",
        "from sklearn import utils\n",
        "\n",
        "lab = preprocessing.LabelEncoder()\n",
        "y_transf = lab.fit_transform(datas[-1].flatten())\n",
        "\n",
        "print(y_transf)"
      ],
      "metadata": {
        "colab": {
          "base_uri": "https://localhost:8080/"
        },
        "id": "cEuvXZYPAaIq",
        "outputId": "7195265e-d5af-4695-b03c-93e2b36ed356"
      },
      "execution_count": null,
      "outputs": [
        {
          "output_type": "stream",
          "name": "stdout",
          "text": [
            "[1 1 3 ... 0 1 0]\n"
          ]
        }
      ]
    },
    {
      "cell_type": "markdown",
      "source": [
        "# Embaralhamento dos Dados\n",
        "\n",
        "---\n",
        "\n",
        "Começo da implementação de uma função que embaralha os dados em grupos simultaneamente, sem perder a ordem. Será implementado no futuro.\n",
        "\n",
        "Talvez não seja necessário pois o dataset não possui \"dados viciados\", porém, é uma boa prática embaralhar dados."
      ],
      "metadata": {
        "id": "rj3D3_h4BLvg"
      }
    },
    {
      "cell_type": "code",
      "source": [
        "''' FUNÇÃO QUE EMBARALHA\n",
        "def shuffle_list_matrix(lista, matriz):\n",
        "  for i in range(len(lista)):\n",
        "    j = np.random.randint(0,2)\n",
        "    temp_list, temp_matriz = lista[i], matriz[i,:]\n",
        "    lista[i], matriz[i,:] = lista[j], matriz[j,:]\n",
        "    lista[j], matriz[j,:] = temp_list, temp_matriz\n",
        "\n",
        "  return (lista, matriz)    \n",
        "'''\n",
        "\n",
        "''' NECESSARIO IMPLEMENTAR SHUFFLE MAIS ALEM\n",
        "for i in range(len(data)):\n",
        "  j = np.random.randint(0,len(data))\n",
        "  templ, tempm = data[i], np.copy(data2[i,:])\n",
        "  data[i], data2[i,:] = data[j], data2[j,:]\n",
        "  data[j], data2[j,:] = templ, tempm\n",
        "\n",
        "print(data)'''"
      ],
      "metadata": {
        "colab": {
          "base_uri": "https://localhost:8080/"
        },
        "id": "hksPGjq4BdpB",
        "outputId": "103529aa-fd44-473e-de57-9501172b4fcf"
      },
      "execution_count": null,
      "outputs": [
        {
          "output_type": "stream",
          "name": "stdout",
          "text": [
            "[[1 0 1 ... 1 1 1]]\n"
          ]
        }
      ]
    },
    {
      "cell_type": "markdown",
      "source": [
        "# Modelo de Machine Learning (SVM)\n",
        "\n",
        "---\n",
        "\n",
        "As máquinas de vetores de suporte foram obtidas através da biblioteca scikitlearn, com o seguinte procedimento:\n",
        "\n",
        "Como os valores que serão utilizados estão dentro de uma lista, foi necessário um laço de repetição, que percorrerá do inicio até o penultimo valor (ignorando o label, pois será a saída)\n",
        "\n",
        "O primeiro passo é separar os dados de treino e os dados de teste, seria necessária a normalização, porém os dados do dataset já estão normalizados.\n",
        "\n",
        "Os Parametros são"
      ],
      "metadata": {
        "id": "rH4G7ZfB1Tvd"
      }
    },
    {
      "cell_type": "code",
      "source": [
        "#Separação do conjunto de dados e testes e normalização\n",
        "from sklearn.model_selection import train_test_split\n",
        "from sklearn.svm import SVC\n",
        "from sklearn.metrics import accuracy_score\n",
        "\n",
        "i=0\n",
        "for data in datas[:-1]:\n",
        "  X_train, X_test, y_train, y_test  = train_test_split(data.T, y_transf, test_size=0.33, random_state=0)\n",
        "\n",
        "  ######################NORMALIZAÇÃO NAO É NECESSÁRIO POIS OS DADOS ESTAO NORMALIZADOS#################################\n",
        "  #sc = MinMaxScaler()\n",
        "  #X_train = sc.fit_transform(X_train)\n",
        "  #X_test = sc.transform(X_test)\n",
        "  #####################################################################################################################\n",
        "\n",
        "  classifier = SVC(kernel = 'linear', decision_function_shape='ovo')\n",
        "  classifier.fit(X_train, y_train)\n",
        "\n",
        "  y_pred = classifier.predict(X_test)\n",
        "  print(\"\\nAcuracia:\", accuracy_score(y_test, y_pred)*100, \"%   Distancia:\", i)\n",
        "  i = i + 5"
      ],
      "metadata": {
        "colab": {
          "base_uri": "https://localhost:8080/"
        },
        "id": "gO5LmxIqv1sZ",
        "outputId": "d7b080de-8ebc-4d63-ff00-fa1141bc2809"
      },
      "execution_count": null,
      "outputs": [
        {
          "output_type": "stream",
          "name": "stdout",
          "text": [
            "\n",
            "Acuracia: 100.0 %   Distancia: 0\n",
            "\n",
            "Acuracia: 100.0 %   Distancia: 5\n",
            "\n",
            "Acuracia: 100.0 %   Distancia: 10\n",
            "\n",
            "Acuracia: 100.0 %   Distancia: 15\n",
            "\n",
            "Acuracia: 100.0 %   Distancia: 20\n",
            "\n",
            "Acuracia: 100.0 %   Distancia: 25\n",
            "\n",
            "Acuracia: 100.0 %   Distancia: 30\n",
            "\n",
            "Acuracia: 100.0 %   Distancia: 35\n",
            "\n",
            "Acuracia: 100.0 %   Distancia: 40\n",
            "\n",
            "Acuracia: 100.0 %   Distancia: 45\n",
            "\n",
            "Acuracia: 100.0 %   Distancia: 50\n",
            "\n",
            "Acuracia: 100.0 %   Distancia: 55\n",
            "\n",
            "Acuracia: 100.0 %   Distancia: 60\n",
            "\n",
            "Acuracia: 100.0 %   Distancia: 65\n",
            "\n",
            "Acuracia: 100.0 %   Distancia: 70\n",
            "\n",
            "Acuracia: 99.96632996632997 %   Distancia: 75\n",
            "\n",
            "Acuracia: 99.96632996632997 %   Distancia: 80\n",
            "\n",
            "Acuracia: 99.93265993265993 %   Distancia: 85\n",
            "\n",
            "Acuracia: 99.86531986531986 %   Distancia: 90\n",
            "\n",
            "Acuracia: 99.69696969696969 %   Distancia: 95\n",
            "\n",
            "Acuracia: 99.47811447811448 %   Distancia: 100\n",
            "\n",
            "Acuracia: 98.87205387205387 %   Distancia: 105\n",
            "\n",
            "Acuracia: 97.3063973063973 %   Distancia: 110\n",
            "\n",
            "Acuracia: 96.38047138047138 %   Distancia: 115\n",
            "\n",
            "Acuracia: 93.24915824915824 %   Distancia: 120\n",
            "\n",
            "Acuracia: 89.36026936026936 %   Distancia: 125\n",
            "\n",
            "Acuracia: 88.9057239057239 %   Distancia: 130\n",
            "\n",
            "Acuracia: 83.19865319865319 %   Distancia: 135\n",
            "\n",
            "Acuracia: 81.5993265993266 %   Distancia: 140\n",
            "\n",
            "Acuracia: 79.27609427609428 %   Distancia: 145\n",
            "\n",
            "Acuracia: 74.41077441077442 %   Distancia: 150\n",
            "\n",
            "Acuracia: 70.77441077441078 %   Distancia: 155\n",
            "\n",
            "Acuracia: 70.18518518518519 %   Distancia: 160\n",
            "\n",
            "Acuracia: 69.12457912457913 %   Distancia: 165\n",
            "\n",
            "Acuracia: 64.52861952861953 %   Distancia: 170\n",
            "\n",
            "Acuracia: 60.26936026936027 %   Distancia: 175\n",
            "\n",
            "Acuracia: 61.9023569023569 %   Distancia: 180\n"
          ]
        }
      ]
    }
  ]
}