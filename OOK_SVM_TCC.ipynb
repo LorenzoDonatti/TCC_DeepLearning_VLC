{
  "nbformat": 4,
  "nbformat_minor": 0,
  "metadata": {
    "colab": {
      "provenance": [],
      "collapsed_sections": [
        "LYZE5qEGypBz",
        "rj3D3_h4BLvg"
      ],
      "authorship_tag": "ABX9TyMeJVZAytCoQ8kgAk2YXvSL",
      "include_colab_link": true
    },
    "kernelspec": {
      "name": "python3",
      "display_name": "Python 3"
    },
    "language_info": {
      "name": "python"
    }
  },
  "cells": [
    {
      "cell_type": "markdown",
      "metadata": {
        "id": "view-in-github",
        "colab_type": "text"
      },
      "source": [
        "<a href=\"https://colab.research.google.com/github/LorenzoDonatti/TCC_DeepLearning_VLC/blob/main/OOK_SVM_TCC.ipynb\" target=\"_parent\"><img src=\"https://colab.research.google.com/assets/colab-badge.svg\" alt=\"Open In Colab\"/></a>"
      ]
    },
    {
      "cell_type": "markdown",
      "source": [
        "# **ALGORITMOS DE DEEP LEARNING EM DATASETS DE COMUNICAÇÃO POR LUZ VISIVEL**\n",
        "\n",
        "---\n",
        "\n",
        "\n",
        "TRABALHO DE CONCLUSÃO DE CURSO DO ALUNO LORENZO MOREIRA DONATTI."
      ],
      "metadata": {
        "id": "eeIpoWvsiyjO"
      }
    },
    {
      "cell_type": "markdown",
      "source": [
        "# Funções que baixam arquivos Paralelamente\n",
        "\n",
        "---\n",
        "\n",
        "\n",
        "\n",
        "Caso nao seja possível utilizar a biblioteca Gdown na pasta especificada, este metodo de download deve ser utilizado."
      ],
      "metadata": {
        "id": "LYZE5qEGypBz"
      }
    },
    {
      "cell_type": "code",
      "source": [
        "'''import requests\n",
        "from multiprocessing import cpu_count\n",
        "from multiprocessing.pool import ThreadPool\n",
        "\n",
        "def download_paralel(args):\n",
        "  cpus = cpu_count()\n",
        "  results = ThreadPool(cpus - 1).imap_unordered(download_url, args)\n",
        "\n",
        "\n",
        "def download_url(args):\n",
        "  url, output = args[0], args[1]  \n",
        "  try:\n",
        "    gdown.download(url, output, quiet=False, fuzzy=True)\n",
        "  except Exception as e:\n",
        "    print(\"Problem downloading\", e) ''' \n"
      ],
      "metadata": {
        "id": "zqz2UjtkncBV",
        "colab": {
          "base_uri": "https://localhost:8080/"
        },
        "outputId": "1c49328c-be91-4d23-c269-46bc873ac8a1"
      },
      "execution_count": null,
      "outputs": [
        {
          "output_type": "execute_result",
          "data": {
            "text/plain": [
              "'import requests\\nfrom multiprocessing import cpu_count\\nfrom multiprocessing.pool import ThreadPool\\n\\ndef download_paralel(args):\\n  cpus = cpu_count()\\n  results = ThreadPool(cpus - 1).imap_unordered(download_url, args)\\n\\n\\ndef download_url(args):\\n  url, output = args[0], args[1]  \\n  try:\\n    gdown.download(url, output, quiet=False, fuzzy=True)\\n  except Exception as e:\\n    print(\"Problem downloading\", e) '"
            ],
            "application/vnd.google.colaboratory.intrinsic+json": {
              "type": "string"
            }
          },
          "metadata": {},
          "execution_count": 1
        }
      ]
    },
    {
      "cell_type": "code",
      "source": [
        "############ EXEMPLO DE CELULA PARA QUANDO O GDOWN NAO CONSEGUIR ACESSO AO FOLDER####################\n",
        "############ PROCESSO MANUAL ########################\n",
        "\n",
        "'''from scipy.io import loadmat\n",
        "import numpy as np\n",
        "import pandas as pd\n",
        "import gdown\n",
        "\n",
        "urls = [\"https://drive.google.com/file/d/1dr6tI_XffRVehcLZByUX1JG476C4Lp7G/view?usp=sharing\", \n",
        "        \"https://drive.google.com/file/d/1klSvkJVIViRFhDbxATzmu0Q1DALoWbJ4/view?usp=sharing\",\n",
        "        \"https://drive.google.com/file/d/1IaVRZB8PtGCjSBZNgEoV-vFtqfndNdX2/view?usp=sharing\",\n",
        "        \"https://drive.google.com/file/d/1XeMiywqTwJvyCFNYt3d5mdBNJmYoqZgt/view?usp=sharing\",\n",
        "        \"https://drive.google.com/file/d/1DGKYFy5Ae0rqLqBozXUDY7EuIY0cbQdP/view?usp=sharing\",\n",
        "        \"https://drive.google.com/file/d/1vPhsrgRWkv1V21lfyfx1BjIw8u4gj3XL/view?usp=sharing\",\n",
        "        \"https://drive.google.com/file/d/1KQn4ljEl-6RRIDtv8a0muO8XvylmtYgh/view?usp=sharing\",\n",
        "        \"https://drive.google.com/file/d/16KNK14QYCJTLHy0ytHlUJfXgZYfEodQ6/view?usp=sharing\",\n",
        "        \"https://drive.google.com/file/d/1hQXpC6StuXM4gJDBiWi-ciIr2IMg00fz/view?usp=sharing\",\n",
        "        \"https://drive.google.com/file/d/1aOvbkHgneQgWCP8ee95cuL834TU2u9lO/view?usp=sharing\",\n",
        "        \"https://drive.google.com/file/d/1XHKMqqJqw4gVSKCB-4XXSo90z-C3qszE/view?usp=sharing\",\n",
        "        \"https://drive.google.com/file/d/1pcJh6eRnifmh6F5HxSPZGIX_Z9n-B6bz/view?usp=sharing\",\n",
        "        \"https://drive.google.com/file/d/1k6W4NTXfZvXEVQkZQmcITILCpYiHzB8a/view?usp=sharing\",\n",
        "        \"https://drive.google.com/file/d/1TCWdZ22pKpy73F-mp2ZrsPnSqdYSvSEa/view?usp=sharing\",\n",
        "        \"https://drive.google.com/file/d/1Wy015sMCoJJS1b8LsvIeiOLlQsrGzalD/view?usp=sharing\",\n",
        "        \"https://drive.google.com/file/d/1KU10g1qWy8ZG3QcJJ6Yv0ubzlZQFuYeP/view?usp=sharing\",\n",
        "        \"https://drive.google.com/file/d/1nYBUSSelA_L0LyIhTty8GcIkT2mYnw51/view?usp=sharing\",\n",
        "        \"https://drive.google.com/file/d/1O99b7y3nzcv5je17DTjVRfPWKKfRm7Tb/view?usp=sharing\"]\n",
        "\n",
        "outputs= [\"0cm.mat\", \"10cm.mat\", \"20cm.mat\", \"30cm.mat\", \"40cm.mat\", \"50cm.mat\", \"60cm.mat\", \"70cm.mat\", \"80cm.mat\", \"90cm.mat\", \"100cm.mat\", \n",
        "          \"110cm.mat\", \"120cm.mat\", \"130cm.mat\", \"140cm.mat\", \"150cm.mat\", \"160cm.mat\", \"170cm.mat\", \"180cm.mat\", \"label.mat\"]       \n",
        "\n",
        "inputs = zip(urls, outputs)\n",
        "\n",
        "download_paralel(inputs)  '''\n"
      ],
      "metadata": {
        "id": "V5u4tT29msD8",
        "colab": {
          "base_uri": "https://localhost:8080/"
        },
        "outputId": "dfb8569a-bc3f-4671-e10d-a635c2e06a8a"
      },
      "execution_count": null,
      "outputs": [
        {
          "output_type": "execute_result",
          "data": {
            "text/plain": [
              "'from scipy.io import loadmat\\nimport numpy as np\\nimport pandas as pd\\nimport gdown\\n\\nurls = [\"https://drive.google.com/file/d/1dr6tI_XffRVehcLZByUX1JG476C4Lp7G/view?usp=sharing\", \\n        \"https://drive.google.com/file/d/1klSvkJVIViRFhDbxATzmu0Q1DALoWbJ4/view?usp=sharing\",\\n        \"https://drive.google.com/file/d/1IaVRZB8PtGCjSBZNgEoV-vFtqfndNdX2/view?usp=sharing\",\\n        \"https://drive.google.com/file/d/1XeMiywqTwJvyCFNYt3d5mdBNJmYoqZgt/view?usp=sharing\",\\n        \"https://drive.google.com/file/d/1DGKYFy5Ae0rqLqBozXUDY7EuIY0cbQdP/view?usp=sharing\",\\n        \"https://drive.google.com/file/d/1vPhsrgRWkv1V21lfyfx1BjIw8u4gj3XL/view?usp=sharing\",\\n        \"https://drive.google.com/file/d/1KQn4ljEl-6RRIDtv8a0muO8XvylmtYgh/view?usp=sharing\",\\n        \"https://drive.google.com/file/d/16KNK14QYCJTLHy0ytHlUJfXgZYfEodQ6/view?usp=sharing\",\\n        \"https://drive.google.com/file/d/1hQXpC6StuXM4gJDBiWi-ciIr2IMg00fz/view?usp=sharing\",\\n        \"https://drive.google.com/file/d/1aOvbkHgneQgWCP8ee95cuL834TU2u9lO/view?usp=sharing\",\\n        \"https://drive.google.com/file/d/1XHKMqqJqw4gVSKCB-4XXSo90z-C3qszE/view?usp=sharing\",\\n        \"https://drive.google.com/file/d/1pcJh6eRnifmh6F5HxSPZGIX_Z9n-B6bz/view?usp=sharing\",\\n        \"https://drive.google.com/file/d/1k6W4NTXfZvXEVQkZQmcITILCpYiHzB8a/view?usp=sharing\",\\n        \"https://drive.google.com/file/d/1TCWdZ22pKpy73F-mp2ZrsPnSqdYSvSEa/view?usp=sharing\",\\n        \"https://drive.google.com/file/d/1Wy015sMCoJJS1b8LsvIeiOLlQsrGzalD/view?usp=sharing\",\\n        \"https://drive.google.com/file/d/1KU10g1qWy8ZG3QcJJ6Yv0ubzlZQFuYeP/view?usp=sharing\",\\n        \"https://drive.google.com/file/d/1nYBUSSelA_L0LyIhTty8GcIkT2mYnw51/view?usp=sharing\",\\n        \"https://drive.google.com/file/d/1O99b7y3nzcv5je17DTjVRfPWKKfRm7Tb/view?usp=sharing\"]\\n\\noutputs= [\"0cm.mat\", \"10cm.mat\", \"20cm.mat\", \"30cm.mat\", \"40cm.mat\", \"50cm.mat\", \"60cm.mat\", \"70cm.mat\", \"80cm.mat\", \"90cm.mat\", \"100cm.mat\", \\n          \"110cm.mat\", \"120cm.mat\", \"130cm.mat\", \"140cm.mat\", \"150cm.mat\", \"160cm.mat\", \"170cm.mat\", \"180cm.mat\", \"label.mat\"]       \\n\\ninputs = zip(urls, outputs)\\n\\ndownload_paralel(inputs)  '"
            ],
            "application/vnd.google.colaboratory.intrinsic+json": {
              "type": "string"
            }
          },
          "metadata": {},
          "execution_count": 2
        }
      ]
    },
    {
      "cell_type": "markdown",
      "source": [
        "# Importação de Bibliotecas e Download da Pasta no Drive\n",
        "\n",
        "---\n",
        "Como o dataset foi baixado no GDrive, é possível baixar a pasta completa pela biblioteca gdown.\n",
        "Ela ainda fornece como saída, os diretórios de todos arquivos baixados (guardar em variavel)\n"
      ],
      "metadata": {
        "id": "Pak_KI9dzBMh"
      }
    },
    {
      "cell_type": "code",
      "source": [
        "from scipy.io import loadmat\n",
        "import numpy as np\n",
        "import pandas as pd\n",
        "import gdown\n",
        "\n",
        "teste = \"https://drive.google.com/drive/folders/1TkvBRg2PaKI1KFCpT_7xon6COiWL2ZqX?usp=sharing\"\n",
        "output = gdown.download_folder(teste, quiet=True, use_cookies=False,)\n",
        "\n",
        "output"
      ],
      "metadata": {
        "id": "kL19aaCF0ZoB",
        "colab": {
          "base_uri": "https://localhost:8080/"
        },
        "outputId": "8265107d-894a-4c4c-c0d3-63ea0dc87ba9"
      },
      "execution_count": null,
      "outputs": [
        {
          "output_type": "execute_result",
          "data": {
            "text/plain": [
              "['/content/40/0cm.mat',\n",
              " '/content/40/5cm.mat',\n",
              " '/content/40/10cm.mat',\n",
              " '/content/40/15cm.mat',\n",
              " '/content/40/20cm.mat',\n",
              " '/content/40/25cm.mat',\n",
              " '/content/40/30cm.mat',\n",
              " '/content/40/35cm.mat',\n",
              " '/content/40/40cm.mat',\n",
              " '/content/40/45cm.mat',\n",
              " '/content/40/50cm.mat',\n",
              " '/content/40/55cm.mat',\n",
              " '/content/40/60cm.mat',\n",
              " '/content/40/65cm.mat',\n",
              " '/content/40/70cm.mat',\n",
              " '/content/40/75cm.mat',\n",
              " '/content/40/80cm.mat',\n",
              " '/content/40/85cm.mat',\n",
              " '/content/40/90cm.mat',\n",
              " '/content/40/95cm.mat',\n",
              " '/content/40/100cm.mat',\n",
              " '/content/40/105cm.mat',\n",
              " '/content/40/110cm.mat',\n",
              " '/content/40/115cm.mat',\n",
              " '/content/40/120cm.mat',\n",
              " '/content/40/125cm.mat',\n",
              " '/content/40/130cm.mat',\n",
              " '/content/40/135cm.mat',\n",
              " '/content/40/140cm.mat',\n",
              " '/content/40/145cm.mat',\n",
              " '/content/40/150cm.mat',\n",
              " '/content/40/155cm.mat',\n",
              " '/content/40/160cm.mat',\n",
              " '/content/40/165cm.mat',\n",
              " '/content/40/170cm.mat',\n",
              " '/content/40/175cm.mat',\n",
              " '/content/40/180cm.mat',\n",
              " '/content/40/label.mat']"
            ]
          },
          "metadata": {},
          "execution_count": 3
        }
      ]
    },
    {
      "cell_type": "markdown",
      "source": [
        "# Abrindo arquivos .mat e identificando seu cabeçalho\n",
        "\n",
        "---\n",
        "\n",
        "\n",
        "\n",
        "Para a abertura de arquivos .mat foi necessário o módulo loadmat da biblioteca scipy.io. A função retorna um dicionário com diferentes Headers, onde apenas o ultimo será utilizado. \n",
        "\n",
        "Como todos arquivos da pasta serão abertos, o conteúdo de cada arquivo será guardado em uma posição de uma lista.\n",
        "\n",
        "Os labels (saida y) estarão na ultima posição da lista "
      ],
      "metadata": {
        "id": "o1biG79y1dki"
      }
    },
    {
      "cell_type": "code",
      "source": [
        "########### ESSE PROCESSO É SUBSTITUIDO###########\n",
        "exemplo = loadmat('/content/40/label.mat')\n",
        "print(exemplo)\n",
        "\n",
        "exemplo = exemplo['org_label']\n",
        "print(exemplo)\n",
        "\n",
        "########### POR ESSE PROCESSO ################\n",
        "exemplo_otim = loadmat('/content/40/label.mat')\n",
        "exemplo_otim = exemplo_otim[list(exemplo_otim.keys())[-1]]\n",
        "print(exemplo_otim)"
      ],
      "metadata": {
        "colab": {
          "base_uri": "https://localhost:8080/"
        },
        "id": "n29rjr7Z2HWj",
        "outputId": "848fb0da-0e7b-426c-ded4-db55684fa409"
      },
      "execution_count": null,
      "outputs": [
        {
          "output_type": "stream",
          "name": "stdout",
          "text": [
            "{'__header__': b'MATLAB 5.0 MAT-file, Platform: PCWIN, Created on: Tue Jul 24 21:18:44 2018', '__version__': '1.0', '__globals__': [], 'org_label': array([[1, 0, 1, ..., 1, 1, 1]], dtype=uint8)}\n",
            "[[1 0 1 ... 1 1 1]]\n",
            "[[1 0 1 ... 1 1 1]]\n"
          ]
        }
      ]
    },
    {
      "cell_type": "code",
      "source": [
        "datas = []\n",
        "\n",
        "for o in output:\n",
        "  data_test = loadmat(o)\n",
        "  data_test = data_test[list(data_test.keys())[-1]]\n",
        "  datas.append(data_test)\n",
        "\n",
        "print(datas[-1], datas[0])"
      ],
      "metadata": {
        "colab": {
          "base_uri": "https://localhost:8080/"
        },
        "id": "ChIrJCfe1bIZ",
        "outputId": "1218dd1c-51fe-49f7-f7ac-073d94c457c4"
      },
      "execution_count": null,
      "outputs": [
        {
          "output_type": "stream",
          "name": "stdout",
          "text": [
            "[[1 0 1 ... 1 1 1]] [[0.51724138 0.55172414 0.48275862 ... 0.51724138 0.55172414 0.55172414]\n",
            " [0.51724138 0.62068966 0.48275862 ... 0.5862069  0.55172414 0.5862069 ]\n",
            " [0.55172414 0.65517241 0.44827586 ... 0.65517241 0.62068966 0.65517241]\n",
            " ...\n",
            " [0.37931034 0.48275862 0.37931034 ... 0.37931034 0.31034483 0.34482759]\n",
            " [0.4137931  0.48275862 0.44827586 ... 0.37931034 0.37931034 0.4137931 ]\n",
            " [0.48275862 0.44827586 0.44827586 ... 0.48275862 0.44827586 0.44827586]]\n"
          ]
        }
      ]
    },
    {
      "cell_type": "markdown",
      "source": [
        "# Preparação dos dados e Codificação dos valores Numéricos\n",
        "\n",
        "---\n",
        "É necessário codificar os dados em duas situações, quando forem categóricos (não numéricos) e quando estiverem com valores numéricos diferentes do escopo entre 0 e 1, a biblioteca sklearn fornece duas funções de fácil utilização e bem otimizadas.\n",
        "\n",
        "Basicamente é feito um casting para int e após uma normalização dos dados.\n",
        "\n",
        "Além disso, os dados do dataset vêm com o shape (1,x), e nosso modelo de machine learning somente aceitará vetores como parâmetro de saída, sendo necessário Transpor nossa estrutura.\n",
        "\n",
        "Também, a função flatten é necessária para transformar a estrutura em um vetor de 1D.\n",
        "\n"
      ],
      "metadata": {
        "id": "AsPB83PKznzI"
      }
    },
    {
      "cell_type": "code",
      "source": [
        "print(\"Formatos originais dos dados: \\n\", datas[-1].shape, datas[0].shape, type(datas[-1]))\n",
        "\n",
        "print(\"\\nFormatos Transpostos dos dados: \\n\", datas[-1].T.shape, datas[0].T.shape)\n",
        "\n",
        "print(\"\\nUtilização do flatten: \\n\", datas[-1].flatten().shape)\n",
        "\n",
        "print(\"\\nDados sem flatten: \\n\", datas[-1].T, \"\\nDados com flatten: \\n\", datas[-1].flatten())"
      ],
      "metadata": {
        "colab": {
          "base_uri": "https://localhost:8080/"
        },
        "id": "GrHXqfPw8fG5",
        "outputId": "391bedca-3997-4e8e-eecf-149d25767fe0"
      },
      "execution_count": null,
      "outputs": [
        {
          "output_type": "stream",
          "name": "stdout",
          "text": [
            "Formatos originais dos dados: \n",
            " (1, 18000) (40, 18000) <class 'numpy.ndarray'>\n",
            "\n",
            "Formatos Transpostos dos dados: \n",
            " (18000, 1) (18000, 40)\n",
            "\n",
            "Utilização do flatten: \n",
            " (18000,)\n",
            "\n",
            "Dados sem flatten: \n",
            " [[1]\n",
            " [0]\n",
            " [1]\n",
            " ...\n",
            " [1]\n",
            " [1]\n",
            " [1]] \n",
            "Dados com flatten: \n",
            " [1 0 1 ... 1 1 1]\n"
          ]
        }
      ]
    },
    {
      "cell_type": "code",
      "source": [
        "from sklearn import preprocessing\n",
        "from sklearn import utils\n",
        "\n",
        "lab = preprocessing.LabelEncoder()\n",
        "y_transf = lab.fit_transform(datas[-1].flatten())\n",
        "\n",
        "print(y_transf)"
      ],
      "metadata": {
        "colab": {
          "base_uri": "https://localhost:8080/"
        },
        "id": "cEuvXZYPAaIq",
        "outputId": "ccfc0c16-a7a7-4d3e-81ed-59d12077e0a3"
      },
      "execution_count": null,
      "outputs": [
        {
          "output_type": "stream",
          "name": "stdout",
          "text": [
            "[1 0 1 ... 1 1 1]\n"
          ]
        }
      ]
    },
    {
      "cell_type": "markdown",
      "source": [
        "# Embaralhamento dos Dados\n",
        "\n",
        "---\n",
        "\n",
        "Começo da implementação de uma função que embaralha os dados em grupos simultaneamente, sem perder a ordem. Será implementado no futuro.\n",
        "\n",
        "Talvez não seja necessário pois o dataset não possui \"dados viciados\", porém, é uma boa prática embaralhar dados."
      ],
      "metadata": {
        "id": "rj3D3_h4BLvg"
      }
    },
    {
      "cell_type": "code",
      "source": [
        "''' FUNÇÃO QUE EMBARALHA\n",
        "def shuffle_list_matrix(lista, matriz):\n",
        "  for i in range(len(lista)):\n",
        "    j = np.random.randint(0,2)\n",
        "    temp_list, temp_matriz = lista[i], matriz[i,:]\n",
        "    lista[i], matriz[i,:] = lista[j], matriz[j,:]\n",
        "    lista[j], matriz[j,:] = temp_list, temp_matriz\n",
        "\n",
        "  return (lista, matriz)    \n",
        "'''\n",
        "\n",
        "''' NECESSARIO IMPLEMENTAR SHUFFLE MAIS ALEM\n",
        "for i in range(len(data)):\n",
        "  j = np.random.randint(0,len(data))\n",
        "  templ, tempm = data[i], np.copy(data2[i,:])\n",
        "  data[i], data2[i,:] = data[j], data2[j,:]\n",
        "  data[j], data2[j,:] = templ, tempm\n",
        "\n",
        "print(data)'''"
      ],
      "metadata": {
        "colab": {
          "base_uri": "https://localhost:8080/"
        },
        "id": "hksPGjq4BdpB",
        "outputId": "6e9e575b-6249-4076-cebf-31e4eb693807"
      },
      "execution_count": null,
      "outputs": [
        {
          "output_type": "execute_result",
          "data": {
            "text/plain": [
              "' NECESSARIO IMPLEMENTAR SHUFFLE MAIS ALEM\\nfor i in range(len(data)):\\n  j = np.random.randint(0,len(data))\\n  templ, tempm = data[i], np.copy(data2[i,:])\\n  data[i], data2[i,:] = data[j], data2[j,:]\\n  data[j], data2[j,:] = templ, tempm\\n\\nprint(data)'"
            ],
            "application/vnd.google.colaboratory.intrinsic+json": {
              "type": "string"
            }
          },
          "metadata": {},
          "execution_count": 8
        }
      ]
    },
    {
      "cell_type": "markdown",
      "source": [
        "# Modelo de Machine Learning (SVM)\n",
        "\n",
        "---\n",
        "\n",
        "As máquinas de vetores de suporte foram obtidas através da biblioteca scikitlearn, com o seguinte procedimento:\n",
        "\n",
        "Como os valores que serão utilizados estão dentro de uma lista, foi necessário um laço de repetição, que percorrerá do inicio até o penultimo valor (ignorando o label, pois será a saída)\n",
        "\n",
        "O primeiro passo é separar os dados de treino e os dados de teste, seria necessária a normalização, porém os dados do dataset já estão normalizados.\n",
        "\n",
        "Os Parametros são"
      ],
      "metadata": {
        "id": "rH4G7ZfB1Tvd"
      }
    },
    {
      "cell_type": "code",
      "source": [
        "#Separação do conjunto de dados e testes e normalização\n",
        "from sklearn.model_selection import train_test_split\n",
        "from sklearn.svm import SVC\n",
        "from sklearn.metrics import accuracy_score\n",
        "\n",
        "lab = preprocessing.LabelEncoder()\n",
        "i=0\n",
        "for data in datas[:-1]:\n",
        "  X_train, X_test, y_train, y_test  = train_test_split(data.T, y_transf, test_size=0.33, random_state=0)\n",
        "\n",
        "  ######################NORMALIZAÇÃO NAO É NECESSÁRIO POIS OS DADOS ESTAO NORMALIZADOS#################################\n",
        "  #sc = MinMaxScaler()\n",
        "  #X_train = sc.fit_transform(X_train)\n",
        "  #X_test = sc.transform(X_test)\n",
        "  #####################################################################################################################\n",
        "\n",
        "  classifier = SVC(kernel = 'linear', decision_function_shape='ovo')\n",
        "  classifier.fit(X_train, y_train)\n",
        "\n",
        "  y_pred = classifier.predict(X_test)\n",
        "  print(\"\\nAcuracia:\", accuracy_score(y_test, y_pred)*100, \"%   Distancia:\", i)\n",
        "  i = i + 5"
      ],
      "metadata": {
        "colab": {
          "base_uri": "https://localhost:8080/"
        },
        "id": "gO5LmxIqv1sZ",
        "outputId": "0163259a-5fb0-4296-c848-ad4a8fd4b996"
      },
      "execution_count": null,
      "outputs": [
        {
          "output_type": "stream",
          "name": "stdout",
          "text": [
            "\n",
            "Acuracia: 100.0 %   Distancia: 0\n",
            "\n",
            "Acuracia: 100.0 %   Distancia: 5\n",
            "\n",
            "Acuracia: 100.0 %   Distancia: 10\n",
            "\n",
            "Acuracia: 100.0 %   Distancia: 15\n",
            "\n",
            "Acuracia: 100.0 %   Distancia: 20\n",
            "\n",
            "Acuracia: 100.0 %   Distancia: 25\n",
            "\n",
            "Acuracia: 100.0 %   Distancia: 30\n",
            "\n",
            "Acuracia: 100.0 %   Distancia: 35\n",
            "\n",
            "Acuracia: 100.0 %   Distancia: 40\n",
            "\n",
            "Acuracia: 100.0 %   Distancia: 45\n",
            "\n",
            "Acuracia: 100.0 %   Distancia: 50\n",
            "\n",
            "Acuracia: 100.0 %   Distancia: 55\n",
            "\n",
            "Acuracia: 100.0 %   Distancia: 60\n",
            "\n",
            "Acuracia: 99.86531986531986 %   Distancia: 65\n",
            "\n",
            "Acuracia: 99.73063973063972 %   Distancia: 70\n",
            "\n",
            "Acuracia: 99.57912457912458 %   Distancia: 75\n",
            "\n",
            "Acuracia: 99.04040404040404 %   Distancia: 80\n",
            "\n",
            "Acuracia: 98.23232323232324 %   Distancia: 85\n",
            "\n",
            "Acuracia: 97.76094276094275 %   Distancia: 90\n",
            "\n",
            "Acuracia: 97.02020202020202 %   Distancia: 95\n",
            "\n",
            "Acuracia: 96.06060606060606 %   Distancia: 100\n",
            "\n",
            "Acuracia: 93.41750841750842 %   Distancia: 105\n",
            "\n",
            "Acuracia: 91.78451178451178 %   Distancia: 110\n",
            "\n",
            "Acuracia: 90.23569023569024 %   Distancia: 115\n",
            "\n",
            "Acuracia: 88.4006734006734 %   Distancia: 120\n",
            "\n",
            "Acuracia: 84.36026936026936 %   Distancia: 125\n",
            "\n",
            "Acuracia: 83.56902356902357 %   Distancia: 130\n",
            "\n",
            "Acuracia: 80.84175084175084 %   Distancia: 135\n",
            "\n",
            "Acuracia: 79.98316498316498 %   Distancia: 140\n",
            "\n",
            "Acuracia: 77.35690235690235 %   Distancia: 145\n",
            "\n",
            "Acuracia: 75.31986531986531 %   Distancia: 150\n",
            "\n",
            "Acuracia: 75.97643097643098 %   Distancia: 155\n",
            "\n",
            "Acuracia: 73.82154882154882 %   Distancia: 160\n",
            "\n",
            "Acuracia: 73.24915824915826 %   Distancia: 165\n",
            "\n",
            "Acuracia: 70.57239057239057 %   Distancia: 170\n",
            "\n",
            "Acuracia: 70.33670033670035 %   Distancia: 175\n",
            "\n",
            "Acuracia: 69.56228956228956 %   Distancia: 180\n"
          ]
        }
      ]
    }
  ]
}