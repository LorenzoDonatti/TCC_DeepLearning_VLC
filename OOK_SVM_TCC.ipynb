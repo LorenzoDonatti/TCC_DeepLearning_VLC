{
  "nbformat": 4,
  "nbformat_minor": 0,
  "metadata": {
    "colab": {
      "provenance": [],
      "collapsed_sections": [
        "LYZE5qEGypBz",
        "rj3D3_h4BLvg"
      ],
      "authorship_tag": "ABX9TyOW4il66bobg8mYCKRbML1+",
      "include_colab_link": true
    },
    "kernelspec": {
      "name": "python3",
      "display_name": "Python 3"
    },
    "language_info": {
      "name": "python"
    }
  },
  "cells": [
    {
      "cell_type": "markdown",
      "metadata": {
        "id": "view-in-github",
        "colab_type": "text"
      },
      "source": [
        "<a href=\"https://colab.research.google.com/github/LorenzoDonatti/TCC_DeepLearning_VLC/blob/main/OOK_SVM_TCC.ipynb\" target=\"_parent\"><img src=\"https://colab.research.google.com/assets/colab-badge.svg\" alt=\"Open In Colab\"/></a>"
      ]
    },
    {
      "cell_type": "markdown",
      "source": [
        "# **ALGORITMOS DE DEEP LEARNING EM DATASETS DE COMUNICAÇÃO POR LUZ VISIVEL**\n",
        "\n",
        "---\n",
        "\n",
        "\n",
        "TRABALHO DE CONCLUSÃO DE CURSO DO ALUNO LORENZO MOREIRA DONATTI."
      ],
      "metadata": {
        "id": "eeIpoWvsiyjO"
      }
    },
    {
      "cell_type": "markdown",
      "source": [
        "# Funções que baixam arquivos Paralelamente\n",
        "\n",
        "---\n",
        "\n",
        "\n",
        "\n",
        "Caso nao seja possível utilizar a biblioteca Gdown na pasta especificada, este metodo de download deve ser utilizado."
      ],
      "metadata": {
        "id": "LYZE5qEGypBz"
      }
    },
    {
      "cell_type": "code",
      "source": [
        "'''import requests\n",
        "from multiprocessing import cpu_count\n",
        "from multiprocessing.pool import ThreadPool\n",
        "\n",
        "def download_paralel(args):\n",
        "  cpus = cpu_count()\n",
        "  results = ThreadPool(cpus - 1).imap_unordered(download_url, args)\n",
        "\n",
        "\n",
        "def download_url(args):\n",
        "  url, output = args[0], args[1]  \n",
        "  try:\n",
        "    gdown.download(url, output, quiet=False, fuzzy=True)\n",
        "  except Exception as e:\n",
        "    print(\"Problem downloading\", e) ''' \n"
      ],
      "metadata": {
        "id": "zqz2UjtkncBV",
        "colab": {
          "base_uri": "https://localhost:8080/"
        },
        "outputId": "1c49328c-be91-4d23-c269-46bc873ac8a1"
      },
      "execution_count": null,
      "outputs": [
        {
          "output_type": "execute_result",
          "data": {
            "text/plain": [
              "'import requests\\nfrom multiprocessing import cpu_count\\nfrom multiprocessing.pool import ThreadPool\\n\\ndef download_paralel(args):\\n  cpus = cpu_count()\\n  results = ThreadPool(cpus - 1).imap_unordered(download_url, args)\\n\\n\\ndef download_url(args):\\n  url, output = args[0], args[1]  \\n  try:\\n    gdown.download(url, output, quiet=False, fuzzy=True)\\n  except Exception as e:\\n    print(\"Problem downloading\", e) '"
            ],
            "application/vnd.google.colaboratory.intrinsic+json": {
              "type": "string"
            }
          },
          "metadata": {},
          "execution_count": 1
        }
      ]
    },
    {
      "cell_type": "code",
      "source": [
        "############ EXEMPLO DE CELULA PARA QUANDO O GDOWN NAO CONSEGUIR ACESSO AO FOLDER####################\n",
        "############ PROCESSO MANUAL ########################\n",
        "\n",
        "'''from scipy.io import loadmat\n",
        "import numpy as np\n",
        "import pandas as pd\n",
        "import gdown\n",
        "\n",
        "urls = [\"https://drive.google.com/file/d/1dr6tI_XffRVehcLZByUX1JG476C4Lp7G/view?usp=sharing\", \n",
        "        \"https://drive.google.com/file/d/1klSvkJVIViRFhDbxATzmu0Q1DALoWbJ4/view?usp=sharing\",\n",
        "        \"https://drive.google.com/file/d/1IaVRZB8PtGCjSBZNgEoV-vFtqfndNdX2/view?usp=sharing\",\n",
        "        \"https://drive.google.com/file/d/1XeMiywqTwJvyCFNYt3d5mdBNJmYoqZgt/view?usp=sharing\",\n",
        "        \"https://drive.google.com/file/d/1DGKYFy5Ae0rqLqBozXUDY7EuIY0cbQdP/view?usp=sharing\",\n",
        "        \"https://drive.google.com/file/d/1vPhsrgRWkv1V21lfyfx1BjIw8u4gj3XL/view?usp=sharing\",\n",
        "        \"https://drive.google.com/file/d/1KQn4ljEl-6RRIDtv8a0muO8XvylmtYgh/view?usp=sharing\",\n",
        "        \"https://drive.google.com/file/d/16KNK14QYCJTLHy0ytHlUJfXgZYfEodQ6/view?usp=sharing\",\n",
        "        \"https://drive.google.com/file/d/1hQXpC6StuXM4gJDBiWi-ciIr2IMg00fz/view?usp=sharing\",\n",
        "        \"https://drive.google.com/file/d/1aOvbkHgneQgWCP8ee95cuL834TU2u9lO/view?usp=sharing\",\n",
        "        \"https://drive.google.com/file/d/1XHKMqqJqw4gVSKCB-4XXSo90z-C3qszE/view?usp=sharing\",\n",
        "        \"https://drive.google.com/file/d/1pcJh6eRnifmh6F5HxSPZGIX_Z9n-B6bz/view?usp=sharing\",\n",
        "        \"https://drive.google.com/file/d/1k6W4NTXfZvXEVQkZQmcITILCpYiHzB8a/view?usp=sharing\",\n",
        "        \"https://drive.google.com/file/d/1TCWdZ22pKpy73F-mp2ZrsPnSqdYSvSEa/view?usp=sharing\",\n",
        "        \"https://drive.google.com/file/d/1Wy015sMCoJJS1b8LsvIeiOLlQsrGzalD/view?usp=sharing\",\n",
        "        \"https://drive.google.com/file/d/1KU10g1qWy8ZG3QcJJ6Yv0ubzlZQFuYeP/view?usp=sharing\",\n",
        "        \"https://drive.google.com/file/d/1nYBUSSelA_L0LyIhTty8GcIkT2mYnw51/view?usp=sharing\",\n",
        "        \"https://drive.google.com/file/d/1O99b7y3nzcv5je17DTjVRfPWKKfRm7Tb/view?usp=sharing\"]\n",
        "\n",
        "outputs= [\"0cm.mat\", \"10cm.mat\", \"20cm.mat\", \"30cm.mat\", \"40cm.mat\", \"50cm.mat\", \"60cm.mat\", \"70cm.mat\", \"80cm.mat\", \"90cm.mat\", \"100cm.mat\", \n",
        "          \"110cm.mat\", \"120cm.mat\", \"130cm.mat\", \"140cm.mat\", \"150cm.mat\", \"160cm.mat\", \"170cm.mat\", \"180cm.mat\", \"label.mat\"]       \n",
        "\n",
        "inputs = zip(urls, outputs)\n",
        "\n",
        "download_paralel(inputs)  '''\n"
      ],
      "metadata": {
        "id": "V5u4tT29msD8",
        "colab": {
          "base_uri": "https://localhost:8080/"
        },
        "outputId": "dfb8569a-bc3f-4671-e10d-a635c2e06a8a"
      },
      "execution_count": null,
      "outputs": [
        {
          "output_type": "execute_result",
          "data": {
            "text/plain": [
              "'from scipy.io import loadmat\\nimport numpy as np\\nimport pandas as pd\\nimport gdown\\n\\nurls = [\"https://drive.google.com/file/d/1dr6tI_XffRVehcLZByUX1JG476C4Lp7G/view?usp=sharing\", \\n        \"https://drive.google.com/file/d/1klSvkJVIViRFhDbxATzmu0Q1DALoWbJ4/view?usp=sharing\",\\n        \"https://drive.google.com/file/d/1IaVRZB8PtGCjSBZNgEoV-vFtqfndNdX2/view?usp=sharing\",\\n        \"https://drive.google.com/file/d/1XeMiywqTwJvyCFNYt3d5mdBNJmYoqZgt/view?usp=sharing\",\\n        \"https://drive.google.com/file/d/1DGKYFy5Ae0rqLqBozXUDY7EuIY0cbQdP/view?usp=sharing\",\\n        \"https://drive.google.com/file/d/1vPhsrgRWkv1V21lfyfx1BjIw8u4gj3XL/view?usp=sharing\",\\n        \"https://drive.google.com/file/d/1KQn4ljEl-6RRIDtv8a0muO8XvylmtYgh/view?usp=sharing\",\\n        \"https://drive.google.com/file/d/16KNK14QYCJTLHy0ytHlUJfXgZYfEodQ6/view?usp=sharing\",\\n        \"https://drive.google.com/file/d/1hQXpC6StuXM4gJDBiWi-ciIr2IMg00fz/view?usp=sharing\",\\n        \"https://drive.google.com/file/d/1aOvbkHgneQgWCP8ee95cuL834TU2u9lO/view?usp=sharing\",\\n        \"https://drive.google.com/file/d/1XHKMqqJqw4gVSKCB-4XXSo90z-C3qszE/view?usp=sharing\",\\n        \"https://drive.google.com/file/d/1pcJh6eRnifmh6F5HxSPZGIX_Z9n-B6bz/view?usp=sharing\",\\n        \"https://drive.google.com/file/d/1k6W4NTXfZvXEVQkZQmcITILCpYiHzB8a/view?usp=sharing\",\\n        \"https://drive.google.com/file/d/1TCWdZ22pKpy73F-mp2ZrsPnSqdYSvSEa/view?usp=sharing\",\\n        \"https://drive.google.com/file/d/1Wy015sMCoJJS1b8LsvIeiOLlQsrGzalD/view?usp=sharing\",\\n        \"https://drive.google.com/file/d/1KU10g1qWy8ZG3QcJJ6Yv0ubzlZQFuYeP/view?usp=sharing\",\\n        \"https://drive.google.com/file/d/1nYBUSSelA_L0LyIhTty8GcIkT2mYnw51/view?usp=sharing\",\\n        \"https://drive.google.com/file/d/1O99b7y3nzcv5je17DTjVRfPWKKfRm7Tb/view?usp=sharing\"]\\n\\noutputs= [\"0cm.mat\", \"10cm.mat\", \"20cm.mat\", \"30cm.mat\", \"40cm.mat\", \"50cm.mat\", \"60cm.mat\", \"70cm.mat\", \"80cm.mat\", \"90cm.mat\", \"100cm.mat\", \\n          \"110cm.mat\", \"120cm.mat\", \"130cm.mat\", \"140cm.mat\", \"150cm.mat\", \"160cm.mat\", \"170cm.mat\", \"180cm.mat\", \"label.mat\"]       \\n\\ninputs = zip(urls, outputs)\\n\\ndownload_paralel(inputs)  '"
            ],
            "application/vnd.google.colaboratory.intrinsic+json": {
              "type": "string"
            }
          },
          "metadata": {},
          "execution_count": 2
        }
      ]
    },
    {
      "cell_type": "markdown",
      "source": [
        "# Importação de Bibliotecas e Download da Pasta no Drive\n",
        "\n",
        "---\n",
        "Como o dataset foi baixado no GDrive, é possível baixar a pasta completa pela biblioteca gdown.\n",
        "Ela ainda fornece como saída, os diretórios de todos arquivos baixados (guardar em variavel)\n"
      ],
      "metadata": {
        "id": "Pak_KI9dzBMh"
      }
    },
    {
      "cell_type": "code",
      "source": [
        "from scipy.io import loadmat\n",
        "import numpy as np\n",
        "import pandas as pd\n",
        "import gdown\n",
        "\n",
        "teste = \"https://drive.google.com/drive/folders/1TkvBRg2PaKI1KFCpT_7xon6COiWL2ZqX?usp=sharing\"\n",
        "output = gdown.download_folder(teste, quiet=True, use_cookies=False,)\n",
        "\n",
        "output"
      ],
      "metadata": {
        "id": "kL19aaCF0ZoB",
        "colab": {
          "base_uri": "https://localhost:8080/"
        },
        "outputId": "f5a50a27-21ca-4002-bf93-04e090cb3268"
      },
      "execution_count": 1,
      "outputs": [
        {
          "output_type": "execute_result",
          "data": {
            "text/plain": [
              "['/content/40/0cm.mat',\n",
              " '/content/40/5cm.mat',\n",
              " '/content/40/10cm.mat',\n",
              " '/content/40/15cm.mat',\n",
              " '/content/40/20cm.mat',\n",
              " '/content/40/25cm.mat',\n",
              " '/content/40/30cm.mat',\n",
              " '/content/40/35cm.mat',\n",
              " '/content/40/40cm.mat',\n",
              " '/content/40/45cm.mat',\n",
              " '/content/40/50cm.mat',\n",
              " '/content/40/55cm.mat',\n",
              " '/content/40/60cm.mat',\n",
              " '/content/40/65cm.mat',\n",
              " '/content/40/70cm.mat',\n",
              " '/content/40/75cm.mat',\n",
              " '/content/40/80cm.mat',\n",
              " '/content/40/85cm.mat',\n",
              " '/content/40/90cm.mat',\n",
              " '/content/40/95cm.mat',\n",
              " '/content/40/100cm.mat',\n",
              " '/content/40/105cm.mat',\n",
              " '/content/40/110cm.mat',\n",
              " '/content/40/115cm.mat',\n",
              " '/content/40/120cm.mat',\n",
              " '/content/40/125cm.mat',\n",
              " '/content/40/130cm.mat',\n",
              " '/content/40/135cm.mat',\n",
              " '/content/40/140cm.mat',\n",
              " '/content/40/145cm.mat',\n",
              " '/content/40/150cm.mat',\n",
              " '/content/40/155cm.mat',\n",
              " '/content/40/160cm.mat',\n",
              " '/content/40/165cm.mat',\n",
              " '/content/40/170cm.mat',\n",
              " '/content/40/175cm.mat',\n",
              " '/content/40/180cm.mat',\n",
              " '/content/40/label.mat']"
            ]
          },
          "metadata": {},
          "execution_count": 1
        }
      ]
    },
    {
      "cell_type": "markdown",
      "source": [
        "# Abrindo arquivos .mat e identificando seu cabeçalho\n",
        "\n",
        "---\n",
        "\n",
        "\n",
        "\n",
        "Para a abertura de arquivos .mat foi necessário o módulo loadmat da biblioteca scipy.io. A função retorna um dicionário com diferentes Headers, onde apenas o ultimo será utilizado. \n",
        "\n",
        "Como todos arquivos da pasta serão abertos, o conteúdo de cada arquivo será guardado em uma posição de uma lista.\n",
        "\n",
        "Os labels (saida y) estarão na ultima posição da lista "
      ],
      "metadata": {
        "id": "o1biG79y1dki"
      }
    },
    {
      "cell_type": "code",
      "source": [
        "########### ESSE PROCESSO É SUBSTITUIDO###########\n",
        "exemplo = loadmat('/content/40/label.mat')\n",
        "print(exemplo)\n",
        "\n",
        "exemplo = exemplo['org_label']\n",
        "print(exemplo)\n",
        "\n",
        "########### POR ESSE PROCESSO ################\n",
        "exemplo_otim = loadmat('/content/40/label.mat')\n",
        "exemplo_otim = exemplo_otim[list(exemplo_otim.keys())[-1]]\n",
        "print(exemplo_otim)"
      ],
      "metadata": {
        "colab": {
          "base_uri": "https://localhost:8080/"
        },
        "id": "n29rjr7Z2HWj",
        "outputId": "e68f9658-28cf-47a3-b8da-24ee00d2b2a8"
      },
      "execution_count": 2,
      "outputs": [
        {
          "output_type": "stream",
          "name": "stdout",
          "text": [
            "{'__header__': b'MATLAB 5.0 MAT-file, Platform: PCWIN, Created on: Tue Jul 24 21:18:44 2018', '__version__': '1.0', '__globals__': [], 'org_label': array([[1, 0, 1, ..., 1, 1, 1]], dtype=uint8)}\n",
            "[[1 0 1 ... 1 1 1]]\n",
            "[[1 0 1 ... 1 1 1]]\n"
          ]
        }
      ]
    },
    {
      "cell_type": "code",
      "source": [
        "datas = []\n",
        "\n",
        "for o in output:\n",
        "  data_test = loadmat(o)\n",
        "  data_test = data_test[list(data_test.keys())[-1]]\n",
        "  datas.append(data_test)\n",
        "\n",
        "print(datas[-1], datas[0])"
      ],
      "metadata": {
        "colab": {
          "base_uri": "https://localhost:8080/"
        },
        "id": "ChIrJCfe1bIZ",
        "outputId": "332a6e35-765f-4324-8b40-18d533eb8fa0"
      },
      "execution_count": 3,
      "outputs": [
        {
          "output_type": "stream",
          "name": "stdout",
          "text": [
            "[[1 0 1 ... 1 1 1]] [[0.51724138 0.55172414 0.48275862 ... 0.51724138 0.55172414 0.55172414]\n",
            " [0.51724138 0.62068966 0.48275862 ... 0.5862069  0.55172414 0.5862069 ]\n",
            " [0.55172414 0.65517241 0.44827586 ... 0.65517241 0.62068966 0.65517241]\n",
            " ...\n",
            " [0.37931034 0.48275862 0.37931034 ... 0.37931034 0.31034483 0.34482759]\n",
            " [0.4137931  0.48275862 0.44827586 ... 0.37931034 0.37931034 0.4137931 ]\n",
            " [0.48275862 0.44827586 0.44827586 ... 0.48275862 0.44827586 0.44827586]]\n"
          ]
        }
      ]
    },
    {
      "cell_type": "markdown",
      "source": [
        "# Preparação dos dados e Codificação dos valores Numéricos\n",
        "\n",
        "---\n",
        "É necessário codificar os dados em duas situações, quando forem categóricos (não numéricos) e quando estiverem com valores numéricos diferentes do escopo entre 0 e 1, a biblioteca sklearn fornece duas funções de fácil utilização e bem otimizadas.\n",
        "\n",
        "Basicamente é feito um casting para int e após uma normalização dos dados.\n",
        "\n",
        "Além disso, os dados do dataset vêm com o shape (1,x), e nosso modelo de machine learning somente aceitará vetores como parâmetro de saída, sendo necessário Transpor nossa estrutura.\n",
        "\n",
        "Também, a função flatten é necessária para transformar a estrutura em um vetor de 1D.\n",
        "\n"
      ],
      "metadata": {
        "id": "AsPB83PKznzI"
      }
    },
    {
      "cell_type": "code",
      "source": [
        "print(\"Formatos originais dos dados: \\n\", datas[-1].shape, datas[0].shape, type(datas[-1]))\n",
        "\n",
        "print(\"\\nFormatos Transpostos dos dados: \\n\", datas[-1].T.shape, datas[0].T.shape)\n",
        "\n",
        "print(\"\\nUtilização do flatten: \\n\", datas[-1].flatten().shape)\n",
        "\n",
        "print(\"\\nDados sem flatten: \\n\", datas[-1].T, \"\\nDados com flatten: \\n\", datas[-1].flatten())"
      ],
      "metadata": {
        "colab": {
          "base_uri": "https://localhost:8080/"
        },
        "id": "GrHXqfPw8fG5",
        "outputId": "453d0aef-a740-4c10-ac89-0633bae9b46e"
      },
      "execution_count": 4,
      "outputs": [
        {
          "output_type": "stream",
          "name": "stdout",
          "text": [
            "Formatos originais dos dados: \n",
            " (1, 18000) (40, 18000) <class 'numpy.ndarray'>\n",
            "\n",
            "Formatos Transpostos dos dados: \n",
            " (18000, 1) (18000, 40)\n",
            "\n",
            "Utilização do flatten: \n",
            " (18000,)\n",
            "\n",
            "Dados sem flatten: \n",
            " [[1]\n",
            " [0]\n",
            " [1]\n",
            " ...\n",
            " [1]\n",
            " [1]\n",
            " [1]] \n",
            "Dados com flatten: \n",
            " [1 0 1 ... 1 1 1]\n"
          ]
        }
      ]
    },
    {
      "cell_type": "code",
      "source": [
        "from sklearn import preprocessing\n",
        "from sklearn import utils\n",
        "\n",
        "lab = preprocessing.LabelEncoder()\n",
        "y_transf = lab.fit_transform(datas[-1].flatten())\n",
        "\n",
        "print(y_transf)"
      ],
      "metadata": {
        "colab": {
          "base_uri": "https://localhost:8080/"
        },
        "id": "cEuvXZYPAaIq",
        "outputId": "a37f9160-c6bc-421f-f498-43138acc86ad"
      },
      "execution_count": 5,
      "outputs": [
        {
          "output_type": "stream",
          "name": "stdout",
          "text": [
            "[1 0 1 ... 1 1 1]\n"
          ]
        }
      ]
    },
    {
      "cell_type": "markdown",
      "source": [
        "# Embaralhamento dos Dados\n",
        "\n",
        "---\n",
        "\n",
        "Começo da implementação de uma função que embaralha os dados em grupos simultaneamente, sem perder a ordem. Será implementado no futuro.\n",
        "\n",
        "Talvez não seja necessário pois o dataset não possui \"dados viciados\", porém, é uma boa prática embaralhar dados."
      ],
      "metadata": {
        "id": "rj3D3_h4BLvg"
      }
    },
    {
      "cell_type": "code",
      "source": [
        "''' FUNÇÃO QUE EMBARALHA\n",
        "def shuffle_list_matrix(lista, matriz):\n",
        "  for i in range(len(lista)):\n",
        "    j = np.random.randint(0,2)\n",
        "    temp_list, temp_matriz = lista[i], matriz[i,:]\n",
        "    lista[i], matriz[i,:] = lista[j], matriz[j,:]\n",
        "    lista[j], matriz[j,:] = temp_list, temp_matriz\n",
        "\n",
        "  return (lista, matriz)    \n",
        "'''\n",
        "\n",
        "''' NECESSARIO IMPLEMENTAR SHUFFLE MAIS ALEM\n",
        "for i in range(len(data)):\n",
        "  j = np.random.randint(0,len(data))\n",
        "  templ, tempm = data[i], np.copy(data2[i,:])\n",
        "  data[i], data2[i,:] = data[j], data2[j,:]\n",
        "  data[j], data2[j,:] = templ, tempm\n",
        "\n",
        "print(data)'''"
      ],
      "metadata": {
        "colab": {
          "base_uri": "https://localhost:8080/"
        },
        "id": "hksPGjq4BdpB",
        "outputId": "6e9e575b-6249-4076-cebf-31e4eb693807"
      },
      "execution_count": null,
      "outputs": [
        {
          "output_type": "execute_result",
          "data": {
            "text/plain": [
              "' NECESSARIO IMPLEMENTAR SHUFFLE MAIS ALEM\\nfor i in range(len(data)):\\n  j = np.random.randint(0,len(data))\\n  templ, tempm = data[i], np.copy(data2[i,:])\\n  data[i], data2[i,:] = data[j], data2[j,:]\\n  data[j], data2[j,:] = templ, tempm\\n\\nprint(data)'"
            ],
            "application/vnd.google.colaboratory.intrinsic+json": {
              "type": "string"
            }
          },
          "metadata": {},
          "execution_count": 8
        }
      ]
    },
    {
      "cell_type": "markdown",
      "source": [
        "# Modelo de Machine Learning (SVM)\n",
        "\n",
        "---\n",
        "\n",
        "As máquinas de vetores de suporte foram obtidas através da biblioteca scikitlearn, com o seguinte procedimento:\n",
        "\n",
        "Como os valores que serão utilizados estão dentro de uma lista, foi necessário um laço de repetição, que percorrerá do inicio até o penultimo valor (ignorando o label, pois será a saída)\n",
        "\n",
        "O primeiro passo é separar os dados de treino e os dados de teste, seria necessária a normalização, porém os dados do dataset já estão normalizados.\n",
        "\n",
        "Os Parametros são"
      ],
      "metadata": {
        "id": "rH4G7ZfB1Tvd"
      }
    },
    {
      "cell_type": "code",
      "source": [
        "#Separação do conjunto de dados e testes e normalização\n",
        "from sklearn.model_selection import train_test_split\n",
        "from sklearn.svm import SVC\n",
        "from sklearn.metrics import accuracy_score\n",
        "\n",
        "lab = preprocessing.LabelEncoder()\n",
        "i=0\n",
        "for data in datas[:-1]:\n",
        "  X_train, X_test, y_train, y_test  = train_test_split(data.T, y_transf, test_size=0.33, random_state=0)\n",
        "\n",
        "  ######################NORMALIZAÇÃO NAO É NECESSÁRIO POIS OS DADOS ESTAO NORMALIZADOS#################################\n",
        "  #sc = MinMaxScaler()\n",
        "  #X_train = sc.fit_transform(X_train)\n",
        "  #X_test = sc.transform(X_test)\n",
        "  #####################################################################################################################\n",
        "\n",
        "  classifier = SVC(kernel = 'linear', decision_function_shape='ovo')\n",
        "  classifier.fit(X_train, y_train)\n",
        "\n",
        "  y_pred = classifier.predict(X_test)\n",
        "  print(\"\\nAcuracia:\", accuracy_score(y_test, y_pred)*100, \"%   Distancia:\", i)\n",
        "  i = i + 5"
      ],
      "metadata": {
        "colab": {
          "base_uri": "https://localhost:8080/",
          "height": 1000
        },
        "id": "gO5LmxIqv1sZ",
        "outputId": "be0b0a5b-775c-42c6-a6e5-069509c2a57e"
      },
      "execution_count": 6,
      "outputs": [
        {
          "output_type": "stream",
          "name": "stdout",
          "text": [
            "\n",
            "Acuracia: 100.0 %   Distancia: 0\n",
            "\n",
            "Acuracia: 100.0 %   Distancia: 5\n",
            "\n",
            "Acuracia: 100.0 %   Distancia: 10\n",
            "\n",
            "Acuracia: 100.0 %   Distancia: 15\n",
            "\n",
            "Acuracia: 100.0 %   Distancia: 20\n",
            "\n",
            "Acuracia: 100.0 %   Distancia: 25\n",
            "\n",
            "Acuracia: 100.0 %   Distancia: 30\n",
            "\n",
            "Acuracia: 100.0 %   Distancia: 35\n",
            "\n",
            "Acuracia: 100.0 %   Distancia: 40\n",
            "\n",
            "Acuracia: 100.0 %   Distancia: 45\n",
            "\n",
            "Acuracia: 100.0 %   Distancia: 50\n",
            "\n",
            "Acuracia: 100.0 %   Distancia: 55\n",
            "\n",
            "Acuracia: 100.0 %   Distancia: 60\n",
            "\n",
            "Acuracia: 99.86531986531986 %   Distancia: 65\n",
            "\n",
            "Acuracia: 99.73063973063972 %   Distancia: 70\n",
            "\n",
            "Acuracia: 99.57912457912458 %   Distancia: 75\n",
            "\n",
            "Acuracia: 99.04040404040404 %   Distancia: 80\n",
            "\n",
            "Acuracia: 98.23232323232324 %   Distancia: 85\n",
            "\n",
            "Acuracia: 97.76094276094275 %   Distancia: 90\n",
            "\n",
            "Acuracia: 97.02020202020202 %   Distancia: 95\n",
            "\n",
            "Acuracia: 96.06060606060606 %   Distancia: 100\n",
            "\n",
            "Acuracia: 93.41750841750842 %   Distancia: 105\n",
            "\n",
            "Acuracia: 91.78451178451178 %   Distancia: 110\n",
            "\n",
            "Acuracia: 90.23569023569024 %   Distancia: 115\n",
            "\n",
            "Acuracia: 88.4006734006734 %   Distancia: 120\n",
            "\n",
            "Acuracia: 84.36026936026936 %   Distancia: 125\n",
            "\n",
            "Acuracia: 83.56902356902357 %   Distancia: 130\n",
            "\n",
            "Acuracia: 80.84175084175084 %   Distancia: 135\n",
            "\n",
            "Acuracia: 79.98316498316498 %   Distancia: 140\n",
            "\n",
            "Acuracia: 77.35690235690235 %   Distancia: 145\n",
            "\n",
            "Acuracia: 75.31986531986531 %   Distancia: 150\n"
          ]
        },
        {
          "output_type": "error",
          "ename": "KeyboardInterrupt",
          "evalue": "ignored",
          "traceback": [
            "\u001b[0;31m---------------------------------------------------------------------------\u001b[0m",
            "\u001b[0;31mKeyboardInterrupt\u001b[0m                         Traceback (most recent call last)",
            "\u001b[0;32m<ipython-input-6-dcdfd06be552>\u001b[0m in \u001b[0;36m<module>\u001b[0;34m\u001b[0m\n\u001b[1;32m     16\u001b[0m \u001b[0;34m\u001b[0m\u001b[0m\n\u001b[1;32m     17\u001b[0m   \u001b[0mclassifier\u001b[0m \u001b[0;34m=\u001b[0m \u001b[0mSVC\u001b[0m\u001b[0;34m(\u001b[0m\u001b[0mkernel\u001b[0m \u001b[0;34m=\u001b[0m \u001b[0;34m'linear'\u001b[0m\u001b[0;34m,\u001b[0m \u001b[0mdecision_function_shape\u001b[0m\u001b[0;34m=\u001b[0m\u001b[0;34m'ovo'\u001b[0m\u001b[0;34m)\u001b[0m\u001b[0;34m\u001b[0m\u001b[0;34m\u001b[0m\u001b[0m\n\u001b[0;32m---> 18\u001b[0;31m   \u001b[0mclassifier\u001b[0m\u001b[0;34m.\u001b[0m\u001b[0mfit\u001b[0m\u001b[0;34m(\u001b[0m\u001b[0mX_train\u001b[0m\u001b[0;34m,\u001b[0m \u001b[0my_train\u001b[0m\u001b[0;34m)\u001b[0m\u001b[0;34m\u001b[0m\u001b[0;34m\u001b[0m\u001b[0m\n\u001b[0m\u001b[1;32m     19\u001b[0m \u001b[0;34m\u001b[0m\u001b[0m\n\u001b[1;32m     20\u001b[0m   \u001b[0my_pred\u001b[0m \u001b[0;34m=\u001b[0m \u001b[0mclassifier\u001b[0m\u001b[0;34m.\u001b[0m\u001b[0mpredict\u001b[0m\u001b[0;34m(\u001b[0m\u001b[0mX_test\u001b[0m\u001b[0;34m)\u001b[0m\u001b[0;34m\u001b[0m\u001b[0;34m\u001b[0m\u001b[0m\n",
            "\u001b[0;32m/usr/local/lib/python3.7/dist-packages/sklearn/svm/_base.py\u001b[0m in \u001b[0;36mfit\u001b[0;34m(self, X, y, sample_weight)\u001b[0m\n\u001b[1;32m    253\u001b[0m \u001b[0;34m\u001b[0m\u001b[0m\n\u001b[1;32m    254\u001b[0m         \u001b[0mseed\u001b[0m \u001b[0;34m=\u001b[0m \u001b[0mrnd\u001b[0m\u001b[0;34m.\u001b[0m\u001b[0mrandint\u001b[0m\u001b[0;34m(\u001b[0m\u001b[0mnp\u001b[0m\u001b[0;34m.\u001b[0m\u001b[0miinfo\u001b[0m\u001b[0;34m(\u001b[0m\u001b[0;34m\"i\"\u001b[0m\u001b[0;34m)\u001b[0m\u001b[0;34m.\u001b[0m\u001b[0mmax\u001b[0m\u001b[0;34m)\u001b[0m\u001b[0;34m\u001b[0m\u001b[0;34m\u001b[0m\u001b[0m\n\u001b[0;32m--> 255\u001b[0;31m         \u001b[0mfit\u001b[0m\u001b[0;34m(\u001b[0m\u001b[0mX\u001b[0m\u001b[0;34m,\u001b[0m \u001b[0my\u001b[0m\u001b[0;34m,\u001b[0m \u001b[0msample_weight\u001b[0m\u001b[0;34m,\u001b[0m \u001b[0msolver_type\u001b[0m\u001b[0;34m,\u001b[0m \u001b[0mkernel\u001b[0m\u001b[0;34m,\u001b[0m \u001b[0mrandom_seed\u001b[0m\u001b[0;34m=\u001b[0m\u001b[0mseed\u001b[0m\u001b[0;34m)\u001b[0m\u001b[0;34m\u001b[0m\u001b[0;34m\u001b[0m\u001b[0m\n\u001b[0m\u001b[1;32m    256\u001b[0m         \u001b[0;31m# see comment on the other call to np.iinfo in this file\u001b[0m\u001b[0;34m\u001b[0m\u001b[0;34m\u001b[0m\u001b[0;34m\u001b[0m\u001b[0m\n\u001b[1;32m    257\u001b[0m \u001b[0;34m\u001b[0m\u001b[0m\n",
            "\u001b[0;32m/usr/local/lib/python3.7/dist-packages/sklearn/svm/_base.py\u001b[0m in \u001b[0;36m_dense_fit\u001b[0;34m(self, X, y, sample_weight, solver_type, kernel, random_seed)\u001b[0m\n\u001b[1;32m    331\u001b[0m             \u001b[0mepsilon\u001b[0m\u001b[0;34m=\u001b[0m\u001b[0mself\u001b[0m\u001b[0;34m.\u001b[0m\u001b[0mepsilon\u001b[0m\u001b[0;34m,\u001b[0m\u001b[0;34m\u001b[0m\u001b[0;34m\u001b[0m\u001b[0m\n\u001b[1;32m    332\u001b[0m             \u001b[0mmax_iter\u001b[0m\u001b[0;34m=\u001b[0m\u001b[0mself\u001b[0m\u001b[0;34m.\u001b[0m\u001b[0mmax_iter\u001b[0m\u001b[0;34m,\u001b[0m\u001b[0;34m\u001b[0m\u001b[0;34m\u001b[0m\u001b[0m\n\u001b[0;32m--> 333\u001b[0;31m             \u001b[0mrandom_seed\u001b[0m\u001b[0;34m=\u001b[0m\u001b[0mrandom_seed\u001b[0m\u001b[0;34m,\u001b[0m\u001b[0;34m\u001b[0m\u001b[0;34m\u001b[0m\u001b[0m\n\u001b[0m\u001b[1;32m    334\u001b[0m         )\n\u001b[1;32m    335\u001b[0m \u001b[0;34m\u001b[0m\u001b[0m\n",
            "\u001b[0;31mKeyboardInterrupt\u001b[0m: "
          ]
        }
      ]
    },
    {
      "cell_type": "markdown",
      "source": [
        "# **ALGORITMO KNN**\n",
        "\n",
        "---\n",
        "\n"
      ],
      "metadata": {
        "id": "qGw2PwWFlQUn"
      }
    },
    {
      "cell_type": "code",
      "source": [
        "from sklearn.neighbors import KNeighborsClassifier\n",
        "\n",
        "i=0\n",
        "for data in datas[:-1]:\n",
        "  X_train, X_test, y_train, y_test  = train_test_split(data.T, y_transf, test_size=0.33, random_state=0)\n",
        "  neigh = KNeighborsClassifier(n_neighbors=3)\n",
        "\n",
        "  neigh.fit(X_train, y_train)\n",
        "\n",
        "  y_pred = neigh.predict(X_test)\n",
        "\n",
        "  print(\"\\nAcuracia:\", accuracy_score(y_test, y_pred)*100, \"%   Distancia:\", i)\n",
        "  i = i + 5"
      ],
      "metadata": {
        "colab": {
          "base_uri": "https://localhost:8080/"
        },
        "id": "-zVhPtlpk6oU",
        "outputId": "dec32043-8c0d-41ac-c4c1-384a80997aec"
      },
      "execution_count": 66,
      "outputs": [
        {
          "output_type": "stream",
          "name": "stdout",
          "text": [
            "\n",
            "Acuracia: 100.0 %   Distancia: 0\n",
            "\n",
            "Acuracia: 100.0 %   Distancia: 5\n",
            "\n",
            "Acuracia: 100.0 %   Distancia: 10\n",
            "\n",
            "Acuracia: 100.0 %   Distancia: 15\n",
            "\n",
            "Acuracia: 100.0 %   Distancia: 20\n",
            "\n",
            "Acuracia: 100.0 %   Distancia: 25\n",
            "\n",
            "Acuracia: 100.0 %   Distancia: 30\n",
            "\n",
            "Acuracia: 100.0 %   Distancia: 35\n",
            "\n",
            "Acuracia: 100.0 %   Distancia: 40\n",
            "\n",
            "Acuracia: 100.0 %   Distancia: 45\n",
            "\n",
            "Acuracia: 100.0 %   Distancia: 50\n",
            "\n",
            "Acuracia: 100.0 %   Distancia: 55\n",
            "\n",
            "Acuracia: 99.93265993265993 %   Distancia: 60\n",
            "\n",
            "Acuracia: 99.86531986531986 %   Distancia: 65\n",
            "\n",
            "Acuracia: 99.5959595959596 %   Distancia: 70\n",
            "\n",
            "Acuracia: 98.73737373737373 %   Distancia: 75\n",
            "\n",
            "Acuracia: 98.1144781144781 %   Distancia: 80\n",
            "\n",
            "Acuracia: 96.86868686868686 %   Distancia: 85\n",
            "\n",
            "Acuracia: 95.58922558922559 %   Distancia: 90\n",
            "\n",
            "Acuracia: 93.72053872053871 %   Distancia: 95\n",
            "\n",
            "Acuracia: 92.76094276094277 %   Distancia: 100\n",
            "\n",
            "Acuracia: 88.2996632996633 %   Distancia: 105\n",
            "\n",
            "Acuracia: 84.91582491582491 %   Distancia: 110\n",
            "\n",
            "Acuracia: 82.5925925925926 %   Distancia: 115\n",
            "\n",
            "Acuracia: 80.01683501683502 %   Distancia: 120\n",
            "\n",
            "Acuracia: 74.4949494949495 %   Distancia: 125\n",
            "\n",
            "Acuracia: 72.35690235690235 %   Distancia: 130\n",
            "\n",
            "Acuracia: 69.44444444444444 %   Distancia: 135\n",
            "\n",
            "Acuracia: 67.87878787878789 %   Distancia: 140\n",
            "\n",
            "Acuracia: 64.98316498316498 %   Distancia: 145\n",
            "\n",
            "Acuracia: 63.33333333333333 %   Distancia: 150\n",
            "\n",
            "Acuracia: 63.65319865319865 %   Distancia: 155\n",
            "\n",
            "Acuracia: 60.319865319865315 %   Distancia: 160\n",
            "\n",
            "Acuracia: 59.34343434343434 %   Distancia: 165\n",
            "\n",
            "Acuracia: 59.52861952861953 %   Distancia: 170\n",
            "\n",
            "Acuracia: 59.71380471380472 %   Distancia: 175\n",
            "\n",
            "Acuracia: 58.417508417508415 %   Distancia: 180\n"
          ]
        }
      ]
    },
    {
      "cell_type": "markdown",
      "source": [
        "# **METODOS DE ENSEMBLE**\n",
        "\n",
        "---\n",
        "\n"
      ],
      "metadata": {
        "id": "NLFc-FS6ehRb"
      }
    },
    {
      "cell_type": "markdown",
      "source": [
        "\n",
        "> # **Classificadores por Votação**\n",
        "\n",
        "\n",
        "\n",
        "---\n",
        "\n",
        "\n",
        "> Agrupa diversos classificadores fracos e a partir da maioria das classificações prediz a mais votada.\n",
        "\n",
        "\n",
        "> Chamado de Hard Voting\n"
      ],
      "metadata": {
        "id": "KySvizIsendj"
      }
    },
    {
      "cell_type": "code",
      "source": [
        "from sklearn.ensemble import RandomForestClassifier\n",
        "from sklearn.ensemble import VotingClassifier\n",
        "from sklearn.linear_model import LogisticRegression\n",
        "from sklearn.tree import DecisionTreeClassifier\n",
        "\n",
        "log_clf = LogisticRegression()\n",
        "tree_clf = DecisionTreeClassifier()\n",
        "svm_clf = SVC()\n",
        "knn_clf = KNeighborsClassifier(n_neighbors=3)\n",
        "\n",
        "i=0\n",
        "for data in datas[:-1]:\n",
        "  X_train, X_test, y_train, y_test  = train_test_split(data.T, y_transf, test_size=0.33, random_state=0)\n",
        "\n",
        "  voting_clf = VotingClassifier(estimators = [('lr',log_clf), \n",
        "                                              ('dt', tree_clf), \n",
        "                                              ('svc', svm_clf),\n",
        "                                              ('knn', knn_clf)],\n",
        "                                voting='hard'\n",
        "  )\n",
        "\n",
        "  voting_clf.fit(X_train, y_train)\n",
        "\n",
        "  y_pred = voting_clf.predict(X_test)\n",
        "\n",
        "  print(\"\\nAcuracia:\", accuracy_score(y_test, y_pred)*100, \"%   Distancia:\", i)\n",
        "  i = i + 5"
      ],
      "metadata": {
        "colab": {
          "base_uri": "https://localhost:8080/"
        },
        "id": "xIhU3C9YYVFb",
        "outputId": "e174fddf-11da-47ac-b8ee-0bdc6fdb2a94"
      },
      "execution_count": null,
      "outputs": [
        {
          "output_type": "stream",
          "name": "stdout",
          "text": [
            "\n",
            "Acuracia: 100.0 %   Distancia: 0\n",
            "\n",
            "Acuracia: 100.0 %   Distancia: 5\n",
            "\n",
            "Acuracia: 100.0 %   Distancia: 10\n",
            "\n",
            "Acuracia: 100.0 %   Distancia: 15\n",
            "\n",
            "Acuracia: 100.0 %   Distancia: 20\n",
            "\n",
            "Acuracia: 100.0 %   Distancia: 25\n",
            "\n",
            "Acuracia: 100.0 %   Distancia: 30\n",
            "\n",
            "Acuracia: 100.0 %   Distancia: 35\n",
            "\n",
            "Acuracia: 100.0 %   Distancia: 40\n",
            "\n",
            "Acuracia: 100.0 %   Distancia: 45\n",
            "\n",
            "Acuracia: 100.0 %   Distancia: 50\n",
            "\n",
            "Acuracia: 100.0 %   Distancia: 55\n",
            "\n",
            "Acuracia: 99.98316498316498 %   Distancia: 60\n",
            "\n",
            "Acuracia: 99.86531986531986 %   Distancia: 65\n",
            "\n",
            "Acuracia: 99.76430976430977 %   Distancia: 70\n",
            "\n",
            "Acuracia: 99.41077441077442 %   Distancia: 75\n",
            "\n",
            "Acuracia: 98.87205387205387 %   Distancia: 80\n",
            "\n",
            "Acuracia: 98.13131313131314 %   Distancia: 85\n",
            "\n",
            "Acuracia: 97.32323232323232 %   Distancia: 90\n",
            "\n",
            "Acuracia: 96.34680134680134 %   Distancia: 95\n",
            "\n",
            "Acuracia: 95.38720538720538 %   Distancia: 100\n",
            "\n",
            "Acuracia: 92.77777777777779 %   Distancia: 105\n",
            "\n",
            "Acuracia: 90.65656565656566 %   Distancia: 110\n",
            "\n",
            "Acuracia: 89.02356902356902 %   Distancia: 115\n",
            "\n",
            "Acuracia: 86.86868686868688 %   Distancia: 120\n",
            "\n",
            "Acuracia: 82.62626262626263 %   Distancia: 125\n",
            "\n",
            "Acuracia: 81.44781144781145 %   Distancia: 130\n",
            "\n",
            "Acuracia: 78.3838383838384 %   Distancia: 135\n",
            "\n",
            "Acuracia: 77.54208754208754 %   Distancia: 140\n",
            "\n",
            "Acuracia: 75.48821548821549 %   Distancia: 145\n",
            "\n",
            "Acuracia: 73.23232323232324 %   Distancia: 150\n",
            "\n",
            "Acuracia: 73.63636363636363 %   Distancia: 155\n",
            "\n",
            "Acuracia: 71.56565656565657 %   Distancia: 160\n"
          ]
        }
      ]
    },
    {
      "cell_type": "markdown",
      "source": [
        "\n",
        " > # **Classificador por Bagging**\n",
        "\n",
        "---\n",
        "\n",
        "\n",
        "> Ao invés de agrupar diversos Classificadores diferentes, este metodo de ensemble utiliza apenas um tipo de classificador, criando subconjuntos aleatorios no conjunto de treinamento.\n",
        "\n",
        "\n",
        "> Este tipo de ensemble se diferencia dos demais pois as predições podem ser feitas paralelamente. (Parâmetro n_jobs)"
      ],
      "metadata": {
        "id": "xh_jidw6fbJv"
      }
    },
    {
      "cell_type": "code",
      "source": [
        "from sklearn.ensemble import BaggingClassifier\n",
        "from sklearn.tree import DecisionTreeClassifier\n",
        "from sklearn.neighbors import NearestNeighbors\n",
        "from sklearn.neighbors import KNeighborsClassifier\n",
        "\n",
        "i=0\n",
        "for data in datas[:-1]:\n",
        "  X_train, X_test, y_train, y_test  = train_test_split(data.T, y_transf, test_size=0.33, random_state=0)\n",
        "  bag_clf = BaggingClassifier(KNeighborsClassifier(), n_estimators = 500, max_samples=100, bootstrap=True)\n",
        "\n",
        "  bag_clf.fit(X_train, y_train)\n",
        "\n",
        "  y_pred = bag_clf.predict(X_test)\n",
        "\n",
        "  print(\"\\nAcuracia:\", accuracy_score(y_test, y_pred)*100, \"%   Distancia:\", i)\n",
        "  i = i + 5"
      ],
      "metadata": {
        "colab": {
          "base_uri": "https://localhost:8080/",
          "height": 1000
        },
        "id": "TxUdk2d8ah1Y",
        "outputId": "f9dc2c08-51f6-476b-90e4-f2b49f72cdbf"
      },
      "execution_count": 60,
      "outputs": [
        {
          "output_type": "stream",
          "name": "stdout",
          "text": [
            "\n",
            "Acuracia: 100.0 %   Distancia: 0\n",
            "\n",
            "Acuracia: 100.0 %   Distancia: 5\n",
            "\n",
            "Acuracia: 100.0 %   Distancia: 10\n",
            "\n",
            "Acuracia: 100.0 %   Distancia: 15\n",
            "\n",
            "Acuracia: 100.0 %   Distancia: 20\n",
            "\n",
            "Acuracia: 100.0 %   Distancia: 25\n",
            "\n",
            "Acuracia: 100.0 %   Distancia: 30\n",
            "\n",
            "Acuracia: 100.0 %   Distancia: 35\n",
            "\n",
            "Acuracia: 100.0 %   Distancia: 40\n",
            "\n",
            "Acuracia: 100.0 %   Distancia: 45\n",
            "\n",
            "Acuracia: 100.0 %   Distancia: 50\n",
            "\n",
            "Acuracia: 100.0 %   Distancia: 55\n",
            "\n",
            "Acuracia: 100.0 %   Distancia: 60\n",
            "\n",
            "Acuracia: 99.84848484848486 %   Distancia: 65\n",
            "\n",
            "Acuracia: 99.79797979797979 %   Distancia: 70\n",
            "\n",
            "Acuracia: 99.54545454545455 %   Distancia: 75\n",
            "\n",
            "Acuracia: 98.92255892255892 %   Distancia: 80\n",
            "\n",
            "Acuracia: 98.31649831649831 %   Distancia: 85\n",
            "\n",
            "Acuracia: 97.67676767676767 %   Distancia: 90\n",
            "\n",
            "Acuracia: 96.76767676767678 %   Distancia: 95\n",
            "\n",
            "Acuracia: 95.57239057239057 %   Distancia: 100\n",
            "\n",
            "Acuracia: 93.14814814814815 %   Distancia: 105\n",
            "\n",
            "Acuracia: 91.44781144781145 %   Distancia: 110\n",
            "\n",
            "Acuracia: 90.21885521885523 %   Distancia: 115\n",
            "\n",
            "Acuracia: 88.03030303030303 %   Distancia: 120\n",
            "\n",
            "Acuracia: 84.20875420875421 %   Distancia: 125\n",
            "\n",
            "Acuracia: 82.76094276094275 %   Distancia: 130\n",
            "\n",
            "Acuracia: 79.83164983164983 %   Distancia: 135\n",
            "\n",
            "Acuracia: 79.15824915824916 %   Distancia: 140\n",
            "\n",
            "Acuracia: 76.58249158249158 %   Distancia: 145\n",
            "\n",
            "Acuracia: 75.05050505050505 %   Distancia: 150\n",
            "\n",
            "Acuracia: 75.06734006734007 %   Distancia: 155\n"
          ]
        },
        {
          "output_type": "error",
          "ename": "KeyboardInterrupt",
          "evalue": "ignored",
          "traceback": [
            "\u001b[0;31m---------------------------------------------------------------------------\u001b[0m",
            "\u001b[0;31mKeyboardInterrupt\u001b[0m                         Traceback (most recent call last)",
            "\u001b[0;32m<ipython-input-60-7f11f7adf208>\u001b[0m in \u001b[0;36m<module>\u001b[0;34m\u001b[0m\n\u001b[1;32m     11\u001b[0m   \u001b[0mbag_clf\u001b[0m\u001b[0;34m.\u001b[0m\u001b[0mfit\u001b[0m\u001b[0;34m(\u001b[0m\u001b[0mX_train\u001b[0m\u001b[0;34m,\u001b[0m \u001b[0my_train\u001b[0m\u001b[0;34m)\u001b[0m\u001b[0;34m\u001b[0m\u001b[0;34m\u001b[0m\u001b[0m\n\u001b[1;32m     12\u001b[0m \u001b[0;34m\u001b[0m\u001b[0m\n\u001b[0;32m---> 13\u001b[0;31m   \u001b[0my_pred\u001b[0m \u001b[0;34m=\u001b[0m \u001b[0mbag_clf\u001b[0m\u001b[0;34m.\u001b[0m\u001b[0mpredict\u001b[0m\u001b[0;34m(\u001b[0m\u001b[0mX_test\u001b[0m\u001b[0;34m)\u001b[0m\u001b[0;34m\u001b[0m\u001b[0;34m\u001b[0m\u001b[0m\n\u001b[0m\u001b[1;32m     14\u001b[0m \u001b[0;34m\u001b[0m\u001b[0m\n\u001b[1;32m     15\u001b[0m   \u001b[0mprint\u001b[0m\u001b[0;34m(\u001b[0m\u001b[0;34m\"\\nAcuracia:\"\u001b[0m\u001b[0;34m,\u001b[0m \u001b[0maccuracy_score\u001b[0m\u001b[0;34m(\u001b[0m\u001b[0my_test\u001b[0m\u001b[0;34m,\u001b[0m \u001b[0my_pred\u001b[0m\u001b[0;34m)\u001b[0m\u001b[0;34m*\u001b[0m\u001b[0;36m100\u001b[0m\u001b[0;34m,\u001b[0m \u001b[0;34m\"%   Distancia:\"\u001b[0m\u001b[0;34m,\u001b[0m \u001b[0mi\u001b[0m\u001b[0;34m)\u001b[0m\u001b[0;34m\u001b[0m\u001b[0;34m\u001b[0m\u001b[0m\n",
            "\u001b[0;32m/usr/local/lib/python3.7/dist-packages/sklearn/ensemble/_bagging.py\u001b[0m in \u001b[0;36mpredict\u001b[0;34m(self, X)\u001b[0m\n\u001b[1;32m    742\u001b[0m             \u001b[0mThe\u001b[0m \u001b[0mpredicted\u001b[0m \u001b[0mclasses\u001b[0m\u001b[0;34m.\u001b[0m\u001b[0;34m\u001b[0m\u001b[0;34m\u001b[0m\u001b[0m\n\u001b[1;32m    743\u001b[0m         \"\"\"\n\u001b[0;32m--> 744\u001b[0;31m         \u001b[0mpredicted_probabilitiy\u001b[0m \u001b[0;34m=\u001b[0m \u001b[0mself\u001b[0m\u001b[0;34m.\u001b[0m\u001b[0mpredict_proba\u001b[0m\u001b[0;34m(\u001b[0m\u001b[0mX\u001b[0m\u001b[0;34m)\u001b[0m\u001b[0;34m\u001b[0m\u001b[0;34m\u001b[0m\u001b[0m\n\u001b[0m\u001b[1;32m    745\u001b[0m         \u001b[0;32mreturn\u001b[0m \u001b[0mself\u001b[0m\u001b[0;34m.\u001b[0m\u001b[0mclasses_\u001b[0m\u001b[0;34m.\u001b[0m\u001b[0mtake\u001b[0m\u001b[0;34m(\u001b[0m\u001b[0;34m(\u001b[0m\u001b[0mnp\u001b[0m\u001b[0;34m.\u001b[0m\u001b[0margmax\u001b[0m\u001b[0;34m(\u001b[0m\u001b[0mpredicted_probabilitiy\u001b[0m\u001b[0;34m,\u001b[0m \u001b[0maxis\u001b[0m\u001b[0;34m=\u001b[0m\u001b[0;36m1\u001b[0m\u001b[0;34m)\u001b[0m\u001b[0;34m)\u001b[0m\u001b[0;34m,\u001b[0m \u001b[0maxis\u001b[0m\u001b[0;34m=\u001b[0m\u001b[0;36m0\u001b[0m\u001b[0;34m)\u001b[0m\u001b[0;34m\u001b[0m\u001b[0;34m\u001b[0m\u001b[0m\n\u001b[1;32m    746\u001b[0m \u001b[0;34m\u001b[0m\u001b[0m\n",
            "\u001b[0;32m/usr/local/lib/python3.7/dist-packages/sklearn/ensemble/_bagging.py\u001b[0m in \u001b[0;36mpredict_proba\u001b[0;34m(self, X)\u001b[0m\n\u001b[1;32m    791\u001b[0m                 \u001b[0mself\u001b[0m\u001b[0;34m.\u001b[0m\u001b[0mn_classes_\u001b[0m\u001b[0;34m,\u001b[0m\u001b[0;34m\u001b[0m\u001b[0;34m\u001b[0m\u001b[0m\n\u001b[1;32m    792\u001b[0m             )\n\u001b[0;32m--> 793\u001b[0;31m             \u001b[0;32mfor\u001b[0m \u001b[0mi\u001b[0m \u001b[0;32min\u001b[0m \u001b[0mrange\u001b[0m\u001b[0;34m(\u001b[0m\u001b[0mn_jobs\u001b[0m\u001b[0;34m)\u001b[0m\u001b[0;34m\u001b[0m\u001b[0;34m\u001b[0m\u001b[0m\n\u001b[0m\u001b[1;32m    794\u001b[0m         )\n\u001b[1;32m    795\u001b[0m \u001b[0;34m\u001b[0m\u001b[0m\n",
            "\u001b[0;32m/usr/local/lib/python3.7/dist-packages/joblib/parallel.py\u001b[0m in \u001b[0;36m__call__\u001b[0;34m(self, iterable)\u001b[0m\n\u001b[1;32m   1083\u001b[0m             \u001b[0;31m# remaining jobs.\u001b[0m\u001b[0;34m\u001b[0m\u001b[0;34m\u001b[0m\u001b[0;34m\u001b[0m\u001b[0m\n\u001b[1;32m   1084\u001b[0m             \u001b[0mself\u001b[0m\u001b[0;34m.\u001b[0m\u001b[0m_iterating\u001b[0m \u001b[0;34m=\u001b[0m \u001b[0;32mFalse\u001b[0m\u001b[0;34m\u001b[0m\u001b[0;34m\u001b[0m\u001b[0m\n\u001b[0;32m-> 1085\u001b[0;31m             \u001b[0;32mif\u001b[0m \u001b[0mself\u001b[0m\u001b[0;34m.\u001b[0m\u001b[0mdispatch_one_batch\u001b[0m\u001b[0;34m(\u001b[0m\u001b[0miterator\u001b[0m\u001b[0;34m)\u001b[0m\u001b[0;34m:\u001b[0m\u001b[0;34m\u001b[0m\u001b[0;34m\u001b[0m\u001b[0m\n\u001b[0m\u001b[1;32m   1086\u001b[0m                 \u001b[0mself\u001b[0m\u001b[0;34m.\u001b[0m\u001b[0m_iterating\u001b[0m \u001b[0;34m=\u001b[0m \u001b[0mself\u001b[0m\u001b[0;34m.\u001b[0m\u001b[0m_original_iterator\u001b[0m \u001b[0;32mis\u001b[0m \u001b[0;32mnot\u001b[0m \u001b[0;32mNone\u001b[0m\u001b[0;34m\u001b[0m\u001b[0;34m\u001b[0m\u001b[0m\n\u001b[1;32m   1087\u001b[0m \u001b[0;34m\u001b[0m\u001b[0m\n",
            "\u001b[0;32m/usr/local/lib/python3.7/dist-packages/joblib/parallel.py\u001b[0m in \u001b[0;36mdispatch_one_batch\u001b[0;34m(self, iterator)\u001b[0m\n\u001b[1;32m    899\u001b[0m                 \u001b[0;32mreturn\u001b[0m \u001b[0;32mFalse\u001b[0m\u001b[0;34m\u001b[0m\u001b[0;34m\u001b[0m\u001b[0m\n\u001b[1;32m    900\u001b[0m             \u001b[0;32melse\u001b[0m\u001b[0;34m:\u001b[0m\u001b[0;34m\u001b[0m\u001b[0;34m\u001b[0m\u001b[0m\n\u001b[0;32m--> 901\u001b[0;31m                 \u001b[0mself\u001b[0m\u001b[0;34m.\u001b[0m\u001b[0m_dispatch\u001b[0m\u001b[0;34m(\u001b[0m\u001b[0mtasks\u001b[0m\u001b[0;34m)\u001b[0m\u001b[0;34m\u001b[0m\u001b[0;34m\u001b[0m\u001b[0m\n\u001b[0m\u001b[1;32m    902\u001b[0m                 \u001b[0;32mreturn\u001b[0m \u001b[0;32mTrue\u001b[0m\u001b[0;34m\u001b[0m\u001b[0;34m\u001b[0m\u001b[0m\n\u001b[1;32m    903\u001b[0m \u001b[0;34m\u001b[0m\u001b[0m\n",
            "\u001b[0;32m/usr/local/lib/python3.7/dist-packages/joblib/parallel.py\u001b[0m in \u001b[0;36m_dispatch\u001b[0;34m(self, batch)\u001b[0m\n\u001b[1;32m    817\u001b[0m         \u001b[0;32mwith\u001b[0m \u001b[0mself\u001b[0m\u001b[0;34m.\u001b[0m\u001b[0m_lock\u001b[0m\u001b[0;34m:\u001b[0m\u001b[0;34m\u001b[0m\u001b[0;34m\u001b[0m\u001b[0m\n\u001b[1;32m    818\u001b[0m             \u001b[0mjob_idx\u001b[0m \u001b[0;34m=\u001b[0m \u001b[0mlen\u001b[0m\u001b[0;34m(\u001b[0m\u001b[0mself\u001b[0m\u001b[0;34m.\u001b[0m\u001b[0m_jobs\u001b[0m\u001b[0;34m)\u001b[0m\u001b[0;34m\u001b[0m\u001b[0;34m\u001b[0m\u001b[0m\n\u001b[0;32m--> 819\u001b[0;31m             \u001b[0mjob\u001b[0m \u001b[0;34m=\u001b[0m \u001b[0mself\u001b[0m\u001b[0;34m.\u001b[0m\u001b[0m_backend\u001b[0m\u001b[0;34m.\u001b[0m\u001b[0mapply_async\u001b[0m\u001b[0;34m(\u001b[0m\u001b[0mbatch\u001b[0m\u001b[0;34m,\u001b[0m \u001b[0mcallback\u001b[0m\u001b[0;34m=\u001b[0m\u001b[0mcb\u001b[0m\u001b[0;34m)\u001b[0m\u001b[0;34m\u001b[0m\u001b[0;34m\u001b[0m\u001b[0m\n\u001b[0m\u001b[1;32m    820\u001b[0m             \u001b[0;31m# A job can complete so quickly than its callback is\u001b[0m\u001b[0;34m\u001b[0m\u001b[0;34m\u001b[0m\u001b[0;34m\u001b[0m\u001b[0m\n\u001b[1;32m    821\u001b[0m             \u001b[0;31m# called before we get here, causing self._jobs to\u001b[0m\u001b[0;34m\u001b[0m\u001b[0;34m\u001b[0m\u001b[0;34m\u001b[0m\u001b[0m\n",
            "\u001b[0;32m/usr/local/lib/python3.7/dist-packages/joblib/_parallel_backends.py\u001b[0m in \u001b[0;36mapply_async\u001b[0;34m(self, func, callback)\u001b[0m\n\u001b[1;32m    206\u001b[0m     \u001b[0;32mdef\u001b[0m \u001b[0mapply_async\u001b[0m\u001b[0;34m(\u001b[0m\u001b[0mself\u001b[0m\u001b[0;34m,\u001b[0m \u001b[0mfunc\u001b[0m\u001b[0;34m,\u001b[0m \u001b[0mcallback\u001b[0m\u001b[0;34m=\u001b[0m\u001b[0;32mNone\u001b[0m\u001b[0;34m)\u001b[0m\u001b[0;34m:\u001b[0m\u001b[0;34m\u001b[0m\u001b[0;34m\u001b[0m\u001b[0m\n\u001b[1;32m    207\u001b[0m         \u001b[0;34m\"\"\"Schedule a func to be run\"\"\"\u001b[0m\u001b[0;34m\u001b[0m\u001b[0;34m\u001b[0m\u001b[0m\n\u001b[0;32m--> 208\u001b[0;31m         \u001b[0mresult\u001b[0m \u001b[0;34m=\u001b[0m \u001b[0mImmediateResult\u001b[0m\u001b[0;34m(\u001b[0m\u001b[0mfunc\u001b[0m\u001b[0;34m)\u001b[0m\u001b[0;34m\u001b[0m\u001b[0;34m\u001b[0m\u001b[0m\n\u001b[0m\u001b[1;32m    209\u001b[0m         \u001b[0;32mif\u001b[0m \u001b[0mcallback\u001b[0m\u001b[0;34m:\u001b[0m\u001b[0;34m\u001b[0m\u001b[0;34m\u001b[0m\u001b[0m\n\u001b[1;32m    210\u001b[0m             \u001b[0mcallback\u001b[0m\u001b[0;34m(\u001b[0m\u001b[0mresult\u001b[0m\u001b[0;34m)\u001b[0m\u001b[0;34m\u001b[0m\u001b[0;34m\u001b[0m\u001b[0m\n",
            "\u001b[0;32m/usr/local/lib/python3.7/dist-packages/joblib/_parallel_backends.py\u001b[0m in \u001b[0;36m__init__\u001b[0;34m(self, batch)\u001b[0m\n\u001b[1;32m    595\u001b[0m         \u001b[0;31m# Don't delay the application, to avoid keeping the input\u001b[0m\u001b[0;34m\u001b[0m\u001b[0;34m\u001b[0m\u001b[0;34m\u001b[0m\u001b[0m\n\u001b[1;32m    596\u001b[0m         \u001b[0;31m# arguments in memory\u001b[0m\u001b[0;34m\u001b[0m\u001b[0;34m\u001b[0m\u001b[0;34m\u001b[0m\u001b[0m\n\u001b[0;32m--> 597\u001b[0;31m         \u001b[0mself\u001b[0m\u001b[0;34m.\u001b[0m\u001b[0mresults\u001b[0m \u001b[0;34m=\u001b[0m \u001b[0mbatch\u001b[0m\u001b[0;34m(\u001b[0m\u001b[0;34m)\u001b[0m\u001b[0;34m\u001b[0m\u001b[0;34m\u001b[0m\u001b[0m\n\u001b[0m\u001b[1;32m    598\u001b[0m \u001b[0;34m\u001b[0m\u001b[0m\n\u001b[1;32m    599\u001b[0m     \u001b[0;32mdef\u001b[0m \u001b[0mget\u001b[0m\u001b[0;34m(\u001b[0m\u001b[0mself\u001b[0m\u001b[0;34m)\u001b[0m\u001b[0;34m:\u001b[0m\u001b[0;34m\u001b[0m\u001b[0;34m\u001b[0m\u001b[0m\n",
            "\u001b[0;32m/usr/local/lib/python3.7/dist-packages/joblib/parallel.py\u001b[0m in \u001b[0;36m__call__\u001b[0;34m(self)\u001b[0m\n\u001b[1;32m    287\u001b[0m         \u001b[0;32mwith\u001b[0m \u001b[0mparallel_backend\u001b[0m\u001b[0;34m(\u001b[0m\u001b[0mself\u001b[0m\u001b[0;34m.\u001b[0m\u001b[0m_backend\u001b[0m\u001b[0;34m,\u001b[0m \u001b[0mn_jobs\u001b[0m\u001b[0;34m=\u001b[0m\u001b[0mself\u001b[0m\u001b[0;34m.\u001b[0m\u001b[0m_n_jobs\u001b[0m\u001b[0;34m)\u001b[0m\u001b[0;34m:\u001b[0m\u001b[0;34m\u001b[0m\u001b[0;34m\u001b[0m\u001b[0m\n\u001b[1;32m    288\u001b[0m             return [func(*args, **kwargs)\n\u001b[0;32m--> 289\u001b[0;31m                     for func, args, kwargs in self.items]\n\u001b[0m\u001b[1;32m    290\u001b[0m \u001b[0;34m\u001b[0m\u001b[0m\n\u001b[1;32m    291\u001b[0m     \u001b[0;32mdef\u001b[0m \u001b[0m__reduce__\u001b[0m\u001b[0;34m(\u001b[0m\u001b[0mself\u001b[0m\u001b[0;34m)\u001b[0m\u001b[0;34m:\u001b[0m\u001b[0;34m\u001b[0m\u001b[0;34m\u001b[0m\u001b[0m\n",
            "\u001b[0;32m/usr/local/lib/python3.7/dist-packages/joblib/parallel.py\u001b[0m in \u001b[0;36m<listcomp>\u001b[0;34m(.0)\u001b[0m\n\u001b[1;32m    287\u001b[0m         \u001b[0;32mwith\u001b[0m \u001b[0mparallel_backend\u001b[0m\u001b[0;34m(\u001b[0m\u001b[0mself\u001b[0m\u001b[0;34m.\u001b[0m\u001b[0m_backend\u001b[0m\u001b[0;34m,\u001b[0m \u001b[0mn_jobs\u001b[0m\u001b[0;34m=\u001b[0m\u001b[0mself\u001b[0m\u001b[0;34m.\u001b[0m\u001b[0m_n_jobs\u001b[0m\u001b[0;34m)\u001b[0m\u001b[0;34m:\u001b[0m\u001b[0;34m\u001b[0m\u001b[0;34m\u001b[0m\u001b[0m\n\u001b[1;32m    288\u001b[0m             return [func(*args, **kwargs)\n\u001b[0;32m--> 289\u001b[0;31m                     for func, args, kwargs in self.items]\n\u001b[0m\u001b[1;32m    290\u001b[0m \u001b[0;34m\u001b[0m\u001b[0m\n\u001b[1;32m    291\u001b[0m     \u001b[0;32mdef\u001b[0m \u001b[0m__reduce__\u001b[0m\u001b[0;34m(\u001b[0m\u001b[0mself\u001b[0m\u001b[0;34m)\u001b[0m\u001b[0;34m:\u001b[0m\u001b[0;34m\u001b[0m\u001b[0;34m\u001b[0m\u001b[0m\n",
            "\u001b[0;32m/usr/local/lib/python3.7/dist-packages/sklearn/utils/fixes.py\u001b[0m in \u001b[0;36m__call__\u001b[0;34m(self, *args, **kwargs)\u001b[0m\n\u001b[1;32m    214\u001b[0m     \u001b[0;32mdef\u001b[0m \u001b[0m__call__\u001b[0m\u001b[0;34m(\u001b[0m\u001b[0mself\u001b[0m\u001b[0;34m,\u001b[0m \u001b[0;34m*\u001b[0m\u001b[0margs\u001b[0m\u001b[0;34m,\u001b[0m \u001b[0;34m**\u001b[0m\u001b[0mkwargs\u001b[0m\u001b[0;34m)\u001b[0m\u001b[0;34m:\u001b[0m\u001b[0;34m\u001b[0m\u001b[0;34m\u001b[0m\u001b[0m\n\u001b[1;32m    215\u001b[0m         \u001b[0;32mwith\u001b[0m \u001b[0mconfig_context\u001b[0m\u001b[0;34m(\u001b[0m\u001b[0;34m**\u001b[0m\u001b[0mself\u001b[0m\u001b[0;34m.\u001b[0m\u001b[0mconfig\u001b[0m\u001b[0;34m)\u001b[0m\u001b[0;34m:\u001b[0m\u001b[0;34m\u001b[0m\u001b[0;34m\u001b[0m\u001b[0m\n\u001b[0;32m--> 216\u001b[0;31m             \u001b[0;32mreturn\u001b[0m \u001b[0mself\u001b[0m\u001b[0;34m.\u001b[0m\u001b[0mfunction\u001b[0m\u001b[0;34m(\u001b[0m\u001b[0;34m*\u001b[0m\u001b[0margs\u001b[0m\u001b[0;34m,\u001b[0m \u001b[0;34m**\u001b[0m\u001b[0mkwargs\u001b[0m\u001b[0;34m)\u001b[0m\u001b[0;34m\u001b[0m\u001b[0;34m\u001b[0m\u001b[0m\n\u001b[0m\u001b[1;32m    217\u001b[0m \u001b[0;34m\u001b[0m\u001b[0m\n\u001b[1;32m    218\u001b[0m \u001b[0;34m\u001b[0m\u001b[0m\n",
            "\u001b[0;32m/usr/local/lib/python3.7/dist-packages/sklearn/ensemble/_bagging.py\u001b[0m in \u001b[0;36m_parallel_predict_proba\u001b[0;34m(estimators, estimators_features, X, n_classes)\u001b[0m\n\u001b[1;32m    139\u001b[0m     \u001b[0;32mfor\u001b[0m \u001b[0mestimator\u001b[0m\u001b[0;34m,\u001b[0m \u001b[0mfeatures\u001b[0m \u001b[0;32min\u001b[0m \u001b[0mzip\u001b[0m\u001b[0;34m(\u001b[0m\u001b[0mestimators\u001b[0m\u001b[0;34m,\u001b[0m \u001b[0mestimators_features\u001b[0m\u001b[0;34m)\u001b[0m\u001b[0;34m:\u001b[0m\u001b[0;34m\u001b[0m\u001b[0;34m\u001b[0m\u001b[0m\n\u001b[1;32m    140\u001b[0m         \u001b[0;32mif\u001b[0m \u001b[0mhasattr\u001b[0m\u001b[0;34m(\u001b[0m\u001b[0mestimator\u001b[0m\u001b[0;34m,\u001b[0m \u001b[0;34m\"predict_proba\"\u001b[0m\u001b[0;34m)\u001b[0m\u001b[0;34m:\u001b[0m\u001b[0;34m\u001b[0m\u001b[0;34m\u001b[0m\u001b[0m\n\u001b[0;32m--> 141\u001b[0;31m             \u001b[0mproba_estimator\u001b[0m \u001b[0;34m=\u001b[0m \u001b[0mestimator\u001b[0m\u001b[0;34m.\u001b[0m\u001b[0mpredict_proba\u001b[0m\u001b[0;34m(\u001b[0m\u001b[0mX\u001b[0m\u001b[0;34m[\u001b[0m\u001b[0;34m:\u001b[0m\u001b[0;34m,\u001b[0m \u001b[0mfeatures\u001b[0m\u001b[0;34m]\u001b[0m\u001b[0;34m)\u001b[0m\u001b[0;34m\u001b[0m\u001b[0;34m\u001b[0m\u001b[0m\n\u001b[0m\u001b[1;32m    142\u001b[0m \u001b[0;34m\u001b[0m\u001b[0m\n\u001b[1;32m    143\u001b[0m             \u001b[0;32mif\u001b[0m \u001b[0mn_classes\u001b[0m \u001b[0;34m==\u001b[0m \u001b[0mlen\u001b[0m\u001b[0;34m(\u001b[0m\u001b[0mestimator\u001b[0m\u001b[0;34m.\u001b[0m\u001b[0mclasses_\u001b[0m\u001b[0;34m)\u001b[0m\u001b[0;34m:\u001b[0m\u001b[0;34m\u001b[0m\u001b[0;34m\u001b[0m\u001b[0m\n",
            "\u001b[0;32m/usr/local/lib/python3.7/dist-packages/sklearn/neighbors/_classification.py\u001b[0m in \u001b[0;36mpredict_proba\u001b[0;34m(self, X)\u001b[0m\n\u001b[1;32m    254\u001b[0m             \u001b[0mby\u001b[0m \u001b[0mlexicographic\u001b[0m \u001b[0morder\u001b[0m\u001b[0;34m.\u001b[0m\u001b[0;34m\u001b[0m\u001b[0;34m\u001b[0m\u001b[0m\n\u001b[1;32m    255\u001b[0m         \"\"\"\n\u001b[0;32m--> 256\u001b[0;31m         \u001b[0mneigh_dist\u001b[0m\u001b[0;34m,\u001b[0m \u001b[0mneigh_ind\u001b[0m \u001b[0;34m=\u001b[0m \u001b[0mself\u001b[0m\u001b[0;34m.\u001b[0m\u001b[0mkneighbors\u001b[0m\u001b[0;34m(\u001b[0m\u001b[0mX\u001b[0m\u001b[0;34m)\u001b[0m\u001b[0;34m\u001b[0m\u001b[0;34m\u001b[0m\u001b[0m\n\u001b[0m\u001b[1;32m    257\u001b[0m \u001b[0;34m\u001b[0m\u001b[0m\n\u001b[1;32m    258\u001b[0m         \u001b[0mclasses_\u001b[0m \u001b[0;34m=\u001b[0m \u001b[0mself\u001b[0m\u001b[0;34m.\u001b[0m\u001b[0mclasses_\u001b[0m\u001b[0;34m\u001b[0m\u001b[0;34m\u001b[0m\u001b[0m\n",
            "\u001b[0;32m/usr/local/lib/python3.7/dist-packages/sklearn/neighbors/_base.py\u001b[0m in \u001b[0;36mkneighbors\u001b[0;34m(self, X, n_neighbors, return_distance)\u001b[0m\n\u001b[1;32m    757\u001b[0m                     \u001b[0mmetric\u001b[0m\u001b[0;34m=\u001b[0m\u001b[0mself\u001b[0m\u001b[0;34m.\u001b[0m\u001b[0meffective_metric_\u001b[0m\u001b[0;34m,\u001b[0m\u001b[0;34m\u001b[0m\u001b[0;34m\u001b[0m\u001b[0m\n\u001b[1;32m    758\u001b[0m                     \u001b[0mn_jobs\u001b[0m\u001b[0;34m=\u001b[0m\u001b[0mn_jobs\u001b[0m\u001b[0;34m,\u001b[0m\u001b[0;34m\u001b[0m\u001b[0;34m\u001b[0m\u001b[0m\n\u001b[0;32m--> 759\u001b[0;31m                     \u001b[0;34m**\u001b[0m\u001b[0mkwds\u001b[0m\u001b[0;34m,\u001b[0m\u001b[0;34m\u001b[0m\u001b[0;34m\u001b[0m\u001b[0m\n\u001b[0m\u001b[1;32m    760\u001b[0m                 )\n\u001b[1;32m    761\u001b[0m             )\n",
            "\u001b[0;32m/usr/local/lib/python3.7/dist-packages/sklearn/metrics/pairwise.py\u001b[0m in \u001b[0;36mpairwise_distances_chunked\u001b[0;34m(X, Y, reduce_func, metric, n_jobs, working_memory, **kwds)\u001b[0m\n\u001b[1;32m   1724\u001b[0m         \u001b[0;32mif\u001b[0m \u001b[0mreduce_func\u001b[0m \u001b[0;32mis\u001b[0m \u001b[0;32mnot\u001b[0m \u001b[0;32mNone\u001b[0m\u001b[0;34m:\u001b[0m\u001b[0;34m\u001b[0m\u001b[0;34m\u001b[0m\u001b[0m\n\u001b[1;32m   1725\u001b[0m             \u001b[0mchunk_size\u001b[0m \u001b[0;34m=\u001b[0m \u001b[0mD_chunk\u001b[0m\u001b[0;34m.\u001b[0m\u001b[0mshape\u001b[0m\u001b[0;34m[\u001b[0m\u001b[0;36m0\u001b[0m\u001b[0;34m]\u001b[0m\u001b[0;34m\u001b[0m\u001b[0;34m\u001b[0m\u001b[0m\n\u001b[0;32m-> 1726\u001b[0;31m             \u001b[0mD_chunk\u001b[0m \u001b[0;34m=\u001b[0m \u001b[0mreduce_func\u001b[0m\u001b[0;34m(\u001b[0m\u001b[0mD_chunk\u001b[0m\u001b[0;34m,\u001b[0m \u001b[0msl\u001b[0m\u001b[0;34m.\u001b[0m\u001b[0mstart\u001b[0m\u001b[0;34m)\u001b[0m\u001b[0;34m\u001b[0m\u001b[0;34m\u001b[0m\u001b[0m\n\u001b[0m\u001b[1;32m   1727\u001b[0m             \u001b[0m_check_chunk_size\u001b[0m\u001b[0;34m(\u001b[0m\u001b[0mD_chunk\u001b[0m\u001b[0;34m,\u001b[0m \u001b[0mchunk_size\u001b[0m\u001b[0;34m)\u001b[0m\u001b[0;34m\u001b[0m\u001b[0;34m\u001b[0m\u001b[0m\n\u001b[1;32m   1728\u001b[0m         \u001b[0;32myield\u001b[0m \u001b[0mD_chunk\u001b[0m\u001b[0;34m\u001b[0m\u001b[0;34m\u001b[0m\u001b[0m\n",
            "\u001b[0;32m/usr/local/lib/python3.7/dist-packages/sklearn/neighbors/_base.py\u001b[0m in \u001b[0;36m_kneighbors_reduce_func\u001b[0;34m(self, dist, start, n_neighbors, return_distance)\u001b[0m\n\u001b[1;32m    632\u001b[0m         \"\"\"\n\u001b[1;32m    633\u001b[0m         \u001b[0msample_range\u001b[0m \u001b[0;34m=\u001b[0m \u001b[0mnp\u001b[0m\u001b[0;34m.\u001b[0m\u001b[0marange\u001b[0m\u001b[0;34m(\u001b[0m\u001b[0mdist\u001b[0m\u001b[0;34m.\u001b[0m\u001b[0mshape\u001b[0m\u001b[0;34m[\u001b[0m\u001b[0;36m0\u001b[0m\u001b[0;34m]\u001b[0m\u001b[0;34m)\u001b[0m\u001b[0;34m[\u001b[0m\u001b[0;34m:\u001b[0m\u001b[0;34m,\u001b[0m \u001b[0;32mNone\u001b[0m\u001b[0;34m]\u001b[0m\u001b[0;34m\u001b[0m\u001b[0;34m\u001b[0m\u001b[0m\n\u001b[0;32m--> 634\u001b[0;31m         \u001b[0mneigh_ind\u001b[0m \u001b[0;34m=\u001b[0m \u001b[0mnp\u001b[0m\u001b[0;34m.\u001b[0m\u001b[0margpartition\u001b[0m\u001b[0;34m(\u001b[0m\u001b[0mdist\u001b[0m\u001b[0;34m,\u001b[0m \u001b[0mn_neighbors\u001b[0m \u001b[0;34m-\u001b[0m \u001b[0;36m1\u001b[0m\u001b[0;34m,\u001b[0m \u001b[0maxis\u001b[0m\u001b[0;34m=\u001b[0m\u001b[0;36m1\u001b[0m\u001b[0;34m)\u001b[0m\u001b[0;34m\u001b[0m\u001b[0;34m\u001b[0m\u001b[0m\n\u001b[0m\u001b[1;32m    635\u001b[0m         \u001b[0mneigh_ind\u001b[0m \u001b[0;34m=\u001b[0m \u001b[0mneigh_ind\u001b[0m\u001b[0;34m[\u001b[0m\u001b[0;34m:\u001b[0m\u001b[0;34m,\u001b[0m \u001b[0;34m:\u001b[0m\u001b[0mn_neighbors\u001b[0m\u001b[0;34m]\u001b[0m\u001b[0;34m\u001b[0m\u001b[0;34m\u001b[0m\u001b[0m\n\u001b[1;32m    636\u001b[0m         \u001b[0;31m# argpartition doesn't guarantee sorted order, so we sort again\u001b[0m\u001b[0;34m\u001b[0m\u001b[0;34m\u001b[0m\u001b[0;34m\u001b[0m\u001b[0m\n",
            "\u001b[0;32m<__array_function__ internals>\u001b[0m in \u001b[0;36margpartition\u001b[0;34m(*args, **kwargs)\u001b[0m\n",
            "\u001b[0;32m/usr/local/lib/python3.7/dist-packages/numpy/core/fromnumeric.py\u001b[0m in \u001b[0;36margpartition\u001b[0;34m(a, kth, axis, kind, order)\u001b[0m\n\u001b[1;32m    837\u001b[0m \u001b[0;34m\u001b[0m\u001b[0m\n\u001b[1;32m    838\u001b[0m     \"\"\"\n\u001b[0;32m--> 839\u001b[0;31m     \u001b[0;32mreturn\u001b[0m \u001b[0m_wrapfunc\u001b[0m\u001b[0;34m(\u001b[0m\u001b[0ma\u001b[0m\u001b[0;34m,\u001b[0m \u001b[0;34m'argpartition'\u001b[0m\u001b[0;34m,\u001b[0m \u001b[0mkth\u001b[0m\u001b[0;34m,\u001b[0m \u001b[0maxis\u001b[0m\u001b[0;34m=\u001b[0m\u001b[0maxis\u001b[0m\u001b[0;34m,\u001b[0m \u001b[0mkind\u001b[0m\u001b[0;34m=\u001b[0m\u001b[0mkind\u001b[0m\u001b[0;34m,\u001b[0m \u001b[0morder\u001b[0m\u001b[0;34m=\u001b[0m\u001b[0morder\u001b[0m\u001b[0;34m)\u001b[0m\u001b[0;34m\u001b[0m\u001b[0;34m\u001b[0m\u001b[0m\n\u001b[0m\u001b[1;32m    840\u001b[0m \u001b[0;34m\u001b[0m\u001b[0m\n\u001b[1;32m    841\u001b[0m \u001b[0;34m\u001b[0m\u001b[0m\n",
            "\u001b[0;32m/usr/local/lib/python3.7/dist-packages/numpy/core/fromnumeric.py\u001b[0m in \u001b[0;36m_wrapfunc\u001b[0;34m(obj, method, *args, **kwds)\u001b[0m\n\u001b[1;32m     55\u001b[0m \u001b[0;34m\u001b[0m\u001b[0m\n\u001b[1;32m     56\u001b[0m     \u001b[0;32mtry\u001b[0m\u001b[0;34m:\u001b[0m\u001b[0;34m\u001b[0m\u001b[0;34m\u001b[0m\u001b[0m\n\u001b[0;32m---> 57\u001b[0;31m         \u001b[0;32mreturn\u001b[0m \u001b[0mbound\u001b[0m\u001b[0;34m(\u001b[0m\u001b[0;34m*\u001b[0m\u001b[0margs\u001b[0m\u001b[0;34m,\u001b[0m \u001b[0;34m**\u001b[0m\u001b[0mkwds\u001b[0m\u001b[0;34m)\u001b[0m\u001b[0;34m\u001b[0m\u001b[0;34m\u001b[0m\u001b[0m\n\u001b[0m\u001b[1;32m     58\u001b[0m     \u001b[0;32mexcept\u001b[0m \u001b[0mTypeError\u001b[0m\u001b[0;34m:\u001b[0m\u001b[0;34m\u001b[0m\u001b[0;34m\u001b[0m\u001b[0m\n\u001b[1;32m     59\u001b[0m         \u001b[0;31m# A TypeError occurs if the object does have such a method in its\u001b[0m\u001b[0;34m\u001b[0m\u001b[0;34m\u001b[0m\u001b[0;34m\u001b[0m\u001b[0m\n",
            "\u001b[0;31mKeyboardInterrupt\u001b[0m: "
          ]
        }
      ]
    },
    {
      "cell_type": "markdown",
      "source": [
        "\n",
        "> # **Florestas Aleatórias**\n",
        "\n",
        "---\n",
        "\n",
        "> Quando o Bagging é utilizado em Decision Trees (Arvores de Decisão), um novo algoritmo chamado Random Forest é criado.\n",
        "\n",
        "\n",
        "\n",
        "> A biblioteca Scikit Learn conta com um modulo dedicado apenas as Random Forests.\n",
        "\n",
        "\n"
      ],
      "metadata": {
        "id": "mk1gLQMBhHqd"
      }
    },
    {
      "cell_type": "code",
      "source": [
        "from sklearn.ensemble import RandomForestClassifier\n",
        "\n",
        "i=0\n",
        "for data in datas[:-1]:\n",
        "  X_train, X_test, y_train, y_test  = train_test_split(data.T, y_transf, test_size=0.33, random_state=0)\n",
        "  clf = RandomForestClassifier(max_depth=2, random_state=0)\n",
        "  clf.fit(X_train, y_train)\n",
        "\n",
        "  y_pred = clf.predict(X_test)\n",
        "\n",
        "  print(\"\\nAcuracia:\", accuracy_score(y_test, y_pred)*100, \"%   Distancia:\", i)\n",
        "  i = i + 5"
      ],
      "metadata": {
        "colab": {
          "base_uri": "https://localhost:8080/"
        },
        "id": "1Ki1hECmkfnu",
        "outputId": "83a61f9d-7393-4591-97c7-3db3f3b70e2b"
      },
      "execution_count": 65,
      "outputs": [
        {
          "output_type": "stream",
          "name": "stdout",
          "text": [
            "\n",
            "Acuracia: 100.0 %   Distancia: 0\n",
            "\n",
            "Acuracia: 100.0 %   Distancia: 5\n",
            "\n",
            "Acuracia: 100.0 %   Distancia: 10\n",
            "\n",
            "Acuracia: 100.0 %   Distancia: 15\n",
            "\n",
            "Acuracia: 100.0 %   Distancia: 20\n",
            "\n",
            "Acuracia: 100.0 %   Distancia: 25\n",
            "\n",
            "Acuracia: 100.0 %   Distancia: 30\n",
            "\n",
            "Acuracia: 100.0 %   Distancia: 35\n",
            "\n",
            "Acuracia: 100.0 %   Distancia: 40\n",
            "\n",
            "Acuracia: 100.0 %   Distancia: 45\n",
            "\n",
            "Acuracia: 99.98316498316498 %   Distancia: 50\n",
            "\n",
            "Acuracia: 99.74747474747475 %   Distancia: 55\n",
            "\n",
            "Acuracia: 99.57912457912458 %   Distancia: 60\n",
            "\n",
            "Acuracia: 99.12457912457913 %   Distancia: 65\n",
            "\n",
            "Acuracia: 98.48484848484848 %   Distancia: 70\n",
            "\n",
            "Acuracia: 97.55892255892256 %   Distancia: 75\n",
            "\n",
            "Acuracia: 96.0942760942761 %   Distancia: 80\n",
            "\n",
            "Acuracia: 94.54545454545455 %   Distancia: 85\n",
            "\n",
            "Acuracia: 93.73737373737374 %   Distancia: 90\n",
            "\n",
            "Acuracia: 92.12121212121212 %   Distancia: 95\n",
            "\n",
            "Acuracia: 89.91582491582491 %   Distancia: 100\n",
            "\n",
            "Acuracia: 86.0942760942761 %   Distancia: 105\n",
            "\n",
            "Acuracia: 84.02356902356902 %   Distancia: 110\n",
            "\n",
            "Acuracia: 81.61616161616162 %   Distancia: 115\n",
            "\n",
            "Acuracia: 79.94949494949495 %   Distancia: 120\n",
            "\n",
            "Acuracia: 77.64309764309765 %   Distancia: 125\n",
            "\n",
            "Acuracia: 74.0909090909091 %   Distancia: 130\n",
            "\n",
            "Acuracia: 71.76767676767678 %   Distancia: 135\n",
            "\n",
            "Acuracia: 71.54882154882155 %   Distancia: 140\n",
            "\n",
            "Acuracia: 70.62289562289563 %   Distancia: 145\n",
            "\n",
            "Acuracia: 68.28282828282828 %   Distancia: 150\n",
            "\n",
            "Acuracia: 68.04713804713805 %   Distancia: 155\n",
            "\n",
            "Acuracia: 65.21885521885523 %   Distancia: 160\n",
            "\n",
            "Acuracia: 65.11784511784512 %   Distancia: 165\n",
            "\n",
            "Acuracia: 63.282828282828284 %   Distancia: 170\n",
            "\n",
            "Acuracia: 62.82828282828283 %   Distancia: 175\n",
            "\n",
            "Acuracia: 62.003367003367 %   Distancia: 180\n"
          ]
        }
      ]
    },
    {
      "cell_type": "markdown",
      "source": [
        "# **BOOSTING**\n",
        "\n",
        "---\n",
        "\n",
        "Metodos de Boosting são metodos de ensemble que combinam classificadores fracos sequencialmente. Cada classificador tem objetivo de corrigir os erros do predecessor.\n",
        "\n",
        "Serão abordados o Adaboost e o Gradient Boost."
      ],
      "metadata": {
        "id": "pUreaQj9jd5F"
      }
    },
    {
      "cell_type": "markdown",
      "source": [
        "\n",
        "> # **AdaBoost**\n",
        "\n"
      ],
      "metadata": {
        "id": "cA5JnU2sjJ-d"
      }
    },
    {
      "cell_type": "code",
      "source": [
        "from sklearn.ensemble import AdaBoostClassifier\n",
        "i=0\n",
        "for data in datas[:-1]:\n",
        "  X_train, X_test, y_train, y_test  = train_test_split(data.T, y_transf, test_size=0.33, random_state=0)\n",
        "  clf = AdaBoostClassifier(base_estimator = SVC(probability=True, kernel='linear'), n_estimators=10, random_state=0)\n",
        "  clf.fit(X_train, y_train)\n",
        "\n",
        "  y_pred = clf.predict(X_test)\n",
        "\n",
        "  print(\"\\nAcuracia:\", accuracy_score(y_test, y_pred)*100, \"%   Distancia:\", i)\n",
        "  i = i + 5"
      ],
      "metadata": {
        "colab": {
          "base_uri": "https://localhost:8080/",
          "height": 658
        },
        "id": "VKxn3W6sPuky",
        "outputId": "22a653fb-b16a-4503-ad69-3158a02284ee"
      },
      "execution_count": 63,
      "outputs": [
        {
          "output_type": "stream",
          "name": "stdout",
          "text": [
            "\n",
            "Acuracia: 100.0 %   Distancia: 0\n",
            "\n",
            "Acuracia: 100.0 %   Distancia: 5\n",
            "\n",
            "Acuracia: 100.0 %   Distancia: 10\n",
            "\n",
            "Acuracia: 100.0 %   Distancia: 15\n",
            "\n",
            "Acuracia: 100.0 %   Distancia: 20\n",
            "\n",
            "Acuracia: 100.0 %   Distancia: 25\n",
            "\n",
            "Acuracia: 100.0 %   Distancia: 30\n",
            "\n",
            "Acuracia: 100.0 %   Distancia: 35\n"
          ]
        },
        {
          "output_type": "error",
          "ename": "KeyboardInterrupt",
          "evalue": "ignored",
          "traceback": [
            "\u001b[0;31m---------------------------------------------------------------------------\u001b[0m",
            "\u001b[0;31mKeyboardInterrupt\u001b[0m                         Traceback (most recent call last)",
            "\u001b[0;32m<ipython-input-63-4c226a436071>\u001b[0m in \u001b[0;36m<module>\u001b[0;34m\u001b[0m\n\u001b[1;32m      4\u001b[0m   \u001b[0mX_train\u001b[0m\u001b[0;34m,\u001b[0m \u001b[0mX_test\u001b[0m\u001b[0;34m,\u001b[0m \u001b[0my_train\u001b[0m\u001b[0;34m,\u001b[0m \u001b[0my_test\u001b[0m  \u001b[0;34m=\u001b[0m \u001b[0mtrain_test_split\u001b[0m\u001b[0;34m(\u001b[0m\u001b[0mdata\u001b[0m\u001b[0;34m.\u001b[0m\u001b[0mT\u001b[0m\u001b[0;34m,\u001b[0m \u001b[0my_transf\u001b[0m\u001b[0;34m,\u001b[0m \u001b[0mtest_size\u001b[0m\u001b[0;34m=\u001b[0m\u001b[0;36m0.33\u001b[0m\u001b[0;34m,\u001b[0m \u001b[0mrandom_state\u001b[0m\u001b[0;34m=\u001b[0m\u001b[0;36m0\u001b[0m\u001b[0;34m)\u001b[0m\u001b[0;34m\u001b[0m\u001b[0;34m\u001b[0m\u001b[0m\n\u001b[1;32m      5\u001b[0m   \u001b[0mclf\u001b[0m \u001b[0;34m=\u001b[0m \u001b[0mAdaBoostClassifier\u001b[0m\u001b[0;34m(\u001b[0m\u001b[0mbase_estimator\u001b[0m \u001b[0;34m=\u001b[0m \u001b[0mSVC\u001b[0m\u001b[0;34m(\u001b[0m\u001b[0mprobability\u001b[0m\u001b[0;34m=\u001b[0m\u001b[0;32mTrue\u001b[0m\u001b[0;34m,\u001b[0m \u001b[0mkernel\u001b[0m\u001b[0;34m=\u001b[0m\u001b[0;34m'linear'\u001b[0m\u001b[0;34m)\u001b[0m\u001b[0;34m,\u001b[0m \u001b[0mn_estimators\u001b[0m\u001b[0;34m=\u001b[0m\u001b[0;36m10\u001b[0m\u001b[0;34m,\u001b[0m \u001b[0mrandom_state\u001b[0m\u001b[0;34m=\u001b[0m\u001b[0;36m0\u001b[0m\u001b[0;34m)\u001b[0m\u001b[0;34m\u001b[0m\u001b[0;34m\u001b[0m\u001b[0m\n\u001b[0;32m----> 6\u001b[0;31m   \u001b[0mclf\u001b[0m\u001b[0;34m.\u001b[0m\u001b[0mfit\u001b[0m\u001b[0;34m(\u001b[0m\u001b[0mX_train\u001b[0m\u001b[0;34m,\u001b[0m \u001b[0my_train\u001b[0m\u001b[0;34m)\u001b[0m\u001b[0;34m\u001b[0m\u001b[0;34m\u001b[0m\u001b[0m\n\u001b[0m\u001b[1;32m      7\u001b[0m \u001b[0;34m\u001b[0m\u001b[0m\n\u001b[1;32m      8\u001b[0m   \u001b[0my_pred\u001b[0m \u001b[0;34m=\u001b[0m \u001b[0mclf\u001b[0m\u001b[0;34m.\u001b[0m\u001b[0mpredict\u001b[0m\u001b[0;34m(\u001b[0m\u001b[0mX_test\u001b[0m\u001b[0;34m)\u001b[0m\u001b[0;34m\u001b[0m\u001b[0;34m\u001b[0m\u001b[0m\n",
            "\u001b[0;32m/usr/local/lib/python3.7/dist-packages/sklearn/ensemble/_weight_boosting.py\u001b[0m in \u001b[0;36mfit\u001b[0;34m(self, X, y, sample_weight)\u001b[0m\n\u001b[1;32m    484\u001b[0m \u001b[0;34m\u001b[0m\u001b[0m\n\u001b[1;32m    485\u001b[0m         \u001b[0;31m# Fit\u001b[0m\u001b[0;34m\u001b[0m\u001b[0;34m\u001b[0m\u001b[0;34m\u001b[0m\u001b[0m\n\u001b[0;32m--> 486\u001b[0;31m         \u001b[0;32mreturn\u001b[0m \u001b[0msuper\u001b[0m\u001b[0;34m(\u001b[0m\u001b[0;34m)\u001b[0m\u001b[0;34m.\u001b[0m\u001b[0mfit\u001b[0m\u001b[0;34m(\u001b[0m\u001b[0mX\u001b[0m\u001b[0;34m,\u001b[0m \u001b[0my\u001b[0m\u001b[0;34m,\u001b[0m \u001b[0msample_weight\u001b[0m\u001b[0;34m)\u001b[0m\u001b[0;34m\u001b[0m\u001b[0;34m\u001b[0m\u001b[0m\n\u001b[0m\u001b[1;32m    487\u001b[0m \u001b[0;34m\u001b[0m\u001b[0m\n\u001b[1;32m    488\u001b[0m     \u001b[0;32mdef\u001b[0m \u001b[0m_validate_estimator\u001b[0m\u001b[0;34m(\u001b[0m\u001b[0mself\u001b[0m\u001b[0;34m)\u001b[0m\u001b[0;34m:\u001b[0m\u001b[0;34m\u001b[0m\u001b[0;34m\u001b[0m\u001b[0m\n",
            "\u001b[0;32m/usr/local/lib/python3.7/dist-packages/sklearn/ensemble/_weight_boosting.py\u001b[0m in \u001b[0;36mfit\u001b[0;34m(self, X, y, sample_weight)\u001b[0m\n\u001b[1;32m    144\u001b[0m             \u001b[0;31m# Boosting step\u001b[0m\u001b[0;34m\u001b[0m\u001b[0;34m\u001b[0m\u001b[0;34m\u001b[0m\u001b[0m\n\u001b[1;32m    145\u001b[0m             sample_weight, estimator_weight, estimator_error = self._boost(\n\u001b[0;32m--> 146\u001b[0;31m                 \u001b[0miboost\u001b[0m\u001b[0;34m,\u001b[0m \u001b[0mX\u001b[0m\u001b[0;34m,\u001b[0m \u001b[0my\u001b[0m\u001b[0;34m,\u001b[0m \u001b[0msample_weight\u001b[0m\u001b[0;34m,\u001b[0m \u001b[0mrandom_state\u001b[0m\u001b[0;34m\u001b[0m\u001b[0;34m\u001b[0m\u001b[0m\n\u001b[0m\u001b[1;32m    147\u001b[0m             )\n\u001b[1;32m    148\u001b[0m \u001b[0;34m\u001b[0m\u001b[0m\n",
            "\u001b[0;32m/usr/local/lib/python3.7/dist-packages/sklearn/ensemble/_weight_boosting.py\u001b[0m in \u001b[0;36m_boost\u001b[0;34m(self, iboost, X, y, sample_weight, random_state)\u001b[0m\n\u001b[1;32m    546\u001b[0m         \"\"\"\n\u001b[1;32m    547\u001b[0m         \u001b[0;32mif\u001b[0m \u001b[0mself\u001b[0m\u001b[0;34m.\u001b[0m\u001b[0malgorithm\u001b[0m \u001b[0;34m==\u001b[0m \u001b[0;34m\"SAMME.R\"\u001b[0m\u001b[0;34m:\u001b[0m\u001b[0;34m\u001b[0m\u001b[0;34m\u001b[0m\u001b[0m\n\u001b[0;32m--> 548\u001b[0;31m             \u001b[0;32mreturn\u001b[0m \u001b[0mself\u001b[0m\u001b[0;34m.\u001b[0m\u001b[0m_boost_real\u001b[0m\u001b[0;34m(\u001b[0m\u001b[0miboost\u001b[0m\u001b[0;34m,\u001b[0m \u001b[0mX\u001b[0m\u001b[0;34m,\u001b[0m \u001b[0my\u001b[0m\u001b[0;34m,\u001b[0m \u001b[0msample_weight\u001b[0m\u001b[0;34m,\u001b[0m \u001b[0mrandom_state\u001b[0m\u001b[0;34m)\u001b[0m\u001b[0;34m\u001b[0m\u001b[0;34m\u001b[0m\u001b[0m\n\u001b[0m\u001b[1;32m    549\u001b[0m \u001b[0;34m\u001b[0m\u001b[0m\n\u001b[1;32m    550\u001b[0m         \u001b[0;32melse\u001b[0m\u001b[0;34m:\u001b[0m  \u001b[0;31m# elif self.algorithm == \"SAMME\":\u001b[0m\u001b[0;34m\u001b[0m\u001b[0;34m\u001b[0m\u001b[0m\n",
            "\u001b[0;32m/usr/local/lib/python3.7/dist-packages/sklearn/ensemble/_weight_boosting.py\u001b[0m in \u001b[0;36m_boost_real\u001b[0;34m(self, iboost, X, y, sample_weight, random_state)\u001b[0m\n\u001b[1;32m    555\u001b[0m         \u001b[0mestimator\u001b[0m \u001b[0;34m=\u001b[0m \u001b[0mself\u001b[0m\u001b[0;34m.\u001b[0m\u001b[0m_make_estimator\u001b[0m\u001b[0;34m(\u001b[0m\u001b[0mrandom_state\u001b[0m\u001b[0;34m=\u001b[0m\u001b[0mrandom_state\u001b[0m\u001b[0;34m)\u001b[0m\u001b[0;34m\u001b[0m\u001b[0;34m\u001b[0m\u001b[0m\n\u001b[1;32m    556\u001b[0m \u001b[0;34m\u001b[0m\u001b[0m\n\u001b[0;32m--> 557\u001b[0;31m         \u001b[0mestimator\u001b[0m\u001b[0;34m.\u001b[0m\u001b[0mfit\u001b[0m\u001b[0;34m(\u001b[0m\u001b[0mX\u001b[0m\u001b[0;34m,\u001b[0m \u001b[0my\u001b[0m\u001b[0;34m,\u001b[0m \u001b[0msample_weight\u001b[0m\u001b[0;34m=\u001b[0m\u001b[0msample_weight\u001b[0m\u001b[0;34m)\u001b[0m\u001b[0;34m\u001b[0m\u001b[0;34m\u001b[0m\u001b[0m\n\u001b[0m\u001b[1;32m    558\u001b[0m \u001b[0;34m\u001b[0m\u001b[0m\n\u001b[1;32m    559\u001b[0m         \u001b[0my_predict_proba\u001b[0m \u001b[0;34m=\u001b[0m \u001b[0mestimator\u001b[0m\u001b[0;34m.\u001b[0m\u001b[0mpredict_proba\u001b[0m\u001b[0;34m(\u001b[0m\u001b[0mX\u001b[0m\u001b[0;34m)\u001b[0m\u001b[0;34m\u001b[0m\u001b[0;34m\u001b[0m\u001b[0m\n",
            "\u001b[0;32m/usr/local/lib/python3.7/dist-packages/sklearn/svm/_base.py\u001b[0m in \u001b[0;36mfit\u001b[0;34m(self, X, y, sample_weight)\u001b[0m\n\u001b[1;32m    253\u001b[0m \u001b[0;34m\u001b[0m\u001b[0m\n\u001b[1;32m    254\u001b[0m         \u001b[0mseed\u001b[0m \u001b[0;34m=\u001b[0m \u001b[0mrnd\u001b[0m\u001b[0;34m.\u001b[0m\u001b[0mrandint\u001b[0m\u001b[0;34m(\u001b[0m\u001b[0mnp\u001b[0m\u001b[0;34m.\u001b[0m\u001b[0miinfo\u001b[0m\u001b[0;34m(\u001b[0m\u001b[0;34m\"i\"\u001b[0m\u001b[0;34m)\u001b[0m\u001b[0;34m.\u001b[0m\u001b[0mmax\u001b[0m\u001b[0;34m)\u001b[0m\u001b[0;34m\u001b[0m\u001b[0;34m\u001b[0m\u001b[0m\n\u001b[0;32m--> 255\u001b[0;31m         \u001b[0mfit\u001b[0m\u001b[0;34m(\u001b[0m\u001b[0mX\u001b[0m\u001b[0;34m,\u001b[0m \u001b[0my\u001b[0m\u001b[0;34m,\u001b[0m \u001b[0msample_weight\u001b[0m\u001b[0;34m,\u001b[0m \u001b[0msolver_type\u001b[0m\u001b[0;34m,\u001b[0m \u001b[0mkernel\u001b[0m\u001b[0;34m,\u001b[0m \u001b[0mrandom_seed\u001b[0m\u001b[0;34m=\u001b[0m\u001b[0mseed\u001b[0m\u001b[0;34m)\u001b[0m\u001b[0;34m\u001b[0m\u001b[0;34m\u001b[0m\u001b[0m\n\u001b[0m\u001b[1;32m    256\u001b[0m         \u001b[0;31m# see comment on the other call to np.iinfo in this file\u001b[0m\u001b[0;34m\u001b[0m\u001b[0;34m\u001b[0m\u001b[0;34m\u001b[0m\u001b[0m\n\u001b[1;32m    257\u001b[0m \u001b[0;34m\u001b[0m\u001b[0m\n",
            "\u001b[0;32m/usr/local/lib/python3.7/dist-packages/sklearn/svm/_base.py\u001b[0m in \u001b[0;36m_dense_fit\u001b[0;34m(self, X, y, sample_weight, solver_type, kernel, random_seed)\u001b[0m\n\u001b[1;32m    331\u001b[0m             \u001b[0mepsilon\u001b[0m\u001b[0;34m=\u001b[0m\u001b[0mself\u001b[0m\u001b[0;34m.\u001b[0m\u001b[0mepsilon\u001b[0m\u001b[0;34m,\u001b[0m\u001b[0;34m\u001b[0m\u001b[0;34m\u001b[0m\u001b[0m\n\u001b[1;32m    332\u001b[0m             \u001b[0mmax_iter\u001b[0m\u001b[0;34m=\u001b[0m\u001b[0mself\u001b[0m\u001b[0;34m.\u001b[0m\u001b[0mmax_iter\u001b[0m\u001b[0;34m,\u001b[0m\u001b[0;34m\u001b[0m\u001b[0;34m\u001b[0m\u001b[0m\n\u001b[0;32m--> 333\u001b[0;31m             \u001b[0mrandom_seed\u001b[0m\u001b[0;34m=\u001b[0m\u001b[0mrandom_seed\u001b[0m\u001b[0;34m,\u001b[0m\u001b[0;34m\u001b[0m\u001b[0;34m\u001b[0m\u001b[0m\n\u001b[0m\u001b[1;32m    334\u001b[0m         )\n\u001b[1;32m    335\u001b[0m \u001b[0;34m\u001b[0m\u001b[0m\n",
            "\u001b[0;31mKeyboardInterrupt\u001b[0m: "
          ]
        }
      ]
    },
    {
      "cell_type": "markdown",
      "source": [
        "\n",
        "> # **Gradient Boost**\n",
        "\n",
        "\n"
      ],
      "metadata": {
        "id": "36XxcSYzj3SZ"
      }
    },
    {
      "cell_type": "code",
      "source": [
        "from sklearn.ensemble import GradientBoostingClassifier\n",
        "\n",
        "i=0\n",
        "for data in datas[:-1]:\n",
        "  X_train, X_test, y_train, y_test  = train_test_split(data.T, y_transf, test_size=0.33, random_state=0)\n",
        "  clf = GradientBoostingClassifier(n_estimators=100, learning_rate=1.0,\n",
        "                                   max_depth=1, random_state=0)\n",
        "\n",
        "  clf.fit(X_train, y_train)\n",
        "\n",
        "  y_pred = clf.predict(X_test)\n",
        "\n",
        "  print(\"\\nAcuracia:\", accuracy_score(y_test, y_pred)*100, \"%   Distancia:\", i)\n",
        "  i = i + 5"
      ],
      "metadata": {
        "colab": {
          "base_uri": "https://localhost:8080/"
        },
        "id": "Bw-WxHsTj-K1",
        "outputId": "92261f91-23c1-49db-9be5-7b9c3bb53bb2"
      },
      "execution_count": 64,
      "outputs": [
        {
          "output_type": "stream",
          "name": "stdout",
          "text": [
            "\n",
            "Acuracia: 100.0 %   Distancia: 0\n",
            "\n",
            "Acuracia: 100.0 %   Distancia: 5\n",
            "\n",
            "Acuracia: 100.0 %   Distancia: 10\n",
            "\n",
            "Acuracia: 100.0 %   Distancia: 15\n",
            "\n",
            "Acuracia: 100.0 %   Distancia: 20\n",
            "\n",
            "Acuracia: 99.98316498316498 %   Distancia: 25\n",
            "\n",
            "Acuracia: 100.0 %   Distancia: 30\n",
            "\n",
            "Acuracia: 100.0 %   Distancia: 35\n",
            "\n",
            "Acuracia: 100.0 %   Distancia: 40\n",
            "\n",
            "Acuracia: 100.0 %   Distancia: 45\n",
            "\n",
            "Acuracia: 100.0 %   Distancia: 50\n",
            "\n",
            "Acuracia: 99.94949494949495 %   Distancia: 55\n",
            "\n",
            "Acuracia: 99.8989898989899 %   Distancia: 60\n",
            "\n",
            "Acuracia: 99.62962962962963 %   Distancia: 65\n",
            "\n",
            "Acuracia: 99.56228956228956 %   Distancia: 70\n",
            "\n",
            "Acuracia: 99.19191919191918 %   Distancia: 75\n",
            "\n",
            "Acuracia: 98.1144781144781 %   Distancia: 80\n",
            "\n",
            "Acuracia: 97.60942760942761 %   Distancia: 85\n",
            "\n",
            "Acuracia: 97.57575757575758 %   Distancia: 90\n",
            "\n",
            "Acuracia: 95.77441077441078 %   Distancia: 95\n",
            "\n",
            "Acuracia: 94.68013468013467 %   Distancia: 100\n",
            "\n",
            "Acuracia: 92.15488215488216 %   Distancia: 105\n",
            "\n",
            "Acuracia: 90.26936026936026 %   Distancia: 110\n",
            "\n",
            "Acuracia: 88.61952861952862 %   Distancia: 115\n",
            "\n",
            "Acuracia: 86.43097643097644 %   Distancia: 120\n",
            "\n",
            "Acuracia: 82.92929292929293 %   Distancia: 125\n",
            "\n",
            "Acuracia: 81.78451178451178 %   Distancia: 130\n",
            "\n",
            "Acuracia: 78.73737373737374 %   Distancia: 135\n",
            "\n",
            "Acuracia: 77.7104377104377 %   Distancia: 140\n",
            "\n",
            "Acuracia: 75.47138047138047 %   Distancia: 145\n",
            "\n",
            "Acuracia: 72.996632996633 %   Distancia: 150\n",
            "\n",
            "Acuracia: 73.73737373737373 %   Distancia: 155\n",
            "\n",
            "Acuracia: 71.32996632996634 %   Distancia: 160\n",
            "\n",
            "Acuracia: 70.92592592592592 %   Distancia: 165\n",
            "\n",
            "Acuracia: 69.3097643097643 %   Distancia: 170\n",
            "\n",
            "Acuracia: 68.7037037037037 %   Distancia: 175\n",
            "\n",
            "Acuracia: 65.92592592592592 %   Distancia: 180\n"
          ]
        }
      ]
    }
  ]
}