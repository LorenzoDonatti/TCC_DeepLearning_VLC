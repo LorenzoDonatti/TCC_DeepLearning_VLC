{
  "nbformat": 4,
  "nbformat_minor": 0,
  "metadata": {
    "colab": {
      "provenance": [],
      "collapsed_sections": [
        "LYZE5qEGypBz",
        "rj3D3_h4BLvg"
      ],
      "authorship_tag": "ABX9TyMeJDZ82sJS4M8xHHiI7Czm",
      "include_colab_link": true
    },
    "kernelspec": {
      "name": "python3",
      "display_name": "Python 3"
    },
    "language_info": {
      "name": "python"
    }
  },
  "cells": [
    {
      "cell_type": "markdown",
      "metadata": {
        "id": "view-in-github",
        "colab_type": "text"
      },
      "source": [
        "<a href=\"https://colab.research.google.com/github/LorenzoDonatti/TCC_DeepLearning_VLC/blob/main/PPM_SVM_TCC.ipynb\" target=\"_parent\"><img src=\"https://colab.research.google.com/assets/colab-badge.svg\" alt=\"Open In Colab\"/></a>"
      ]
    },
    {
      "cell_type": "markdown",
      "source": [
        "# **ALGORITMOS DE DEEP LEARNING EM DATASETS DE COMUNICAÇÃO POR LUZ VISIVEL**\n",
        "\n",
        "---\n",
        "\n",
        "\n",
        "TRABALHO DE CONCLUSÃO DE CURSO DO ALUNO LORENZO MOREIRA DONATTI."
      ],
      "metadata": {
        "id": "hr-GNny0h06r"
      }
    },
    {
      "cell_type": "markdown",
      "source": [
        "# Funções que baixam arquivos Paralelamente\n",
        "\n",
        "---\n",
        "\n",
        "\n",
        "\n",
        "Caso nao seja possível utilizar a biblioteca Gdown na pasta especificada, este metodo de download deve ser utilizado."
      ],
      "metadata": {
        "id": "LYZE5qEGypBz"
      }
    },
    {
      "cell_type": "code",
      "source": [
        "#import requests\n",
        "#from multiprocessing import cpu_count\n",
        "#from multiprocessing.pool import ThreadPool\n",
        "\n",
        "#def download_paralel(args):\n",
        "#  cpus = cpu_count()\n",
        "#  results = ThreadPool(cpus - 1).imap_unordered(download_url, args)\n",
        "\n",
        "\n",
        "#def download_url(args):\n",
        "#  url, output = args[0], args[1]  \n",
        "#  try:\n",
        "#    gdown.download(url, output, quiet=False, fuzzy=True)\n",
        "#  except Exception as e:\n",
        "#    print(\"Problem downloading\", e) ''' \n"
      ],
      "metadata": {
        "id": "zqz2UjtkncBV"
      },
      "execution_count": 4,
      "outputs": []
    },
    {
      "cell_type": "code",
      "source": [
        "############ EXEMPLO DE CELULA PARA QUANDO O GDOWN NAO CONSEGUIR ACESSO AO FOLDER####################\n",
        "############ PROCESSO MANUAL ########################\n",
        "\n",
        "#from scipy.io import loadmat\n",
        "#import numpy as np\n",
        "#import pandas as pd\n",
        "#import gdown\n",
        "\n",
        "#urls = [\"https://drive.google.com/file/d/1dr6tI_XffRVehcLZByUX1JG476C4Lp7G/view?usp=sharing\", \n",
        "#        \"https://drive.google.com/file/d/1klSvkJVIViRFhDbxATzmu0Q1DALoWbJ4/view?usp=sharing\",\n",
        "#        \"https://drive.google.com/file/d/1IaVRZB8PtGCjSBZNgEoV-vFtqfndNdX2/view?usp=sharing\",\n",
        "#        \"https://drive.google.com/file/d/1XeMiywqTwJvyCFNYt3d5mdBNJmYoqZgt/view?usp=sharing\",\n",
        "#        \"https://drive.google.com/file/d/1DGKYFy5Ae0rqLqBozXUDY7EuIY0cbQdP/view?usp=sharing\",\n",
        "#        \"https://drive.google.com/file/d/1vPhsrgRWkv1V21lfyfx1BjIw8u4gj3XL/view?usp=sharing\",\n",
        "#        \"https://drive.google.com/file/d/1KQn4ljEl-6RRIDtv8a0muO8XvylmtYgh/view?usp=sharing\",\n",
        "#        \"https://drive.google.com/file/d/16KNK14QYCJTLHy0ytHlUJfXgZYfEodQ6/view?usp=sharing\",\n",
        "#        \"https://drive.google.com/file/d/1hQXpC6StuXM4gJDBiWi-ciIr2IMg00fz/view?usp=sharing\",\n",
        "#        \"https://drive.google.com/file/d/1aOvbkHgneQgWCP8ee95cuL834TU2u9lO/view?usp=sharing\",\n",
        "#        \"https://drive.google.com/file/d/1XHKMqqJqw4gVSKCB-4XXSo90z-C3qszE/view?usp=sharing\",\n",
        "#        \"https://drive.google.com/file/d/1pcJh6eRnifmh6F5HxSPZGIX_Z9n-B6bz/view?usp=sharing\",\n",
        "#        \"https://drive.google.com/file/d/1k6W4NTXfZvXEVQkZQmcITILCpYiHzB8a/view?usp=sharing\",\n",
        "#        \"https://drive.google.com/file/d/1TCWdZ22pKpy73F-mp2ZrsPnSqdYSvSEa/view?usp=sharing\",\n",
        "#        \"https://drive.google.com/file/d/1Wy015sMCoJJS1b8LsvIeiOLlQsrGzalD/view?usp=sharing\",\n",
        "#        \"https://drive.google.com/file/d/1KU10g1qWy8ZG3QcJJ6Yv0ubzlZQFuYeP/view?usp=sharing\",\n",
        "#        \"https://drive.google.com/file/d/1nYBUSSelA_L0LyIhTty8GcIkT2mYnw51/view?usp=sharing\",\n",
        "#        \"https://drive.google.com/file/d/1O99b7y3nzcv5je17DTjVRfPWKKfRm7Tb/view?usp=sharing\"]\n",
        "\n",
        "#outputs= [\"0cm.mat\", \"10cm.mat\", \"20cm.mat\", \"30cm.mat\", \"40cm.mat\", \"50cm.mat\", \"60cm.mat\", \"70cm.mat\", \"80cm.mat\", \"90cm.mat\", \"100cm.mat\", \n",
        "#          \"110cm.mat\", \"120cm.mat\", \"130cm.mat\", \"140cm.mat\", \"150cm.mat\", \"160cm.mat\", \"170cm.mat\", \"180cm.mat\", \"label.mat\"]       \n",
        "\n",
        "#inputs = zip(urls, outputs)\n",
        "\n",
        "#download_paralel(inputs)\n"
      ],
      "metadata": {
        "id": "V5u4tT29msD8"
      },
      "execution_count": 3,
      "outputs": []
    },
    {
      "cell_type": "markdown",
      "source": [
        "# Importação de Bibliotecas e Download da Pasta no Drive\n",
        "\n",
        "---\n",
        "Como o dataset foi baixado no GDrive, é possível baixar a pasta completa pela biblioteca gdown.\n",
        "Ela ainda fornece como saída, os diretórios de todos arquivos baixados (guardar em variavel)\n"
      ],
      "metadata": {
        "id": "Pak_KI9dzBMh"
      }
    },
    {
      "cell_type": "code",
      "source": [
        "from scipy.io import loadmat\n",
        "import numpy as np\n",
        "import pandas as pd\n",
        "import gdown\n",
        "\n",
        "teste = \"https://drive.google.com/drive/folders/1Ks4gE5vI5YetMdpm8mjY1UoduMumOhKl?usp=share_link\"\n",
        "output = gdown.download_folder(teste, quiet=True, use_cookies=False,)\n",
        "\n",
        "output"
      ],
      "metadata": {
        "id": "kL19aaCF0ZoB",
        "colab": {
          "base_uri": "https://localhost:8080/"
        },
        "outputId": "884683d2-acd2-47af-cf0a-6b8d2a5cac56"
      },
      "execution_count": null,
      "outputs": [
        {
          "output_type": "execute_result",
          "data": {
            "text/plain": [
              "['/content/32/0cm.mat',\n",
              " '/content/32/5cm.mat',\n",
              " '/content/32/10cm.mat',\n",
              " '/content/32/15cm.mat',\n",
              " '/content/32/20cm.mat',\n",
              " '/content/32/25cm.mat',\n",
              " '/content/32/30cm.mat',\n",
              " '/content/32/35cm.mat',\n",
              " '/content/32/40cm.mat',\n",
              " '/content/32/45cm.mat',\n",
              " '/content/32/50cm.mat',\n",
              " '/content/32/55cm.mat',\n",
              " '/content/32/60cm.mat',\n",
              " '/content/32/65cm.mat',\n",
              " '/content/32/70cm.mat',\n",
              " '/content/32/75cm.mat',\n",
              " '/content/32/80cm.mat',\n",
              " '/content/32/85cm.mat',\n",
              " '/content/32/90cm.mat',\n",
              " '/content/32/95cm.mat',\n",
              " '/content/32/100cm.mat',\n",
              " '/content/32/105cm.mat',\n",
              " '/content/32/110cm.mat',\n",
              " '/content/32/115cm.mat',\n",
              " '/content/32/120cm.mat',\n",
              " '/content/32/125cm.mat',\n",
              " '/content/32/130cm.mat',\n",
              " '/content/32/135cm.mat',\n",
              " '/content/32/140cm.mat',\n",
              " '/content/32/145cm.mat',\n",
              " '/content/32/150cm.mat',\n",
              " '/content/32/155cm.mat',\n",
              " '/content/32/160cm.mat',\n",
              " '/content/32/165cm.mat',\n",
              " '/content/32/170cm.mat',\n",
              " '/content/32/175cm.mat',\n",
              " '/content/32/180cm.mat',\n",
              " '/content/32/label.mat']"
            ]
          },
          "metadata": {},
          "execution_count": 1
        }
      ]
    },
    {
      "cell_type": "markdown",
      "source": [
        "# Abrindo arquivos .mat e identificando seu cabeçalho\n",
        "\n",
        "---\n",
        "\n",
        "\n",
        "\n",
        "Para a abertura de arquivos .mat foi necessário o módulo loadmat da biblioteca scipy.io. A função retorna um dicionário com diferentes Headers, onde apenas o ultimo será utilizado. \n",
        "\n",
        "Como todos arquivos da pasta serão abertos, o conteúdo de cada arquivo será guardado em uma posição de uma lista.\n",
        "\n",
        "Os labels (saida y) estarão na ultima posição da lista "
      ],
      "metadata": {
        "id": "o1biG79y1dki"
      }
    },
    {
      "cell_type": "code",
      "source": [
        "########### ESSE PROCESSO É SUBSTITUIDO###########\n",
        "exemplo = loadmat('/content/32/label.mat')\n",
        "print(exemplo)\n",
        "\n",
        "exemplo = exemplo['org_label']\n",
        "print(exemplo)\n",
        "\n",
        "########### POR ESSE PROCESSO ################\n",
        "exemplo_otim = loadmat('/content/32/label.mat')\n",
        "exemplo_otim = exemplo_otim[list(exemplo_otim.keys())[-1]]\n",
        "print(exemplo_otim)"
      ],
      "metadata": {
        "colab": {
          "base_uri": "https://localhost:8080/"
        },
        "id": "n29rjr7Z2HWj",
        "outputId": "312fde40-28f0-4bab-91c5-e432bb6b68c3"
      },
      "execution_count": null,
      "outputs": [
        {
          "output_type": "stream",
          "name": "stdout",
          "text": [
            "{'__header__': b'MATLAB 5.0 MAT-file, Platform: PCWIN, Created on: Thu Jul 26 21:03:04 2018', '__version__': '1.0', '__globals__': [], 'org_label': array([[2, 2, 2, ..., 2, 1, 2]], dtype=uint8)}\n",
            "[[2 2 2 ... 2 1 2]]\n",
            "[[2 2 2 ... 2 1 2]]\n"
          ]
        }
      ]
    },
    {
      "cell_type": "code",
      "source": [
        "datas = []\n",
        "\n",
        "for o in output:\n",
        "  data_test = loadmat(o)\n",
        "  data_test = data_test[list(data_test.keys())[-1]]\n",
        "  datas.append(data_test)\n",
        "\n",
        "print(datas[-1], datas[0])"
      ],
      "metadata": {
        "colab": {
          "base_uri": "https://localhost:8080/"
        },
        "id": "ChIrJCfe1bIZ",
        "outputId": "30e86fed-78b0-439b-dcea-bc24ec2461aa"
      },
      "execution_count": null,
      "outputs": [
        {
          "output_type": "stream",
          "name": "stdout",
          "text": [
            "[[2 2 2 ... 2 1 2]] [[0.54901961 0.39215686 0.43137255 ... 0.54901961 0.37254902 0.50980392]\n",
            " [0.50980392 0.41176471 0.43137255 ... 0.56862745 0.41176471 0.52941176]\n",
            " [0.52941176 0.43137255 0.45098039 ... 0.54901961 0.41176471 0.52941176]\n",
            " ...\n",
            " [0.31372549 0.37254902 0.33333333 ... 0.31372549 0.47058824 0.31372549]\n",
            " [0.31372549 0.39215686 0.39215686 ... 0.31372549 0.50980392 0.35294118]\n",
            " [0.37254902 0.39215686 0.39215686 ... 0.35294118 0.50980392 0.37254902]]\n"
          ]
        }
      ]
    },
    {
      "cell_type": "markdown",
      "source": [
        "# Preparação dos dados e Codificação dos valores Numéricos\n",
        "\n",
        "---\n",
        "É necessário codificar os dados em duas situações, quando forem categóricos (não numéricos) e quando estiverem com valores numéricos diferentes do escopo entre 0 e 1, a biblioteca sklearn fornece duas funções de fácil utilização e bem otimizadas.\n",
        "\n",
        "Basicamente é feito um casting para int e após uma normalização dos dados.\n",
        "\n",
        "Além disso, os dados do dataset vêm com o shape (1,x), e nosso modelo de machine learning somente aceitará vetores como parâmetro de saída, sendo necessário Transpor nossa estrutura.\n",
        "\n",
        "Também, a função flatten é necessária para transformar a estrutura em um vetor de 1D.\n",
        "\n"
      ],
      "metadata": {
        "id": "AsPB83PKznzI"
      }
    },
    {
      "cell_type": "code",
      "source": [
        "print(\"Formatos originais dos dados: \\n\", datas[-1].shape, datas[0].shape, type(datas[-1]))\n",
        "\n",
        "print(\"\\nFormatos Transpostos dos dados: \\n\", datas[-1].T.shape, datas[0].T.shape)\n",
        "\n",
        "print(\"\\nUtilização do flatten: \\n\", datas[-1].flatten().shape)\n",
        "\n",
        "print(\"\\nDados sem flatten: \\n\", datas[-1].T, \"\\nDados com flatten: \\n\", datas[-1].flatten())"
      ],
      "metadata": {
        "colab": {
          "base_uri": "https://localhost:8080/"
        },
        "id": "GrHXqfPw8fG5",
        "outputId": "4568674d-679b-4784-aa45-03e40368adef"
      },
      "execution_count": null,
      "outputs": [
        {
          "output_type": "stream",
          "name": "stdout",
          "text": [
            "Formatos originais dos dados: \n",
            " (1, 22500) (32, 22500) <class 'numpy.ndarray'>\n",
            "\n",
            "Formatos Transpostos dos dados: \n",
            " (22500, 1) (22500, 32)\n",
            "\n",
            "Utilização do flatten: \n",
            " (22500,)\n",
            "\n",
            "Dados sem flatten: \n",
            " [[2]\n",
            " [2]\n",
            " [2]\n",
            " ...\n",
            " [2]\n",
            " [1]\n",
            " [2]] \n",
            "Dados com flatten: \n",
            " [2 2 2 ... 2 1 2]\n"
          ]
        }
      ]
    },
    {
      "cell_type": "code",
      "source": [
        "from sklearn import preprocessing\n",
        "from sklearn import utils\n",
        "\n",
        "lab = preprocessing.LabelEncoder()\n",
        "y_transf = lab.fit_transform(datas[-1].flatten())\n",
        "\n",
        "print(y_transf)"
      ],
      "metadata": {
        "colab": {
          "base_uri": "https://localhost:8080/"
        },
        "id": "cEuvXZYPAaIq",
        "outputId": "24b26b33-d89e-4690-845c-b3bc436a8b4e"
      },
      "execution_count": null,
      "outputs": [
        {
          "output_type": "stream",
          "name": "stdout",
          "text": [
            "[2 2 2 ... 2 1 2]\n"
          ]
        }
      ]
    },
    {
      "cell_type": "markdown",
      "source": [
        "# Embaralhamento dos Dados\n",
        "\n",
        "---\n",
        "\n",
        "Começo da implementação de uma função que embaralha os dados em grupos simultaneamente, sem perder a ordem. Será implementado no futuro.\n",
        "\n",
        "Talvez não seja necessário pois o dataset não possui \"dados viciados\", porém, é uma boa prática embaralhar dados."
      ],
      "metadata": {
        "id": "rj3D3_h4BLvg"
      }
    },
    {
      "cell_type": "code",
      "source": [
        "''' FUNÇÃO QUE EMBARALHA\n",
        "def shuffle_list_matrix(lista, matriz):\n",
        "  for i in range(len(lista)):\n",
        "    j = np.random.randint(0,2)\n",
        "    temp_list, temp_matriz = lista[i], matriz[i,:]\n",
        "    lista[i], matriz[i,:] = lista[j], matriz[j,:]\n",
        "    lista[j], matriz[j,:] = temp_list, temp_matriz\n",
        "\n",
        "  return (lista, matriz)    \n",
        "'''\n",
        "\n",
        "''' NECESSARIO IMPLEMENTAR SHUFFLE MAIS ALEM\n",
        "for i in range(len(data)):\n",
        "  j = np.random.randint(0,len(data))\n",
        "  templ, tempm = data[i], np.copy(data2[i,:])\n",
        "  data[i], data2[i,:] = data[j], data2[j,:]\n",
        "  data[j], data2[j,:] = templ, tempm\n",
        "\n",
        "print(data)'''"
      ],
      "metadata": {
        "colab": {
          "base_uri": "https://localhost:8080/"
        },
        "id": "hksPGjq4BdpB",
        "outputId": "103529aa-fd44-473e-de57-9501172b4fcf"
      },
      "execution_count": null,
      "outputs": [
        {
          "output_type": "stream",
          "name": "stdout",
          "text": [
            "[[1 0 1 ... 1 1 1]]\n"
          ]
        }
      ]
    },
    {
      "cell_type": "markdown",
      "source": [
        "# Modelo de Machine Learning (SVM)\n",
        "\n",
        "---\n",
        "\n",
        "As máquinas de vetores de suporte foram obtidas através da biblioteca scikitlearn, com o seguinte procedimento:\n",
        "\n",
        "Como os valores que serão utilizados estão dentro de uma lista, foi necessário um laço de repetição, que percorrerá do inicio até o penultimo valor (ignorando o label, pois será a saída)\n",
        "\n",
        "O primeiro passo é separar os dados de treino e os dados de teste, seria necessária a normalização, porém os dados do dataset já estão normalizados.\n"
      ],
      "metadata": {
        "id": "rH4G7ZfB1Tvd"
      }
    },
    {
      "cell_type": "code",
      "source": [
        "#Separação do conjunto de dados e testes e normalização\n",
        "from sklearn.model_selection import train_test_split\n",
        "from sklearn.svm import SVC\n",
        "from sklearn.metrics import accuracy_score\n",
        "\n",
        "i=0\n",
        "for data in datas[:-1]:\n",
        "  X_train, X_test, y_train, y_test  = train_test_split(data.T, y_transf, test_size=0.33, random_state=0)\n",
        "\n",
        "  ######################NORMALIZAÇÃO NAO É NECESSÁRIO POIS OS DADOS ESTAO NORMALIZADOS#################################\n",
        "  #sc = MinMaxScaler()\n",
        "  #X_train = sc.fit_transform(X_train)\n",
        "  #X_test = sc.transform(X_test)\n",
        "  #####################################################################################################################\n",
        "\n",
        "  classifier = SVC(kernel = 'linear', decision_function_shape='ovo')\n",
        "  classifier.fit(X_train, y_train)\n",
        "\n",
        "  y_pred = classifier.predict(X_test)\n",
        "  print(\"\\nAcuracia:\", accuracy_score(y_test, y_pred)*100, \"%   Distancia:\", i)\n",
        "  i = i + 5"
      ],
      "metadata": {
        "colab": {
          "base_uri": "https://localhost:8080/"
        },
        "id": "gO5LmxIqv1sZ",
        "outputId": "5ad2ce83-8610-4097-e368-92a5f6281582"
      },
      "execution_count": null,
      "outputs": [
        {
          "output_type": "stream",
          "name": "stdout",
          "text": [
            "\n",
            "Acuracia: 100.0 %   Distancia: 0\n",
            "\n",
            "Acuracia: 100.0 %   Distancia: 5\n",
            "\n",
            "Acuracia: 100.0 %   Distancia: 10\n",
            "\n",
            "Acuracia: 100.0 %   Distancia: 15\n",
            "\n",
            "Acuracia: 100.0 %   Distancia: 20\n",
            "\n",
            "Acuracia: 100.0 %   Distancia: 25\n",
            "\n",
            "Acuracia: 100.0 %   Distancia: 30\n",
            "\n",
            "Acuracia: 100.0 %   Distancia: 35\n",
            "\n",
            "Acuracia: 100.0 %   Distancia: 40\n",
            "\n",
            "Acuracia: 100.0 %   Distancia: 45\n",
            "\n",
            "Acuracia: 100.0 %   Distancia: 50\n",
            "\n",
            "Acuracia: 100.0 %   Distancia: 55\n",
            "\n",
            "Acuracia: 100.0 %   Distancia: 60\n",
            "\n",
            "Acuracia: 100.0 %   Distancia: 65\n",
            "\n",
            "Acuracia: 100.0 %   Distancia: 70\n",
            "\n",
            "Acuracia: 100.0 %   Distancia: 75\n",
            "\n",
            "Acuracia: 100.0 %   Distancia: 80\n",
            "\n",
            "Acuracia: 99.97306397306397 %   Distancia: 85\n",
            "\n",
            "Acuracia: 99.95959595959596 %   Distancia: 90\n",
            "\n",
            "Acuracia: 99.85185185185185 %   Distancia: 95\n",
            "\n",
            "Acuracia: 99.5016835016835 %   Distancia: 100\n",
            "\n",
            "Acuracia: 99.36700336700338 %   Distancia: 105\n",
            "\n",
            "Acuracia: 98.1010101010101 %   Distancia: 110\n",
            "\n",
            "Acuracia: 96.70033670033669 %   Distancia: 115\n",
            "\n",
            "Acuracia: 95.003367003367 %   Distancia: 120\n",
            "\n",
            "Acuracia: 92.56565656565657 %   Distancia: 125\n",
            "\n",
            "Acuracia: 89.6969696969697 %   Distancia: 130\n",
            "\n",
            "Acuracia: 87.58249158249158 %   Distancia: 135\n",
            "\n",
            "Acuracia: 84.51178451178451 %   Distancia: 140\n",
            "\n",
            "Acuracia: 82.55892255892256 %   Distancia: 145\n",
            "\n",
            "Acuracia: 79.67676767676768 %   Distancia: 150\n",
            "\n",
            "Acuracia: 76.32323232323233 %   Distancia: 155\n",
            "\n",
            "Acuracia: 74.84175084175084 %   Distancia: 160\n",
            "\n",
            "Acuracia: 72.26936026936028 %   Distancia: 165\n",
            "\n",
            "Acuracia: 69.81818181818183 %   Distancia: 170\n",
            "\n",
            "Acuracia: 67.0976430976431 %   Distancia: 175\n",
            "\n",
            "Acuracia: 65.0909090909091 %   Distancia: 180\n"
          ]
        }
      ]
    }
  ]
}